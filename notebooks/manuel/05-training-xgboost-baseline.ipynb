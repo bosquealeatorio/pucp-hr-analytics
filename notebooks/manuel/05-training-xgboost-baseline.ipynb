{
 "cells": [
  {
   "cell_type": "markdown",
   "metadata": {},
   "source": [
    "# HR Analytics\n",
    "\n",
    "<img src = 'https://datahack-prod.s3.ap-south-1.amazonaws.com/__sized__/contest_cover/hr_1920x480_s5WuoZs-thumbnail-1200x1200-90.jpg'>\n",
    "\n",
    "Practice Problem: https://datahack.analyticsvidhya.com/contest/wns-analytics-hackathon-2018-1/"
   ]
  },
  {
   "cell_type": "markdown",
   "metadata": {},
   "source": [
    "## HR Analytics\n",
    "\n",
    "HR analytics is revolutionising the way human resources departments operate, leading to higher efficiency and better results overall. Human resources has been using analytics for years. However, the collection, processing and analysis of data has been largely manual, and given the nature of human resources dynamics and HR KPIs, the approach has been constraining HR. Therefore, it is surprising that HR departments woke up to the utility of machine learning so late in the game. Here is an opportunity to try predictive analytics in identifying the employees most likely to get promoted."
   ]
  },
  {
   "cell_type": "markdown",
   "metadata": {},
   "source": [
    "## Problem Statement\n",
    "\n",
    "Your client is a large MNC and they have 9 broad verticals across the organisation. One of the problem your client is facing is around identifying the right people for promotion *(only for manager position and below)* and prepare them in time. Currently the process, they are following is:\n",
    "\n",
    "* They first identify a set of employees based on recommendations/ past performance\n",
    "* Selected employees go through the separate training and evaluation program for each vertical. These programs are based on the required skill of each vertical\n",
    "* At the end of the program, based on various factors such as training performance, KPI completion (only employees with KPIs completed greater than 60% are considered) etc., employee gets promotion\n",
    "\n",
    "For above mentioned process, the final promotions are only announced after the evaluation and this leads to delay in transition to their new roles. Hence, company needs your help in identifying the eligible candidates at a particular checkpoint so that they can expedite the entire promotion cycle. "
   ]
  },
  {
   "cell_type": "markdown",
   "metadata": {},
   "source": [
    "<img src = 'https://s3-ap-south-1.amazonaws.com/av-blog-media/wp-content/uploads/2018/09/wns_hack_im_1.jpg'>"
   ]
  },
  {
   "cell_type": "markdown",
   "metadata": {},
   "source": [
    "They have provided multiple attributes around Employee's past and current performance along with demographics. Now, The task is to predict whether a potential promotee at checkpoint in the test set will be promoted or not after the evaluation process."
   ]
  },
  {
   "cell_type": "markdown",
   "metadata": {},
   "source": [
    "## Evaluation Metric\n",
    "\n",
    "The evaluation metric for this competition is F1 Score.\n",
    "\n",
    "## Public and Private Split\n",
    "\n",
    "Test data is further randomly divided into Public (40%) and Private (60%) data.\n",
    "\n",
    "Your initial responses will be checked and scored on the Public data.\n",
    "The final rankings would be based on your private score which will be published once the competition is over."
   ]
  },
  {
   "cell_type": "markdown",
   "metadata": {},
   "source": [
    "## Entorno"
   ]
  },
  {
   "cell_type": "code",
   "execution_count": 1,
   "metadata": {},
   "outputs": [
    {
     "data": {
      "text/plain": [
       "'3.6.12 |Anaconda, Inc.| (default, Sep  8 2020, 17:50:39) \\n[GCC Clang 10.0.0 ]'"
      ]
     },
     "execution_count": 1,
     "metadata": {},
     "output_type": "execute_result"
    }
   ],
   "source": [
    "import sys\n",
    "sys.version"
   ]
  },
  {
   "cell_type": "code",
   "execution_count": 2,
   "metadata": {},
   "outputs": [
    {
     "name": "stdout",
     "output_type": "stream",
     "text": [
      "# conda environments:\n",
      "#\n",
      "micromaster              /Users/manuel/.conda/envs/micromaster\n",
      "                         /Users/manuel/.julia/conda/3\n",
      "base                  *  /Users/manuel/opt/anaconda3\n",
      "belcorp                  /Users/manuel/opt/anaconda3/envs/belcorp\n",
      "courseragcp              /Users/manuel/opt/anaconda3/envs/courseragcp\n",
      "iapucp                   /Users/manuel/opt/anaconda3/envs/iapucp\n",
      "mitxpro                  /Users/manuel/opt/anaconda3/envs/mitxpro\n",
      "style-transfer           /Users/manuel/opt/anaconda3/envs/style-transfer\n",
      "taller-dmc               /Users/manuel/opt/anaconda3/envs/taller-dmc\n",
      "udacity                  /Users/manuel/opt/anaconda3/envs/udacity\n",
      "\n"
     ]
    }
   ],
   "source": [
    "!conda info --envs"
   ]
  },
  {
   "cell_type": "markdown",
   "metadata": {},
   "source": [
    "## Paquetes"
   ]
  },
  {
   "cell_type": "code",
   "execution_count": 3,
   "metadata": {},
   "outputs": [],
   "source": [
    "%load_ext autoreload\n",
    "%autoreload 2\n",
    "%matplotlib inline\n",
    "%config InlineBackend.figure_format = 'retina'\n",
    "\n",
    "import os\n",
    "import numpy as np\n",
    "import pandas as pd\n",
    "import sklearn\n",
    "import matplotlib.pyplot as plt\n",
    "import seaborn as sns\n",
    "from tqdm import tqdm, tqdm_notebook\n",
    "from pathlib import Path\n",
    "import random\n",
    "import warnings\n",
    "import pickle\n",
    "\n",
    "warnings.filterwarnings('ignore')\n",
    "\n",
    "\n",
    "seed = 2020\n",
    "random.seed(seed)\n",
    "\n",
    "pd.set_option('display.max_columns', 1000)\n",
    "pd.set_option('display.max_rows', 400)\n",
    "sns.set()\n",
    "\n",
    "DATA = Path('../../data') \n",
    "RAW  = DATA/'raw'\n",
    "PROCESSED = DATA/'processed'\n",
    "SUBMISSIONS = DATA/'submissions'    \n",
    "\n",
    "MODEL = Path('../../model') "
   ]
  },
  {
   "cell_type": "code",
   "execution_count": 4,
   "metadata": {},
   "outputs": [
    {
     "data": {
      "text/plain": [
       "'1.1.3'"
      ]
     },
     "execution_count": 4,
     "metadata": {},
     "output_type": "execute_result"
    }
   ],
   "source": [
    "pd.__version__"
   ]
  },
  {
   "cell_type": "code",
   "execution_count": 5,
   "metadata": {},
   "outputs": [
    {
     "data": {
      "text/plain": [
       "'1.19.1'"
      ]
     },
     "execution_count": 5,
     "metadata": {},
     "output_type": "execute_result"
    }
   ],
   "source": [
    "np.__version__"
   ]
  },
  {
   "cell_type": "code",
   "execution_count": 6,
   "metadata": {},
   "outputs": [
    {
     "data": {
      "text/plain": [
       "'0.23.2'"
      ]
     },
     "execution_count": 6,
     "metadata": {},
     "output_type": "execute_result"
    }
   ],
   "source": [
    "sklearn.__version__"
   ]
  },
  {
   "cell_type": "markdown",
   "metadata": {},
   "source": [
    "## Lectura de datos"
   ]
  },
  {
   "cell_type": "code",
   "execution_count": 7,
   "metadata": {},
   "outputs": [
    {
     "data": {
      "text/plain": [
       "['preprocess_v2_knnimputation.pkl',\n",
       " 'preprocess_v2_over50_train.csv',\n",
       " 'preprocess_v2_ohe.pkl',\n",
       " 'preprocess_v2_ohe_columns.pkl',\n",
       " '.DS_Store',\n",
       " 'preprocess_v2_scalerimputation.pkl',\n",
       " 'preprocess_v1_ohe.pkl',\n",
       " 'preprocess_v2_scaler.pkl',\n",
       " 'preprocess_v1_train.csv',\n",
       " 'preprocess_v1_ohe_columns.pkl',\n",
       " 'preprocess_v2_under50_train.csv',\n",
       " 'preprocess_v2_train.csv',\n",
       " 'preprocess_v1_scaler.pkl',\n",
       " 'preprocess_v2_val.csv',\n",
       " '.ipynb_checkpoints',\n",
       " 'preprocess_v1_impute_values.pkl',\n",
       " 'preprocess_v1_over50_train.csv',\n",
       " 'preprocess_v1_capping_values.pkl',\n",
       " 'preprocess_v1_val.csv',\n",
       " 'preprocess_v1_under50_train.csv',\n",
       " 'preprocess_v2_capping_values.pkl']"
      ]
     },
     "execution_count": 7,
     "metadata": {},
     "output_type": "execute_result"
    }
   ],
   "source": [
    "os.listdir(f'{PROCESSED}')"
   ]
  },
  {
   "cell_type": "markdown",
   "metadata": {},
   "source": [
    "## Entrenamiento V1 sin balanceo"
   ]
  },
  {
   "cell_type": "code",
   "execution_count": 8,
   "metadata": {},
   "outputs": [],
   "source": [
    "df_train = pd.read_csv(f'{PROCESSED}/preprocess_v1_train.csv', compression = 'zip')\n",
    "df_val = pd.read_csv(f'{PROCESSED}/preprocess_v1_val.csv', compression = 'zip')"
   ]
  },
  {
   "cell_type": "code",
   "execution_count": 9,
   "metadata": {},
   "outputs": [
    {
     "data": {
      "text/html": [
       "<div>\n",
       "<style scoped>\n",
       "    .dataframe tbody tr th:only-of-type {\n",
       "        vertical-align: middle;\n",
       "    }\n",
       "\n",
       "    .dataframe tbody tr th {\n",
       "        vertical-align: top;\n",
       "    }\n",
       "\n",
       "    .dataframe thead th {\n",
       "        text-align: right;\n",
       "    }\n",
       "</style>\n",
       "<table border=\"1\" class=\"dataframe\">\n",
       "  <thead>\n",
       "    <tr style=\"text-align: right;\">\n",
       "      <th></th>\n",
       "      <th>no_of_trainings</th>\n",
       "      <th>age</th>\n",
       "      <th>previous_year_rating</th>\n",
       "      <th>length_of_service</th>\n",
       "      <th>KPIs_met &gt;80%</th>\n",
       "      <th>awards_won?</th>\n",
       "      <th>avg_training_score</th>\n",
       "      <th>na_previous_year_rating</th>\n",
       "      <th>na_education</th>\n",
       "      <th>department_Analytics</th>\n",
       "      <th>department_Finance</th>\n",
       "      <th>department_HR</th>\n",
       "      <th>department_Legal</th>\n",
       "      <th>department_Operations</th>\n",
       "      <th>department_Procurement</th>\n",
       "      <th>department_R&amp;D</th>\n",
       "      <th>department_Sales &amp; Marketing</th>\n",
       "      <th>department_Technology</th>\n",
       "      <th>region_region_1</th>\n",
       "      <th>region_region_10</th>\n",
       "      <th>region_region_11</th>\n",
       "      <th>region_region_12</th>\n",
       "      <th>region_region_13</th>\n",
       "      <th>region_region_14</th>\n",
       "      <th>region_region_15</th>\n",
       "      <th>region_region_16</th>\n",
       "      <th>region_region_17</th>\n",
       "      <th>region_region_18</th>\n",
       "      <th>region_region_19</th>\n",
       "      <th>region_region_2</th>\n",
       "      <th>region_region_20</th>\n",
       "      <th>region_region_21</th>\n",
       "      <th>region_region_22</th>\n",
       "      <th>region_region_23</th>\n",
       "      <th>region_region_24</th>\n",
       "      <th>region_region_25</th>\n",
       "      <th>region_region_26</th>\n",
       "      <th>region_region_27</th>\n",
       "      <th>region_region_28</th>\n",
       "      <th>region_region_29</th>\n",
       "      <th>region_region_3</th>\n",
       "      <th>region_region_30</th>\n",
       "      <th>region_region_31</th>\n",
       "      <th>region_region_32</th>\n",
       "      <th>region_region_33</th>\n",
       "      <th>region_region_34</th>\n",
       "      <th>region_region_4</th>\n",
       "      <th>region_region_5</th>\n",
       "      <th>region_region_6</th>\n",
       "      <th>region_region_7</th>\n",
       "      <th>region_region_8</th>\n",
       "      <th>region_region_9</th>\n",
       "      <th>education_Bachelor's</th>\n",
       "      <th>education_Below Secondary</th>\n",
       "      <th>education_Master's &amp; above</th>\n",
       "      <th>gender_f</th>\n",
       "      <th>gender_m</th>\n",
       "      <th>recruitment_channel_other</th>\n",
       "      <th>recruitment_channel_referred</th>\n",
       "      <th>recruitment_channel_sourcing</th>\n",
       "      <th>is_promoted</th>\n",
       "    </tr>\n",
       "  </thead>\n",
       "  <tbody>\n",
       "    <tr>\n",
       "      <th>0</th>\n",
       "      <td>-0.431999</td>\n",
       "      <td>0.544625</td>\n",
       "      <td>1.375360</td>\n",
       "      <td>-0.448068</td>\n",
       "      <td>1.356651</td>\n",
       "      <td>-0.153163</td>\n",
       "      <td>-0.328225</td>\n",
       "      <td>-0.284445</td>\n",
       "      <td>-0.212536</td>\n",
       "      <td>-0.32894</td>\n",
       "      <td>-0.220673</td>\n",
       "      <td>-0.21574</td>\n",
       "      <td>-0.137364</td>\n",
       "      <td>1.961378</td>\n",
       "      <td>-0.387219</td>\n",
       "      <td>-0.135368</td>\n",
       "      <td>-0.666307</td>\n",
       "      <td>-0.387881</td>\n",
       "      <td>-0.106419</td>\n",
       "      <td>-0.110615</td>\n",
       "      <td>-0.155332</td>\n",
       "      <td>-0.094979</td>\n",
       "      <td>-0.222429</td>\n",
       "      <td>-0.125042</td>\n",
       "      <td>4.300672</td>\n",
       "      <td>-0.166592</td>\n",
       "      <td>-0.122189</td>\n",
       "      <td>-0.024823</td>\n",
       "      <td>-0.126818</td>\n",
       "      <td>-0.537077</td>\n",
       "      <td>-0.125886</td>\n",
       "      <td>-0.085878</td>\n",
       "      <td>-0.363769</td>\n",
       "      <td>-0.148817</td>\n",
       "      <td>-0.096073</td>\n",
       "      <td>-0.123338</td>\n",
       "      <td>-0.205222</td>\n",
       "      <td>-0.177348</td>\n",
       "      <td>-0.157475</td>\n",
       "      <td>-0.137364</td>\n",
       "      <td>-0.080456</td>\n",
       "      <td>-0.10934</td>\n",
       "      <td>-0.193472</td>\n",
       "      <td>-0.130933</td>\n",
       "      <td>-0.071013</td>\n",
       "      <td>-0.071175</td>\n",
       "      <td>-0.180403</td>\n",
       "      <td>-0.12103</td>\n",
       "      <td>-0.111771</td>\n",
       "      <td>-0.31312</td>\n",
       "      <td>-0.112084</td>\n",
       "      <td>-0.089315</td>\n",
       "      <td>0.634349</td>\n",
       "      <td>-0.120154</td>\n",
       "      <td>-0.612337</td>\n",
       "      <td>-0.651463</td>\n",
       "      <td>0.651463</td>\n",
       "      <td>-1.120159</td>\n",
       "      <td>-0.145991</td>\n",
       "      <td>1.168798</td>\n",
       "      <td>0</td>\n",
       "    </tr>\n",
       "    <tr>\n",
       "      <th>1</th>\n",
       "      <td>-0.431999</td>\n",
       "      <td>1.587188</td>\n",
       "      <td>-0.273747</td>\n",
       "      <td>-0.693649</td>\n",
       "      <td>-0.737109</td>\n",
       "      <td>-0.153163</td>\n",
       "      <td>0.270731</td>\n",
       "      <td>-0.284445</td>\n",
       "      <td>-0.212536</td>\n",
       "      <td>-0.32894</td>\n",
       "      <td>-0.220673</td>\n",
       "      <td>-0.21574</td>\n",
       "      <td>-0.137364</td>\n",
       "      <td>-0.509846</td>\n",
       "      <td>2.582520</td>\n",
       "      <td>-0.135368</td>\n",
       "      <td>-0.666307</td>\n",
       "      <td>-0.387881</td>\n",
       "      <td>-0.106419</td>\n",
       "      <td>-0.110615</td>\n",
       "      <td>-0.155332</td>\n",
       "      <td>-0.094979</td>\n",
       "      <td>-0.222429</td>\n",
       "      <td>-0.125042</td>\n",
       "      <td>-0.232522</td>\n",
       "      <td>-0.166592</td>\n",
       "      <td>8.184027</td>\n",
       "      <td>-0.024823</td>\n",
       "      <td>-0.126818</td>\n",
       "      <td>-0.537077</td>\n",
       "      <td>-0.125886</td>\n",
       "      <td>-0.085878</td>\n",
       "      <td>-0.363769</td>\n",
       "      <td>-0.148817</td>\n",
       "      <td>-0.096073</td>\n",
       "      <td>-0.123338</td>\n",
       "      <td>-0.205222</td>\n",
       "      <td>-0.177348</td>\n",
       "      <td>-0.157475</td>\n",
       "      <td>-0.137364</td>\n",
       "      <td>-0.080456</td>\n",
       "      <td>-0.10934</td>\n",
       "      <td>-0.193472</td>\n",
       "      <td>-0.130933</td>\n",
       "      <td>-0.071013</td>\n",
       "      <td>-0.071175</td>\n",
       "      <td>-0.180403</td>\n",
       "      <td>-0.12103</td>\n",
       "      <td>-0.111771</td>\n",
       "      <td>-0.31312</td>\n",
       "      <td>-0.112084</td>\n",
       "      <td>-0.089315</td>\n",
       "      <td>-1.576419</td>\n",
       "      <td>-0.120154</td>\n",
       "      <td>1.633087</td>\n",
       "      <td>1.535007</td>\n",
       "      <td>-1.535007</td>\n",
       "      <td>-1.120159</td>\n",
       "      <td>-0.145991</td>\n",
       "      <td>1.168798</td>\n",
       "      <td>0</td>\n",
       "    </tr>\n",
       "    <tr>\n",
       "      <th>2</th>\n",
       "      <td>-0.431999</td>\n",
       "      <td>3.020713</td>\n",
       "      <td>-0.273747</td>\n",
       "      <td>3.481229</td>\n",
       "      <td>-0.737109</td>\n",
       "      <td>-0.153163</td>\n",
       "      <td>0.570210</td>\n",
       "      <td>-0.284445</td>\n",
       "      <td>-0.212536</td>\n",
       "      <td>-0.32894</td>\n",
       "      <td>-0.220673</td>\n",
       "      <td>-0.21574</td>\n",
       "      <td>-0.137364</td>\n",
       "      <td>-0.509846</td>\n",
       "      <td>2.582520</td>\n",
       "      <td>-0.135368</td>\n",
       "      <td>-0.666307</td>\n",
       "      <td>-0.387881</td>\n",
       "      <td>-0.106419</td>\n",
       "      <td>-0.110615</td>\n",
       "      <td>-0.155332</td>\n",
       "      <td>-0.094979</td>\n",
       "      <td>-0.222429</td>\n",
       "      <td>-0.125042</td>\n",
       "      <td>-0.232522</td>\n",
       "      <td>-0.166592</td>\n",
       "      <td>-0.122189</td>\n",
       "      <td>-0.024823</td>\n",
       "      <td>-0.126818</td>\n",
       "      <td>1.861932</td>\n",
       "      <td>-0.125886</td>\n",
       "      <td>-0.085878</td>\n",
       "      <td>-0.363769</td>\n",
       "      <td>-0.148817</td>\n",
       "      <td>-0.096073</td>\n",
       "      <td>-0.123338</td>\n",
       "      <td>-0.205222</td>\n",
       "      <td>-0.177348</td>\n",
       "      <td>-0.157475</td>\n",
       "      <td>-0.137364</td>\n",
       "      <td>-0.080456</td>\n",
       "      <td>-0.10934</td>\n",
       "      <td>-0.193472</td>\n",
       "      <td>-0.130933</td>\n",
       "      <td>-0.071013</td>\n",
       "      <td>-0.071175</td>\n",
       "      <td>-0.180403</td>\n",
       "      <td>-0.12103</td>\n",
       "      <td>-0.111771</td>\n",
       "      <td>-0.31312</td>\n",
       "      <td>-0.112084</td>\n",
       "      <td>-0.089315</td>\n",
       "      <td>0.634349</td>\n",
       "      <td>-0.120154</td>\n",
       "      <td>-0.612337</td>\n",
       "      <td>1.535007</td>\n",
       "      <td>-1.535007</td>\n",
       "      <td>0.892730</td>\n",
       "      <td>-0.145991</td>\n",
       "      <td>-0.855580</td>\n",
       "      <td>0</td>\n",
       "    </tr>\n",
       "    <tr>\n",
       "      <th>3</th>\n",
       "      <td>-0.431999</td>\n",
       "      <td>-0.888899</td>\n",
       "      <td>0.550807</td>\n",
       "      <td>-0.448068</td>\n",
       "      <td>-0.737109</td>\n",
       "      <td>-0.153163</td>\n",
       "      <td>-1.076920</td>\n",
       "      <td>-0.284445</td>\n",
       "      <td>-0.212536</td>\n",
       "      <td>-0.32894</td>\n",
       "      <td>-0.220673</td>\n",
       "      <td>-0.21574</td>\n",
       "      <td>-0.137364</td>\n",
       "      <td>-0.509846</td>\n",
       "      <td>-0.387219</td>\n",
       "      <td>-0.135368</td>\n",
       "      <td>1.500810</td>\n",
       "      <td>-0.387881</td>\n",
       "      <td>-0.106419</td>\n",
       "      <td>-0.110615</td>\n",
       "      <td>-0.155332</td>\n",
       "      <td>-0.094979</td>\n",
       "      <td>4.495819</td>\n",
       "      <td>-0.125042</td>\n",
       "      <td>-0.232522</td>\n",
       "      <td>-0.166592</td>\n",
       "      <td>-0.122189</td>\n",
       "      <td>-0.024823</td>\n",
       "      <td>-0.126818</td>\n",
       "      <td>-0.537077</td>\n",
       "      <td>-0.125886</td>\n",
       "      <td>-0.085878</td>\n",
       "      <td>-0.363769</td>\n",
       "      <td>-0.148817</td>\n",
       "      <td>-0.096073</td>\n",
       "      <td>-0.123338</td>\n",
       "      <td>-0.205222</td>\n",
       "      <td>-0.177348</td>\n",
       "      <td>-0.157475</td>\n",
       "      <td>-0.137364</td>\n",
       "      <td>-0.080456</td>\n",
       "      <td>-0.10934</td>\n",
       "      <td>-0.193472</td>\n",
       "      <td>-0.130933</td>\n",
       "      <td>-0.071013</td>\n",
       "      <td>-0.071175</td>\n",
       "      <td>-0.180403</td>\n",
       "      <td>-0.12103</td>\n",
       "      <td>-0.111771</td>\n",
       "      <td>-0.31312</td>\n",
       "      <td>-0.112084</td>\n",
       "      <td>-0.089315</td>\n",
       "      <td>0.634349</td>\n",
       "      <td>-0.120154</td>\n",
       "      <td>-0.612337</td>\n",
       "      <td>-0.651463</td>\n",
       "      <td>0.651463</td>\n",
       "      <td>0.892730</td>\n",
       "      <td>-0.145991</td>\n",
       "      <td>-0.855580</td>\n",
       "      <td>0</td>\n",
       "    </tr>\n",
       "    <tr>\n",
       "      <th>4</th>\n",
       "      <td>-0.431999</td>\n",
       "      <td>0.544625</td>\n",
       "      <td>-0.273747</td>\n",
       "      <td>0.779837</td>\n",
       "      <td>-0.737109</td>\n",
       "      <td>-0.153163</td>\n",
       "      <td>1.318905</td>\n",
       "      <td>-0.284445</td>\n",
       "      <td>-0.212536</td>\n",
       "      <td>-0.32894</td>\n",
       "      <td>-0.220673</td>\n",
       "      <td>-0.21574</td>\n",
       "      <td>-0.137364</td>\n",
       "      <td>-0.509846</td>\n",
       "      <td>-0.387219</td>\n",
       "      <td>-0.135368</td>\n",
       "      <td>-0.666307</td>\n",
       "      <td>2.578113</td>\n",
       "      <td>-0.106419</td>\n",
       "      <td>-0.110615</td>\n",
       "      <td>-0.155332</td>\n",
       "      <td>-0.094979</td>\n",
       "      <td>-0.222429</td>\n",
       "      <td>-0.125042</td>\n",
       "      <td>-0.232522</td>\n",
       "      <td>-0.166592</td>\n",
       "      <td>-0.122189</td>\n",
       "      <td>-0.024823</td>\n",
       "      <td>-0.126818</td>\n",
       "      <td>-0.537077</td>\n",
       "      <td>7.943698</td>\n",
       "      <td>-0.085878</td>\n",
       "      <td>-0.363769</td>\n",
       "      <td>-0.148817</td>\n",
       "      <td>-0.096073</td>\n",
       "      <td>-0.123338</td>\n",
       "      <td>-0.205222</td>\n",
       "      <td>-0.177348</td>\n",
       "      <td>-0.157475</td>\n",
       "      <td>-0.137364</td>\n",
       "      <td>-0.080456</td>\n",
       "      <td>-0.10934</td>\n",
       "      <td>-0.193472</td>\n",
       "      <td>-0.130933</td>\n",
       "      <td>-0.071013</td>\n",
       "      <td>-0.071175</td>\n",
       "      <td>-0.180403</td>\n",
       "      <td>-0.12103</td>\n",
       "      <td>-0.111771</td>\n",
       "      <td>-0.31312</td>\n",
       "      <td>-0.112084</td>\n",
       "      <td>-0.089315</td>\n",
       "      <td>-1.576419</td>\n",
       "      <td>-0.120154</td>\n",
       "      <td>1.633087</td>\n",
       "      <td>-0.651463</td>\n",
       "      <td>0.651463</td>\n",
       "      <td>-1.120159</td>\n",
       "      <td>-0.145991</td>\n",
       "      <td>1.168798</td>\n",
       "      <td>0</td>\n",
       "    </tr>\n",
       "  </tbody>\n",
       "</table>\n",
       "</div>"
      ],
      "text/plain": [
       "   no_of_trainings       age  previous_year_rating  length_of_service  \\\n",
       "0        -0.431999  0.544625              1.375360          -0.448068   \n",
       "1        -0.431999  1.587188             -0.273747          -0.693649   \n",
       "2        -0.431999  3.020713             -0.273747           3.481229   \n",
       "3        -0.431999 -0.888899              0.550807          -0.448068   \n",
       "4        -0.431999  0.544625             -0.273747           0.779837   \n",
       "\n",
       "   KPIs_met >80%  awards_won?  avg_training_score  na_previous_year_rating  \\\n",
       "0       1.356651    -0.153163           -0.328225                -0.284445   \n",
       "1      -0.737109    -0.153163            0.270731                -0.284445   \n",
       "2      -0.737109    -0.153163            0.570210                -0.284445   \n",
       "3      -0.737109    -0.153163           -1.076920                -0.284445   \n",
       "4      -0.737109    -0.153163            1.318905                -0.284445   \n",
       "\n",
       "   na_education  department_Analytics  department_Finance  department_HR  \\\n",
       "0     -0.212536              -0.32894           -0.220673       -0.21574   \n",
       "1     -0.212536              -0.32894           -0.220673       -0.21574   \n",
       "2     -0.212536              -0.32894           -0.220673       -0.21574   \n",
       "3     -0.212536              -0.32894           -0.220673       -0.21574   \n",
       "4     -0.212536              -0.32894           -0.220673       -0.21574   \n",
       "\n",
       "   department_Legal  department_Operations  department_Procurement  \\\n",
       "0         -0.137364               1.961378               -0.387219   \n",
       "1         -0.137364              -0.509846                2.582520   \n",
       "2         -0.137364              -0.509846                2.582520   \n",
       "3         -0.137364              -0.509846               -0.387219   \n",
       "4         -0.137364              -0.509846               -0.387219   \n",
       "\n",
       "   department_R&D  department_Sales & Marketing  department_Technology  \\\n",
       "0       -0.135368                     -0.666307              -0.387881   \n",
       "1       -0.135368                     -0.666307              -0.387881   \n",
       "2       -0.135368                     -0.666307              -0.387881   \n",
       "3       -0.135368                      1.500810              -0.387881   \n",
       "4       -0.135368                     -0.666307               2.578113   \n",
       "\n",
       "   region_region_1  region_region_10  region_region_11  region_region_12  \\\n",
       "0        -0.106419         -0.110615         -0.155332         -0.094979   \n",
       "1        -0.106419         -0.110615         -0.155332         -0.094979   \n",
       "2        -0.106419         -0.110615         -0.155332         -0.094979   \n",
       "3        -0.106419         -0.110615         -0.155332         -0.094979   \n",
       "4        -0.106419         -0.110615         -0.155332         -0.094979   \n",
       "\n",
       "   region_region_13  region_region_14  region_region_15  region_region_16  \\\n",
       "0         -0.222429         -0.125042          4.300672         -0.166592   \n",
       "1         -0.222429         -0.125042         -0.232522         -0.166592   \n",
       "2         -0.222429         -0.125042         -0.232522         -0.166592   \n",
       "3          4.495819         -0.125042         -0.232522         -0.166592   \n",
       "4         -0.222429         -0.125042         -0.232522         -0.166592   \n",
       "\n",
       "   region_region_17  region_region_18  region_region_19  region_region_2  \\\n",
       "0         -0.122189         -0.024823         -0.126818        -0.537077   \n",
       "1          8.184027         -0.024823         -0.126818        -0.537077   \n",
       "2         -0.122189         -0.024823         -0.126818         1.861932   \n",
       "3         -0.122189         -0.024823         -0.126818        -0.537077   \n",
       "4         -0.122189         -0.024823         -0.126818        -0.537077   \n",
       "\n",
       "   region_region_20  region_region_21  region_region_22  region_region_23  \\\n",
       "0         -0.125886         -0.085878         -0.363769         -0.148817   \n",
       "1         -0.125886         -0.085878         -0.363769         -0.148817   \n",
       "2         -0.125886         -0.085878         -0.363769         -0.148817   \n",
       "3         -0.125886         -0.085878         -0.363769         -0.148817   \n",
       "4          7.943698         -0.085878         -0.363769         -0.148817   \n",
       "\n",
       "   region_region_24  region_region_25  region_region_26  region_region_27  \\\n",
       "0         -0.096073         -0.123338         -0.205222         -0.177348   \n",
       "1         -0.096073         -0.123338         -0.205222         -0.177348   \n",
       "2         -0.096073         -0.123338         -0.205222         -0.177348   \n",
       "3         -0.096073         -0.123338         -0.205222         -0.177348   \n",
       "4         -0.096073         -0.123338         -0.205222         -0.177348   \n",
       "\n",
       "   region_region_28  region_region_29  region_region_3  region_region_30  \\\n",
       "0         -0.157475         -0.137364        -0.080456          -0.10934   \n",
       "1         -0.157475         -0.137364        -0.080456          -0.10934   \n",
       "2         -0.157475         -0.137364        -0.080456          -0.10934   \n",
       "3         -0.157475         -0.137364        -0.080456          -0.10934   \n",
       "4         -0.157475         -0.137364        -0.080456          -0.10934   \n",
       "\n",
       "   region_region_31  region_region_32  region_region_33  region_region_34  \\\n",
       "0         -0.193472         -0.130933         -0.071013         -0.071175   \n",
       "1         -0.193472         -0.130933         -0.071013         -0.071175   \n",
       "2         -0.193472         -0.130933         -0.071013         -0.071175   \n",
       "3         -0.193472         -0.130933         -0.071013         -0.071175   \n",
       "4         -0.193472         -0.130933         -0.071013         -0.071175   \n",
       "\n",
       "   region_region_4  region_region_5  region_region_6  region_region_7  \\\n",
       "0        -0.180403         -0.12103        -0.111771         -0.31312   \n",
       "1        -0.180403         -0.12103        -0.111771         -0.31312   \n",
       "2        -0.180403         -0.12103        -0.111771         -0.31312   \n",
       "3        -0.180403         -0.12103        -0.111771         -0.31312   \n",
       "4        -0.180403         -0.12103        -0.111771         -0.31312   \n",
       "\n",
       "   region_region_8  region_region_9  education_Bachelor's  \\\n",
       "0        -0.112084        -0.089315              0.634349   \n",
       "1        -0.112084        -0.089315             -1.576419   \n",
       "2        -0.112084        -0.089315              0.634349   \n",
       "3        -0.112084        -0.089315              0.634349   \n",
       "4        -0.112084        -0.089315             -1.576419   \n",
       "\n",
       "   education_Below Secondary  education_Master's & above  gender_f  gender_m  \\\n",
       "0                  -0.120154                   -0.612337 -0.651463  0.651463   \n",
       "1                  -0.120154                    1.633087  1.535007 -1.535007   \n",
       "2                  -0.120154                   -0.612337  1.535007 -1.535007   \n",
       "3                  -0.120154                   -0.612337 -0.651463  0.651463   \n",
       "4                  -0.120154                    1.633087 -0.651463  0.651463   \n",
       "\n",
       "   recruitment_channel_other  recruitment_channel_referred  \\\n",
       "0                  -1.120159                     -0.145991   \n",
       "1                  -1.120159                     -0.145991   \n",
       "2                   0.892730                     -0.145991   \n",
       "3                   0.892730                     -0.145991   \n",
       "4                  -1.120159                     -0.145991   \n",
       "\n",
       "   recruitment_channel_sourcing  is_promoted  \n",
       "0                      1.168798            0  \n",
       "1                      1.168798            0  \n",
       "2                     -0.855580            0  \n",
       "3                     -0.855580            0  \n",
       "4                      1.168798            0  "
      ]
     },
     "execution_count": 9,
     "metadata": {},
     "output_type": "execute_result"
    }
   ],
   "source": [
    "df_train.head()"
   ]
  },
  {
   "cell_type": "code",
   "execution_count": 10,
   "metadata": {},
   "outputs": [
    {
     "data": {
      "text/plain": [
       "((43846, 61), (10962, 61))"
      ]
     },
     "execution_count": 10,
     "metadata": {},
     "output_type": "execute_result"
    }
   ],
   "source": [
    "df_train.shape, df_val.shape"
   ]
  },
  {
   "cell_type": "code",
   "execution_count": 11,
   "metadata": {},
   "outputs": [],
   "source": [
    "id_columns = 'employee_id'\n",
    "target = 'is_promoted'"
   ]
  },
  {
   "cell_type": "markdown",
   "metadata": {},
   "source": [
    "## Features y target"
   ]
  },
  {
   "cell_type": "code",
   "execution_count": 12,
   "metadata": {},
   "outputs": [],
   "source": [
    "X_train = df_train.drop(target, axis = 1)\n",
    "y_train = df_train[target]\n",
    "\n",
    "X_val = df_val.drop(target, axis = 1)\n",
    "y_val = df_val[target]"
   ]
  },
  {
   "cell_type": "code",
   "execution_count": 13,
   "metadata": {},
   "outputs": [
    {
     "data": {
      "text/plain": [
       "((43846, 60), (43846,), (10962, 60), (10962,))"
      ]
     },
     "execution_count": 13,
     "metadata": {},
     "output_type": "execute_result"
    }
   ],
   "source": [
    "X_train.shape, y_train.shape, X_val.shape, y_val.shape"
   ]
  },
  {
   "cell_type": "markdown",
   "metadata": {},
   "source": [
    "## Proporción de target"
   ]
  },
  {
   "cell_type": "code",
   "execution_count": 14,
   "metadata": {},
   "outputs": [
    {
     "data": {
      "text/plain": [
       "0.08516170232176254"
      ]
     },
     "execution_count": 14,
     "metadata": {},
     "output_type": "execute_result"
    }
   ],
   "source": [
    "y_train.mean()"
   ]
  },
  {
   "cell_type": "code",
   "execution_count": 15,
   "metadata": {},
   "outputs": [
    {
     "data": {
      "text/plain": [
       "0.08520343003101624"
      ]
     },
     "execution_count": 15,
     "metadata": {},
     "output_type": "execute_result"
    }
   ],
   "source": [
    "y_val.mean()"
   ]
  },
  {
   "cell_type": "markdown",
   "metadata": {},
   "source": [
    "## Entrenamiento"
   ]
  },
  {
   "cell_type": "markdown",
   "metadata": {},
   "source": [
    "Métricas para Grid Search https://scikit-learn.org/stable/modules/model_evaluation.html#scoring-parameter"
   ]
  },
  {
   "cell_type": "code",
   "execution_count": null,
   "metadata": {},
   "outputs": [],
   "source": [
    "import xgboost"
   ]
  },
  {
   "cell_type": "code",
   "execution_count": null,
   "metadata": {},
   "outputs": [],
   "source": [
    "xgboost.__version__"
   ]
  },
  {
   "cell_type": "markdown",
   "metadata": {},
   "source": [
    "Parámetros de xgboost"
   ]
  },
  {
   "cell_type": "code",
   "execution_count": null,
   "metadata": {},
   "outputs": [],
   "source": [
    "xgb = xgboost.XGBClassifier()\n",
    "xgb"
   ]
  },
  {
   "cell_type": "markdown",
   "metadata": {},
   "source": [
    "grid search con roc_auc"
   ]
  },
  {
   "cell_type": "code",
   "execution_count": null,
   "metadata": {},
   "outputs": [],
   "source": [
    "from sklearn.model_selection import GridSearchCV"
   ]
  },
  {
   "cell_type": "code",
   "execution_count": null,
   "metadata": {},
   "outputs": [],
   "source": [
    "xgb = xgboost.XGBClassifier()\n",
    "\n",
    "cv_params = {'max_depth': [2,3,4,5],\n",
    "             'n_estimators' : [500, 1000, 1500, 2000, 2500, 3000],\n",
    "             'reg_alpha' : [0.1, 0.25, 0.5],\n",
    "            'learning_rate':[0.01, 0.001],\n",
    "            'random_state': [seed]}\n",
    "\n",
    "gs = GridSearchCV(xgb, cv_params, scoring = 'roc_auc', cv = 3, n_jobs= -1)\n",
    "\n",
    "gs.fit(X_train, y_train, verbose = 10)"
   ]
  },
  {
   "cell_type": "code",
   "execution_count": null,
   "metadata": {},
   "outputs": [],
   "source": [
    "gs.best_params_"
   ]
  },
  {
   "cell_type": "code",
   "execution_count": null,
   "metadata": {},
   "outputs": [],
   "source": [
    "gs.best_score_"
   ]
  },
  {
   "cell_type": "code",
   "execution_count": null,
   "metadata": {},
   "outputs": [],
   "source": [
    "best_xgb = gs.best_estimator_"
   ]
  },
  {
   "cell_type": "code",
   "execution_count": null,
   "metadata": {},
   "outputs": [],
   "source": [
    "best_xgb"
   ]
  },
  {
   "cell_type": "markdown",
   "metadata": {},
   "source": [
    "Guardar el modelo"
   ]
  },
  {
   "cell_type": "code",
   "execution_count": null,
   "metadata": {},
   "outputs": [],
   "source": [
    "model_label = 'xgboost_roc_auc'\n",
    "\n",
    "with open(f'{MODEL}/{model_label}_model.pkl', 'wb') as file:\n",
    "    pickle.dump(best_xgb, file)"
   ]
  },
  {
   "cell_type": "markdown",
   "metadata": {},
   "source": [
    "## Reentrenamiento con train completo y prueba en validación"
   ]
  },
  {
   "cell_type": "code",
   "execution_count": null,
   "metadata": {},
   "outputs": [],
   "source": [
    "model_label = 'xgboost_roc_auc'\n",
    "\n",
    "with open(f'{MODEL}/{model_label}_model.pkl', 'rb') as file:\n",
    "    best_xgb = pickle.load(file)"
   ]
  },
  {
   "cell_type": "code",
   "execution_count": null,
   "metadata": {},
   "outputs": [],
   "source": [
    "best_xgb.get_params()"
   ]
  },
  {
   "cell_type": "code",
   "execution_count": null,
   "metadata": {},
   "outputs": [],
   "source": [
    "X_train.shape, y_train.shape, X_val.shape, y_val.shape"
   ]
  },
  {
   "cell_type": "code",
   "execution_count": null,
   "metadata": {},
   "outputs": [],
   "source": [
    "xgboost.XGBClassifier()"
   ]
  },
  {
   "cell_type": "code",
   "execution_count": null,
   "metadata": {},
   "outputs": [],
   "source": [
    "dtrain = xgboost.DMatrix(data = X_train, label = y_train)\n",
    "dval = xgboost.DMatrix(data = X_val, label = y_val)"
   ]
  },
  {
   "cell_type": "code",
   "execution_count": null,
   "metadata": {
    "scrolled": true
   },
   "outputs": [],
   "source": [
    "xgb_params = {'objective': 'binary:logistic',\n",
    "                'eval_metric': 'auc',\n",
    "                'base_score': 0.5,\n",
    "                'booster': 'gbtree',\n",
    "                'colsample_bylevel': 1,\n",
    "                'colsample_bynode': 1,\n",
    "                'colsample_bytree': 1,\n",
    "                'gamma': 0,\n",
    "                'gpu_id': -1,\n",
    "                'interaction_constraints': '',\n",
    "                'learning_rate': 0.01,\n",
    "                'max_delta_step': 0,\n",
    "                'max_depth': 4,\n",
    "                'min_child_weight': 1,\n",
    "                'monotone_constraints': '()',\n",
    "                'n_jobs': -1,\n",
    "                'num_parallel_tree': 1,\n",
    "                'random_state': 2020,\n",
    "                'reg_alpha': 0.5,\n",
    "                'reg_lambda': 1,\n",
    "                'scale_pos_weight': 1,\n",
    "                'subsample': 1,\n",
    "                'tree_method': 'exact',\n",
    "                'validate_parameters': 1}\n",
    "\n",
    "num_rounds = 3000\n",
    "\n",
    "watch_list  = [(dtrain,'train'),(dval,'val')]\n",
    "xgb_fit = xgboost.train(xgb_params, dtrain, num_rounds, watch_list, verbose_eval = 100)"
   ]
  },
  {
   "cell_type": "code",
   "execution_count": null,
   "metadata": {},
   "outputs": [],
   "source": [
    "xgb_fit.best_iteration"
   ]
  },
  {
   "cell_type": "code",
   "execution_count": null,
   "metadata": {},
   "outputs": [],
   "source": [
    "model_label = 'xgboost_roc_auc'\n",
    "\n",
    "with open(f'{MODEL}/{model_label}_model_full.pkl', 'wb') as file:\n",
    "    pickle.dump(xgb_fit, file)"
   ]
  },
  {
   "cell_type": "markdown",
   "metadata": {},
   "source": [
    "## Importancia de variables en xgboost"
   ]
  },
  {
   "cell_type": "markdown",
   "metadata": {},
   "source": [
    "Variable importance in xgboost https://towardsdatascience.com/be-careful-when-interpreting-your-features-importance-in-xgboost-6e16132588e7"
   ]
  },
  {
   "cell_type": "code",
   "execution_count": null,
   "metadata": {},
   "outputs": [],
   "source": [
    "importance = {'Gain':  xgb_fit.get_score(importance_type='gain'),\n",
    "              'Cover':  xgb_fit.get_score(importance_type='cover'),\n",
    "              'Weight': xgb_fit.get_score(importance_type='weight')}\n",
    "\n",
    "importances = pd.DataFrame(importance).sort_values(by = 'Gain', ascending = False)\n",
    "importances.h"
   ]
  },
  {
   "cell_type": "code",
   "execution_count": null,
   "metadata": {},
   "outputs": [],
   "source": [
    "xgboost.plot_importance(xgb_fit, importance_type='gain', max_num_features= 10, show_values = False)"
   ]
  },
  {
   "cell_type": "code",
   "execution_count": null,
   "metadata": {},
   "outputs": [],
   "source": [
    "xgboost.plot_importance(xgb_fit, importance_type='weight', max_num_features= 10, show_values = False)"
   ]
  },
  {
   "cell_type": "code",
   "execution_count": null,
   "metadata": {},
   "outputs": [],
   "source": [
    "xgboost.plot_importance(xgb_fit, importance_type='cover', max_num_features= 10, show_values = False)"
   ]
  },
  {
   "cell_type": "markdown",
   "metadata": {},
   "source": [
    "## Evaluación"
   ]
  },
  {
   "cell_type": "code",
   "execution_count": null,
   "metadata": {},
   "outputs": [],
   "source": [
    "from sklearn.metrics import roc_curve, roc_auc_score, classification_report, confusion_matrix, precision_recall_curve\n",
    "from matplotlib import pyplot"
   ]
  },
  {
   "cell_type": "markdown",
   "metadata": {},
   "source": [
    "Evaluación XGBoost optimizado con AUC"
   ]
  },
  {
   "cell_type": "code",
   "execution_count": null,
   "metadata": {},
   "outputs": [],
   "source": []
  },
  {
   "cell_type": "code",
   "execution_count": null,
   "metadata": {},
   "outputs": [],
   "source": [
    "y_train_pred = xgb_fit.predict(dtrain)[:,1]\n",
    "y_val_pred = xgb_fit.predict(d)[:,1]"
   ]
  },
  {
   "cell_type": "code",
   "execution_count": null,
   "metadata": {},
   "outputs": [],
   "source": [
    "roc_auc_score(y_train, y_train_pred)"
   ]
  },
  {
   "cell_type": "code",
   "execution_count": null,
   "metadata": {},
   "outputs": [],
   "source": [
    "roc_auc_score(y_val, y_val_pred)"
   ]
  },
  {
   "cell_type": "code",
   "execution_count": null,
   "metadata": {},
   "outputs": [],
   "source": [
    "probs = best_xgb_auc.predict_proba(X_val)[:, 1]\n",
    "\n",
    "auc = roc_auc_score(y_val, probs)\n",
    "fpr, tpr, umbrales = roc_curve(y_val, y_val_pred)\n",
    "\n",
    "plt.rcParams.update({'font.size': 9})\n",
    "plt.plot(fpr, tpr, label= (\"Curva ROC\") )\n",
    "plt.xlabel(\"FPR\")\n",
    "plt.ylabel(\"TPR (exhaustividad)\")\n",
    "plt.title((\"Curva ROC XGBoost (AUC = %.4f)\" % auc))\n",
    "\n",
    "# plot no skill\n",
    "pyplot.plot([0, 1], [0, 1], linestyle='--')\n",
    "# plot the roc curve for the model\n",
    "pyplot.plot(fpr, tpr, marker='.')\n",
    "umbral_05 = np.argmin(np.abs(umbrales - 0.5))\n",
    "plt.plot(fpr[umbral_05], tpr[umbral_05], 'o', markersize=10,\n",
    "         label=\"Umbral 0.5\", fillstyle=\"none\", c='r', mew=2)\n",
    "plt.legend(loc='best', numpoints = 1)\n",
    "# show the plot\n",
    "pyplot.show()"
   ]
  },
  {
   "cell_type": "code",
   "execution_count": null,
   "metadata": {},
   "outputs": [],
   "source": [
    "prec, recall, threshold = precision_recall_curve(y_val, probs)\n",
    "\n",
    "prec_recall = pd.DataFrame({'prec': prec[:-1], 'recall': recall[:-1], 'threshold': threshold})\n",
    "prec_recall.head()"
   ]
  },
  {
   "cell_type": "code",
   "execution_count": null,
   "metadata": {},
   "outputs": [],
   "source": [
    "prec_recall['f1'] = 2*prec_recall['prec']*prec_recall['recall'] / (prec_recall['prec'] + prec_recall['recall'])"
   ]
  },
  {
   "cell_type": "code",
   "execution_count": null,
   "metadata": {},
   "outputs": [],
   "source": [
    "prec_recall.sort_values(by = 'f1', ascending = False)"
   ]
  },
  {
   "cell_type": "code",
   "execution_count": null,
   "metadata": {},
   "outputs": [],
   "source": [
    "y_val_pred = best_xgb_auc.predict_proba(X_val)[:, 1]\n",
    "auc = roc_auc_score(y_val, y_val_pred)\n",
    "\n",
    "precision, recall, umbrales = precision_recall_curve(y_val, probs)\n",
    "\n",
    "plt.rcParams.update({'font.size': 9})\n",
    "plt.plot(fpr, tpr, label= (\"Precision Recall Curve\") )\n",
    "plt.xlabel(\"Precision\")\n",
    "plt.ylabel(\"Recall\")\n",
    "plt.title((\"Precision Recall Curce (AUC = %.4f)\" % auc))\n",
    "\n",
    "pyplot.plot([0, 1], [0, 1], linestyle='--')\n",
    "pyplot.plot(prec, recall, marker='.')\n",
    "\n",
    "f1 = 2*precision*recall / (precision + recall)\n",
    "best_f1_index = f1.argmax()\n",
    "best_umbral = umbrales[best_f1_index]\n",
    "\n",
    "plt.plot(precision[best_f1_index], recall[best_f1_index], 'o', markersize=10,\n",
    "         label=f\"Mejor umbral: {best_umbral:.2f}\", fillstyle=\"none\", c='r', mew=2)\n",
    "plt.legend(loc='best', numpoints = 1)\n",
    "pyplot.show()"
   ]
  },
  {
   "cell_type": "code",
   "execution_count": null,
   "metadata": {},
   "outputs": [],
   "source": [
    "labels = np.where(y_val_pred > 0.217646, 1, 0)"
   ]
  },
  {
   "cell_type": "code",
   "execution_count": null,
   "metadata": {},
   "outputs": [],
   "source": [
    "from sklearn.metrics import f1_score"
   ]
  },
  {
   "cell_type": "code",
   "execution_count": null,
   "metadata": {},
   "outputs": [],
   "source": [
    "f1_score(y_val, labels)"
   ]
  },
  {
   "cell_type": "code",
   "execution_count": null,
   "metadata": {},
   "outputs": [],
   "source": []
  },
  {
   "cell_type": "code",
   "execution_count": null,
   "metadata": {},
   "outputs": [],
   "source": []
  },
  {
   "cell_type": "code",
   "execution_count": null,
   "metadata": {},
   "outputs": [],
   "source": []
  },
  {
   "cell_type": "code",
   "execution_count": null,
   "metadata": {},
   "outputs": [],
   "source": [
    "y_train_pred_label = best_xgb.predict(X_train)\n",
    "y_val_pred_label = best_xgb.predict(X_val)"
   ]
  },
  {
   "cell_type": "code",
   "execution_count": null,
   "metadata": {},
   "outputs": [],
   "source": [
    "print(classification_report(y_train, y_train_pred_label))"
   ]
  },
  {
   "cell_type": "code",
   "execution_count": null,
   "metadata": {},
   "outputs": [],
   "source": [
    "print(classification_report(y_val, y_val_pred_label))"
   ]
  },
  {
   "cell_type": "markdown",
   "metadata": {},
   "source": [
    "Evaluación XGBoost optimizado con f1"
   ]
  },
  {
   "cell_type": "code",
   "execution_count": null,
   "metadata": {},
   "outputs": [],
   "source": [
    "y_train_pred = best_xgb_f1.predict_proba(X_train)[:,1]\n",
    "y_val_pred = best_xgb_f1.predict_proba(X_val)[:,1]"
   ]
  },
  {
   "cell_type": "code",
   "execution_count": null,
   "metadata": {},
   "outputs": [],
   "source": [
    "roc_auc_score(y_train, y_train_pred)"
   ]
  },
  {
   "cell_type": "code",
   "execution_count": null,
   "metadata": {},
   "outputs": [],
   "source": [
    "roc_auc_score(y_val, y_val_pred)"
   ]
  },
  {
   "cell_type": "code",
   "execution_count": null,
   "metadata": {},
   "outputs": [],
   "source": [
    "probs = best_xgb_f1.predict_proba(X_val)[:, 1]\n",
    "\n",
    "auc = roc_auc_score(y_val, probs)\n",
    "fpr, tpr, umbrales = roc_curve(y_val, y_val_pred)\n",
    "\n",
    "plt.rcParams.update({'font.size': 9})\n",
    "plt.plot(fpr, tpr, label= (\"Curva ROC\") )\n",
    "plt.xlabel(\"FPR\")\n",
    "plt.ylabel(\"TPR (exhaustividad)\")\n",
    "plt.title((\"Curva ROC XGBoost (AUC = %.4f)\" % auc))\n",
    "\n",
    "# plot no skill\n",
    "pyplot.plot([0, 1], [0, 1], linestyle='--')\n",
    "# plot the roc curve for the model\n",
    "pyplot.plot(fpr, tpr, marker='.')\n",
    "umbral_05 = np.argmin(np.abs(umbrales - 0.5))\n",
    "plt.plot(fpr[umbral_05], tpr[umbral_05], 'o', markersize=10,\n",
    "         label=\"Umbral 0.5\", fillstyle=\"none\", c='r', mew=2)\n",
    "plt.legend(loc='best', numpoints = 1)\n",
    "# show the plot\n",
    "pyplot.show()"
   ]
  },
  {
   "cell_type": "code",
   "execution_count": null,
   "metadata": {},
   "outputs": [],
   "source": [
    "y_train_pred_label = best_xgb_f1.predict(X_train)\n",
    "y_val_pred_label = best_xgb_f1.predict(X_val)"
   ]
  },
  {
   "cell_type": "code",
   "execution_count": null,
   "metadata": {},
   "outputs": [],
   "source": [
    "print(classification_report(y_train, y_train_pred_label))"
   ]
  },
  {
   "cell_type": "code",
   "execution_count": null,
   "metadata": {},
   "outputs": [],
   "source": [
    "print(classification_report(y_val, y_val_pred_label))"
   ]
  },
  {
   "cell_type": "markdown",
   "metadata": {},
   "source": [
    "## Cálculo de lift"
   ]
  },
  {
   "cell_type": "code",
   "execution_count": null,
   "metadata": {},
   "outputs": [],
   "source": []
  }
 ],
 "metadata": {
  "kernelspec": {
   "display_name": "iapucp",
   "language": "python",
   "name": "iapucp"
  },
  "language_info": {
   "codemirror_mode": {
    "name": "ipython",
    "version": 3
   },
   "file_extension": ".py",
   "mimetype": "text/x-python",
   "name": "python",
   "nbconvert_exporter": "python",
   "pygments_lexer": "ipython3",
   "version": "3.6.12"
  }
 },
 "nbformat": 4,
 "nbformat_minor": 4
}
