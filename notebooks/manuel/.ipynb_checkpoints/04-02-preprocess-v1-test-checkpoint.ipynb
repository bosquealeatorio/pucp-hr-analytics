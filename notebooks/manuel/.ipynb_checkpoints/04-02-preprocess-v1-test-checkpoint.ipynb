{
 "cells": [
  {
   "cell_type": "markdown",
   "metadata": {},
   "source": [
    "# HR Analytics\n",
    "\n",
    "<img src = 'https://datahack-prod.s3.ap-south-1.amazonaws.com/__sized__/contest_cover/hr_1920x480_s5WuoZs-thumbnail-1200x1200-90.jpg'>\n",
    "\n",
    "Practice Problem: https://datahack.analyticsvidhya.com/contest/wns-analytics-hackathon-2018-1/"
   ]
  },
  {
   "cell_type": "markdown",
   "metadata": {},
   "source": [
    "## HR Analytics\n",
    "\n",
    "HR analytics is revolutionising the way human resources departments operate, leading to higher efficiency and better results overall. Human resources has been using analytics for years. However, the collection, processing and analysis of data has been largely manual, and given the nature of human resources dynamics and HR KPIs, the approach has been constraining HR. Therefore, it is surprising that HR departments woke up to the utility of machine learning so late in the game. Here is an opportunity to try predictive analytics in identifying the employees most likely to get promoted."
   ]
  },
  {
   "cell_type": "markdown",
   "metadata": {},
   "source": [
    "## Problem Statement\n",
    "\n",
    "Your client is a large MNC and they have 9 broad verticals across the organisation. One of the problem your client is facing is around identifying the right people for promotion *(only for manager position and below)* and prepare them in time. Currently the process, they are following is:\n",
    "\n",
    "* They first identify a set of employees based on recommendations/ past performance\n",
    "* Selected employees go through the separate training and evaluation program for each vertical. These programs are based on the required skill of each vertical\n",
    "* At the end of the program, based on various factors such as training performance, KPI completion (only employees with KPIs completed greater than 60% are considered) etc., employee gets promotion\n",
    "\n",
    "For above mentioned process, the final promotions are only announced after the evaluation and this leads to delay in transition to their new roles. Hence, company needs your help in identifying the eligible candidates at a particular checkpoint so that they can expedite the entire promotion cycle. "
   ]
  },
  {
   "cell_type": "markdown",
   "metadata": {},
   "source": [
    "<img src = 'https://s3-ap-south-1.amazonaws.com/av-blog-media/wp-content/uploads/2018/09/wns_hack_im_1.jpg'>"
   ]
  },
  {
   "cell_type": "markdown",
   "metadata": {},
   "source": [
    "They have provided multiple attributes around Employee's past and current performance along with demographics. Now, The task is to predict whether a potential promotee at checkpoint in the test set will be promoted or not after the evaluation process."
   ]
  },
  {
   "cell_type": "markdown",
   "metadata": {},
   "source": [
    "## Evaluation Metric\n",
    "\n",
    "The evaluation metric for this competition is F1 Score.\n",
    "\n",
    "## Public and Private Split\n",
    "\n",
    "Test data is further randomly divided into Public (40%) and Private (60%) data.\n",
    "\n",
    "Your initial responses will be checked and scored on the Public data.\n",
    "The final rankings would be based on your private score which will be published once the competition is over."
   ]
  },
  {
   "cell_type": "markdown",
   "metadata": {},
   "source": [
    "## Entorno"
   ]
  },
  {
   "cell_type": "code",
   "execution_count": 1,
   "metadata": {},
   "outputs": [
    {
     "data": {
      "text/plain": [
       "'3.6.12 |Anaconda, Inc.| (default, Sep  8 2020, 17:50:39) \\n[GCC Clang 10.0.0 ]'"
      ]
     },
     "execution_count": 1,
     "metadata": {},
     "output_type": "execute_result"
    }
   ],
   "source": [
    "import sys\n",
    "sys.version"
   ]
  },
  {
   "cell_type": "code",
   "execution_count": 2,
   "metadata": {},
   "outputs": [
    {
     "name": "stdout",
     "output_type": "stream",
     "text": [
      "# conda environments:\r\n",
      "#\r\n",
      "micromaster              /Users/manuel/.conda/envs/micromaster\r\n",
      "                         /Users/manuel/.julia/conda/3\r\n",
      "base                  *  /Users/manuel/opt/anaconda3\r\n",
      "belcorp                  /Users/manuel/opt/anaconda3/envs/belcorp\r\n",
      "courseragcp              /Users/manuel/opt/anaconda3/envs/courseragcp\r\n",
      "iapucp                   /Users/manuel/opt/anaconda3/envs/iapucp\r\n",
      "mitxpro                  /Users/manuel/opt/anaconda3/envs/mitxpro\r\n",
      "style-transfer           /Users/manuel/opt/anaconda3/envs/style-transfer\r\n",
      "taller-dmc               /Users/manuel/opt/anaconda3/envs/taller-dmc\r\n",
      "udacity                  /Users/manuel/opt/anaconda3/envs/udacity\r\n",
      "\r\n"
     ]
    }
   ],
   "source": [
    "!conda info --envs"
   ]
  },
  {
   "cell_type": "markdown",
   "metadata": {},
   "source": [
    "## Paquetes"
   ]
  },
  {
   "cell_type": "code",
   "execution_count": 3,
   "metadata": {},
   "outputs": [],
   "source": [
    "%load_ext autoreload\n",
    "%autoreload 2\n",
    "%matplotlib inline\n",
    "%config InlineBackend.figure_format = 'retina'\n",
    "\n",
    "import os\n",
    "import numpy as np\n",
    "import pandas as pd\n",
    "import sklearn\n",
    "import matplotlib.pyplot as plt\n",
    "import seaborn as sns\n",
    "from tqdm import tqdm, tqdm_notebook\n",
    "from pathlib import Path\n",
    "import random\n",
    "import warnings\n",
    "import pickle\n",
    "\n",
    "warnings.filterwarnings('ignore')\n",
    "\n",
    "seed = 2020\n",
    "random.seed(seed)\n",
    "\n",
    "pd.set_option('display.max_columns', 1000)\n",
    "pd.set_option('display.max_rows', 400)\n",
    "sns.set()\n",
    "\n",
    "DATA = Path('../../data') \n",
    "RAW  = DATA/'raw'\n",
    "PROCESSED = DATA/'processed'\n",
    "SUBMISSIONS = DATA/'submissions'    \n",
    "\n",
    "MODEL = Path('../../model') "
   ]
  },
  {
   "cell_type": "code",
   "execution_count": 4,
   "metadata": {},
   "outputs": [
    {
     "data": {
      "text/plain": [
       "'1.1.3'"
      ]
     },
     "execution_count": 4,
     "metadata": {},
     "output_type": "execute_result"
    }
   ],
   "source": [
    "pd.__version__"
   ]
  },
  {
   "cell_type": "code",
   "execution_count": 5,
   "metadata": {},
   "outputs": [
    {
     "data": {
      "text/plain": [
       "'1.19.1'"
      ]
     },
     "execution_count": 5,
     "metadata": {},
     "output_type": "execute_result"
    }
   ],
   "source": [
    "np.__version__"
   ]
  },
  {
   "cell_type": "code",
   "execution_count": 6,
   "metadata": {},
   "outputs": [
    {
     "data": {
      "text/plain": [
       "'0.23.2'"
      ]
     },
     "execution_count": 6,
     "metadata": {},
     "output_type": "execute_result"
    }
   ],
   "source": [
    "sklearn.__version__"
   ]
  },
  {
   "cell_type": "code",
   "execution_count": 7,
   "metadata": {},
   "outputs": [],
   "source": [
    "preproc_label = 'preprocess_v1'"
   ]
  },
  {
   "cell_type": "markdown",
   "metadata": {},
   "source": [
    "## Lectura de datos"
   ]
  },
  {
   "cell_type": "code",
   "execution_count": 8,
   "metadata": {},
   "outputs": [
    {
     "data": {
      "text/plain": [
       "['variables.txt',\n",
       " '.DS_Store',\n",
       " 'preprocess_v1_train.csv',\n",
       " 'test_2umaH9m.csv',\n",
       " 'preprocess_v2_train.csv',\n",
       " 'preprocess_v2_val.csv',\n",
       " 'train_LZdllcl.csv',\n",
       " 'preprocess_v1_val.csv']"
      ]
     },
     "execution_count": 8,
     "metadata": {},
     "output_type": "execute_result"
    }
   ],
   "source": [
    "os.listdir(RAW)"
   ]
  },
  {
   "cell_type": "code",
   "execution_count": 9,
   "metadata": {},
   "outputs": [],
   "source": [
    "df_test = pd.read_csv((f'{RAW}/test_2umaH9m.csv'))"
   ]
  },
  {
   "cell_type": "code",
   "execution_count": 10,
   "metadata": {},
   "outputs": [],
   "source": [
    "id_columns = 'employee_id'\n",
    "target = 'is_promoted'\n",
    "prepoc_label = 'preprocess_v1'"
   ]
  },
  {
   "cell_type": "markdown",
   "metadata": {},
   "source": [
    "# Preprocesamiento v1"
   ]
  },
  {
   "cell_type": "markdown",
   "metadata": {},
   "source": [
    "* train / val split con 20% val\n",
    "* imputación con media y mediana para continuas, categóricas con creación de flag de missing\n",
    "* capeo de outliers ratio 1.5"
   ]
  },
  {
   "cell_type": "markdown",
   "metadata": {},
   "source": [
    "## Test dataset"
   ]
  },
  {
   "cell_type": "code",
   "execution_count": 11,
   "metadata": {},
   "outputs": [
    {
     "data": {
      "text/plain": [
       "['variables.txt',\n",
       " '.DS_Store',\n",
       " 'preprocess_v1_train.csv',\n",
       " 'test_2umaH9m.csv',\n",
       " 'preprocess_v2_train.csv',\n",
       " 'preprocess_v2_val.csv',\n",
       " 'train_LZdllcl.csv',\n",
       " 'preprocess_v1_val.csv']"
      ]
     },
     "execution_count": 11,
     "metadata": {},
     "output_type": "execute_result"
    }
   ],
   "source": [
    "os.listdir(f'{RAW}')"
   ]
  },
  {
   "cell_type": "code",
   "execution_count": 12,
   "metadata": {},
   "outputs": [
    {
     "data": {
      "text/html": [
       "<div>\n",
       "<style scoped>\n",
       "    .dataframe tbody tr th:only-of-type {\n",
       "        vertical-align: middle;\n",
       "    }\n",
       "\n",
       "    .dataframe tbody tr th {\n",
       "        vertical-align: top;\n",
       "    }\n",
       "\n",
       "    .dataframe thead th {\n",
       "        text-align: right;\n",
       "    }\n",
       "</style>\n",
       "<table border=\"1\" class=\"dataframe\">\n",
       "  <thead>\n",
       "    <tr style=\"text-align: right;\">\n",
       "      <th></th>\n",
       "      <th>employee_id</th>\n",
       "      <th>department</th>\n",
       "      <th>region</th>\n",
       "      <th>education</th>\n",
       "      <th>gender</th>\n",
       "      <th>recruitment_channel</th>\n",
       "      <th>no_of_trainings</th>\n",
       "      <th>age</th>\n",
       "      <th>previous_year_rating</th>\n",
       "      <th>length_of_service</th>\n",
       "      <th>KPIs_met &gt;80%</th>\n",
       "      <th>awards_won?</th>\n",
       "      <th>avg_training_score</th>\n",
       "    </tr>\n",
       "  </thead>\n",
       "  <tbody>\n",
       "    <tr>\n",
       "      <th>0</th>\n",
       "      <td>8724</td>\n",
       "      <td>Technology</td>\n",
       "      <td>region_26</td>\n",
       "      <td>Bachelor's</td>\n",
       "      <td>m</td>\n",
       "      <td>sourcing</td>\n",
       "      <td>1</td>\n",
       "      <td>24</td>\n",
       "      <td>NaN</td>\n",
       "      <td>1</td>\n",
       "      <td>1</td>\n",
       "      <td>0</td>\n",
       "      <td>77</td>\n",
       "    </tr>\n",
       "    <tr>\n",
       "      <th>1</th>\n",
       "      <td>74430</td>\n",
       "      <td>HR</td>\n",
       "      <td>region_4</td>\n",
       "      <td>Bachelor's</td>\n",
       "      <td>f</td>\n",
       "      <td>other</td>\n",
       "      <td>1</td>\n",
       "      <td>31</td>\n",
       "      <td>3.0</td>\n",
       "      <td>5</td>\n",
       "      <td>0</td>\n",
       "      <td>0</td>\n",
       "      <td>51</td>\n",
       "    </tr>\n",
       "    <tr>\n",
       "      <th>2</th>\n",
       "      <td>72255</td>\n",
       "      <td>Sales &amp; Marketing</td>\n",
       "      <td>region_13</td>\n",
       "      <td>Bachelor's</td>\n",
       "      <td>m</td>\n",
       "      <td>other</td>\n",
       "      <td>1</td>\n",
       "      <td>31</td>\n",
       "      <td>1.0</td>\n",
       "      <td>4</td>\n",
       "      <td>0</td>\n",
       "      <td>0</td>\n",
       "      <td>47</td>\n",
       "    </tr>\n",
       "    <tr>\n",
       "      <th>3</th>\n",
       "      <td>38562</td>\n",
       "      <td>Procurement</td>\n",
       "      <td>region_2</td>\n",
       "      <td>Bachelor's</td>\n",
       "      <td>f</td>\n",
       "      <td>other</td>\n",
       "      <td>3</td>\n",
       "      <td>31</td>\n",
       "      <td>2.0</td>\n",
       "      <td>9</td>\n",
       "      <td>0</td>\n",
       "      <td>0</td>\n",
       "      <td>65</td>\n",
       "    </tr>\n",
       "    <tr>\n",
       "      <th>4</th>\n",
       "      <td>64486</td>\n",
       "      <td>Finance</td>\n",
       "      <td>region_29</td>\n",
       "      <td>Bachelor's</td>\n",
       "      <td>m</td>\n",
       "      <td>sourcing</td>\n",
       "      <td>1</td>\n",
       "      <td>30</td>\n",
       "      <td>4.0</td>\n",
       "      <td>7</td>\n",
       "      <td>0</td>\n",
       "      <td>0</td>\n",
       "      <td>61</td>\n",
       "    </tr>\n",
       "  </tbody>\n",
       "</table>\n",
       "</div>"
      ],
      "text/plain": [
       "   employee_id         department     region   education gender  \\\n",
       "0         8724         Technology  region_26  Bachelor's      m   \n",
       "1        74430                 HR   region_4  Bachelor's      f   \n",
       "2        72255  Sales & Marketing  region_13  Bachelor's      m   \n",
       "3        38562        Procurement   region_2  Bachelor's      f   \n",
       "4        64486            Finance  region_29  Bachelor's      m   \n",
       "\n",
       "  recruitment_channel  no_of_trainings  age  previous_year_rating  \\\n",
       "0            sourcing                1   24                   NaN   \n",
       "1               other                1   31                   3.0   \n",
       "2               other                1   31                   1.0   \n",
       "3               other                3   31                   2.0   \n",
       "4            sourcing                1   30                   4.0   \n",
       "\n",
       "   length_of_service  KPIs_met >80%  awards_won?  avg_training_score  \n",
       "0                  1              1            0                  77  \n",
       "1                  5              0            0                  51  \n",
       "2                  4              0            0                  47  \n",
       "3                  9              0            0                  65  \n",
       "4                  7              0            0                  61  "
      ]
     },
     "execution_count": 12,
     "metadata": {},
     "output_type": "execute_result"
    }
   ],
   "source": [
    "df_test = pd.read_csv(f'{RAW}/test_2umaH9m.csv')\n",
    "df_test.head()"
   ]
  },
  {
   "cell_type": "code",
   "execution_count": 13,
   "metadata": {},
   "outputs": [],
   "source": [
    "df_test = df_test.drop(id_columns, axis = 1)"
   ]
  },
  {
   "cell_type": "markdown",
   "metadata": {},
   "source": [
    "## Loading pkls"
   ]
  },
  {
   "cell_type": "code",
   "execution_count": 14,
   "metadata": {},
   "outputs": [
    {
     "data": {
      "text/plain": [
       "['preprocess_v1_ohe.pkl',\n",
       " 'preprocess_v1_ohe_columns.pkl',\n",
       " 'preprocess_v1_scaler.pkl',\n",
       " 'preprocess_v1_impute_values.pkl',\n",
       " 'preprocess_v1_capping_values.pkl']"
      ]
     },
     "execution_count": 14,
     "metadata": {},
     "output_type": "execute_result"
    }
   ],
   "source": [
    "[pkl for pkl in os.listdir(f'{PROCESSED}') if pkl.startswith(preproc_label) and pkl.endswith('pkl')]"
   ]
  },
  {
   "cell_type": "markdown",
   "metadata": {},
   "source": [
    "Impute values"
   ]
  },
  {
   "cell_type": "code",
   "execution_count": 15,
   "metadata": {},
   "outputs": [
    {
     "data": {
      "text/plain": [
       "{'previous_year_rating': 3.331993886204516, 'education': \"Bachelor's\"}"
      ]
     },
     "execution_count": 15,
     "metadata": {},
     "output_type": "execute_result"
    }
   ],
   "source": [
    "with open(f'{PROCESSED}/{preproc_label}_impute_values.pkl', 'rb') as file:\n",
    "    impute_values = pickle.load(file)\n",
    "    \n",
    "impute_values"
   ]
  },
  {
   "cell_type": "markdown",
   "metadata": {},
   "source": [
    "Capping values"
   ]
  },
  {
   "cell_type": "code",
   "execution_count": 16,
   "metadata": {},
   "outputs": [
    {
     "data": {
      "text/plain": [
       "{'no_of_trainings': 4.0, 'length_of_service': 20.0}"
      ]
     },
     "execution_count": 16,
     "metadata": {},
     "output_type": "execute_result"
    }
   ],
   "source": [
    "with open(f'{PROCESSED}/{preproc_label}_capping_values.pkl', 'rb') as file:\n",
    "    capping_values = pickle.load(file)\n",
    "    \n",
    "capping_values"
   ]
  },
  {
   "cell_type": "markdown",
   "metadata": {},
   "source": [
    "One hot encoding"
   ]
  },
  {
   "cell_type": "code",
   "execution_count": 17,
   "metadata": {},
   "outputs": [
    {
     "data": {
      "text/plain": [
       "OneHotEncoder(handle_unknown='ignore')"
      ]
     },
     "execution_count": 17,
     "metadata": {},
     "output_type": "execute_result"
    }
   ],
   "source": [
    "with open(f'{PROCESSED}/{preproc_label}_ohe.pkl', 'rb') as file:\n",
    "    ohe = pickle.load(file)\n",
    "\n",
    "ohe"
   ]
  },
  {
   "cell_type": "code",
   "execution_count": 18,
   "metadata": {},
   "outputs": [
    {
     "data": {
      "text/plain": [
       "array(['department_Analytics', 'department_Finance', 'department_HR',\n",
       "       'department_Legal', 'department_Operations',\n",
       "       'department_Procurement', 'department_R&D',\n",
       "       'department_Sales & Marketing', 'department_Technology',\n",
       "       'region_region_1', 'region_region_10', 'region_region_11',\n",
       "       'region_region_12', 'region_region_13', 'region_region_14',\n",
       "       'region_region_15', 'region_region_16', 'region_region_17',\n",
       "       'region_region_18', 'region_region_19', 'region_region_2',\n",
       "       'region_region_20', 'region_region_21', 'region_region_22',\n",
       "       'region_region_23', 'region_region_24', 'region_region_25',\n",
       "       'region_region_26', 'region_region_27', 'region_region_28',\n",
       "       'region_region_29', 'region_region_3', 'region_region_30',\n",
       "       'region_region_31', 'region_region_32', 'region_region_33',\n",
       "       'region_region_34', 'region_region_4', 'region_region_5',\n",
       "       'region_region_6', 'region_region_7', 'region_region_8',\n",
       "       'region_region_9', \"education_Bachelor's\",\n",
       "       'education_Below Secondary', \"education_Master's & above\",\n",
       "       'gender_f', 'gender_m', 'recruitment_channel_other',\n",
       "       'recruitment_channel_referred', 'recruitment_channel_sourcing'],\n",
       "      dtype=object)"
      ]
     },
     "execution_count": 18,
     "metadata": {},
     "output_type": "execute_result"
    }
   ],
   "source": [
    "with open(f'{PROCESSED}/{preproc_label}_ohe_columns.pkl', 'rb') as file:\n",
    "    ohe_columns = pickle.load(file)\n",
    "    \n",
    "ohe_columns"
   ]
  },
  {
   "cell_type": "markdown",
   "metadata": {},
   "source": [
    "Scaler"
   ]
  },
  {
   "cell_type": "code",
   "execution_count": 19,
   "metadata": {},
   "outputs": [
    {
     "data": {
      "text/plain": [
       "StandardScaler()"
      ]
     },
     "execution_count": 19,
     "metadata": {},
     "output_type": "execute_result"
    }
   ],
   "source": [
    "with open(f'{PROCESSED}/{preproc_label}_scaler.pkl', 'rb') as file:\n",
    "    scaler = pickle.load(file)\n",
    "    \n",
    "scaler"
   ]
  },
  {
   "cell_type": "markdown",
   "metadata": {},
   "source": [
    "## Preprocess"
   ]
  },
  {
   "cell_type": "markdown",
   "metadata": {},
   "source": [
    "Nulls"
   ]
  },
  {
   "cell_type": "code",
   "execution_count": 20,
   "metadata": {},
   "outputs": [],
   "source": [
    "df_test['na_previous_year_rating'] = df_test['previous_year_rating'].isnull().astype('int')\n",
    "df_test['na_education'] = df_test['education'].isnull().astype('int')\n",
    "\n",
    "df_test['previous_year_rating'] = df_test['previous_year_rating'].fillna(impute_values['previous_year_rating'])\n",
    "df_test['education'] = df_test['education'].fillna(impute_values['education'])"
   ]
  },
  {
   "cell_type": "markdown",
   "metadata": {},
   "source": [
    "Capping"
   ]
  },
  {
   "cell_type": "code",
   "execution_count": 21,
   "metadata": {},
   "outputs": [],
   "source": [
    "df_test['no_of_trainings'] = np.where(df_test['no_of_trainings'] > capping_values['no_of_trainings'],\n",
    "                                    capping_values['no_of_trainings'], df_test['no_of_trainings'])\n",
    "\n",
    "df_test['length_of_service'] = np.where(df_test['length_of_service'] > capping_values['length_of_service'],\n",
    "                                    capping_values['length_of_service'], df_test['length_of_service'])"
   ]
  },
  {
   "cell_type": "markdown",
   "metadata": {},
   "source": [
    "Dummies"
   ]
  },
  {
   "cell_type": "code",
   "execution_count": 22,
   "metadata": {},
   "outputs": [],
   "source": [
    "df_test_categorical = df_test.select_dtypes('object')\n",
    "df_test_numerical = df_test.select_dtypes('number')\n",
    "\n",
    "df_test_categorical_dummies = pd.DataFrame(ohe.transform(df_test_categorical).toarray(), \n",
    "                                     columns = ohe_columns, index = df_test_numerical.index)\n",
    "\n",
    "df_test = pd.concat([df_test_numerical, df_test_categorical_dummies], axis = 1)"
   ]
  },
  {
   "cell_type": "markdown",
   "metadata": {},
   "source": [
    "Scaling"
   ]
  },
  {
   "cell_type": "code",
   "execution_count": 23,
   "metadata": {},
   "outputs": [],
   "source": [
    "df_test_scaled = pd.DataFrame(scaler.transform(df_test), columns = df_test.columns)"
   ]
  },
  {
   "cell_type": "code",
   "execution_count": 25,
   "metadata": {},
   "outputs": [
    {
     "data": {
      "text/html": [
       "<div>\n",
       "<style scoped>\n",
       "    .dataframe tbody tr th:only-of-type {\n",
       "        vertical-align: middle;\n",
       "    }\n",
       "\n",
       "    .dataframe tbody tr th {\n",
       "        vertical-align: top;\n",
       "    }\n",
       "\n",
       "    .dataframe thead th {\n",
       "        text-align: right;\n",
       "    }\n",
       "</style>\n",
       "<table border=\"1\" class=\"dataframe\">\n",
       "  <thead>\n",
       "    <tr style=\"text-align: right;\">\n",
       "      <th></th>\n",
       "      <th>no_of_trainings</th>\n",
       "      <th>age</th>\n",
       "      <th>previous_year_rating</th>\n",
       "      <th>length_of_service</th>\n",
       "      <th>KPIs_met &gt;80%</th>\n",
       "      <th>awards_won?</th>\n",
       "      <th>avg_training_score</th>\n",
       "      <th>na_previous_year_rating</th>\n",
       "      <th>na_education</th>\n",
       "      <th>department_Analytics</th>\n",
       "      <th>department_Finance</th>\n",
       "      <th>department_HR</th>\n",
       "      <th>department_Legal</th>\n",
       "      <th>department_Operations</th>\n",
       "      <th>department_Procurement</th>\n",
       "      <th>department_R&amp;D</th>\n",
       "      <th>department_Sales &amp; Marketing</th>\n",
       "      <th>department_Technology</th>\n",
       "      <th>region_region_1</th>\n",
       "      <th>region_region_10</th>\n",
       "      <th>region_region_11</th>\n",
       "      <th>region_region_12</th>\n",
       "      <th>region_region_13</th>\n",
       "      <th>region_region_14</th>\n",
       "      <th>region_region_15</th>\n",
       "      <th>region_region_16</th>\n",
       "      <th>region_region_17</th>\n",
       "      <th>region_region_18</th>\n",
       "      <th>region_region_19</th>\n",
       "      <th>region_region_2</th>\n",
       "      <th>region_region_20</th>\n",
       "      <th>region_region_21</th>\n",
       "      <th>region_region_22</th>\n",
       "      <th>region_region_23</th>\n",
       "      <th>region_region_24</th>\n",
       "      <th>region_region_25</th>\n",
       "      <th>region_region_26</th>\n",
       "      <th>region_region_27</th>\n",
       "      <th>region_region_28</th>\n",
       "      <th>region_region_29</th>\n",
       "      <th>region_region_3</th>\n",
       "      <th>region_region_30</th>\n",
       "      <th>region_region_31</th>\n",
       "      <th>region_region_32</th>\n",
       "      <th>region_region_33</th>\n",
       "      <th>region_region_34</th>\n",
       "      <th>region_region_4</th>\n",
       "      <th>region_region_5</th>\n",
       "      <th>region_region_6</th>\n",
       "      <th>region_region_7</th>\n",
       "      <th>region_region_8</th>\n",
       "      <th>region_region_9</th>\n",
       "      <th>education_Bachelor's</th>\n",
       "      <th>education_Below Secondary</th>\n",
       "      <th>education_Master's &amp; above</th>\n",
       "      <th>gender_f</th>\n",
       "      <th>gender_m</th>\n",
       "      <th>recruitment_channel_other</th>\n",
       "      <th>recruitment_channel_referred</th>\n",
       "      <th>recruitment_channel_sourcing</th>\n",
       "    </tr>\n",
       "  </thead>\n",
       "  <tbody>\n",
       "    <tr>\n",
       "      <th>0</th>\n",
       "      <td>-0.431999</td>\n",
       "      <td>-1.410180</td>\n",
       "      <td>0.000000</td>\n",
       "      <td>-1.184811</td>\n",
       "      <td>1.356651</td>\n",
       "      <td>-0.153163</td>\n",
       "      <td>1.019427</td>\n",
       "      <td>3.515613</td>\n",
       "      <td>-0.212536</td>\n",
       "      <td>-0.32894</td>\n",
       "      <td>-0.220673</td>\n",
       "      <td>-0.215740</td>\n",
       "      <td>-0.137364</td>\n",
       "      <td>-0.509846</td>\n",
       "      <td>-0.387219</td>\n",
       "      <td>-0.135368</td>\n",
       "      <td>-0.666307</td>\n",
       "      <td>2.578113</td>\n",
       "      <td>-0.106419</td>\n",
       "      <td>-0.110615</td>\n",
       "      <td>-0.155332</td>\n",
       "      <td>-0.094979</td>\n",
       "      <td>-0.222429</td>\n",
       "      <td>-0.125042</td>\n",
       "      <td>-0.232522</td>\n",
       "      <td>-0.166592</td>\n",
       "      <td>-0.122189</td>\n",
       "      <td>-0.024823</td>\n",
       "      <td>-0.126818</td>\n",
       "      <td>-0.537077</td>\n",
       "      <td>-0.125886</td>\n",
       "      <td>-0.085878</td>\n",
       "      <td>-0.363769</td>\n",
       "      <td>-0.148817</td>\n",
       "      <td>-0.096073</td>\n",
       "      <td>-0.123338</td>\n",
       "      <td>4.872760</td>\n",
       "      <td>-0.177348</td>\n",
       "      <td>-0.157475</td>\n",
       "      <td>-0.137364</td>\n",
       "      <td>-0.080456</td>\n",
       "      <td>-0.10934</td>\n",
       "      <td>-0.193472</td>\n",
       "      <td>-0.130933</td>\n",
       "      <td>-0.071013</td>\n",
       "      <td>-0.071175</td>\n",
       "      <td>-0.180403</td>\n",
       "      <td>-0.12103</td>\n",
       "      <td>-0.111771</td>\n",
       "      <td>-0.31312</td>\n",
       "      <td>-0.112084</td>\n",
       "      <td>-0.089315</td>\n",
       "      <td>0.634349</td>\n",
       "      <td>-0.120154</td>\n",
       "      <td>-0.612337</td>\n",
       "      <td>-0.651463</td>\n",
       "      <td>0.651463</td>\n",
       "      <td>-1.120159</td>\n",
       "      <td>-0.145991</td>\n",
       "      <td>1.168798</td>\n",
       "    </tr>\n",
       "    <tr>\n",
       "      <th>1</th>\n",
       "      <td>-0.431999</td>\n",
       "      <td>-0.497938</td>\n",
       "      <td>-0.273747</td>\n",
       "      <td>-0.202487</td>\n",
       "      <td>-0.737109</td>\n",
       "      <td>-0.153163</td>\n",
       "      <td>-0.927181</td>\n",
       "      <td>-0.284445</td>\n",
       "      <td>-0.212536</td>\n",
       "      <td>-0.32894</td>\n",
       "      <td>-0.220673</td>\n",
       "      <td>4.635205</td>\n",
       "      <td>-0.137364</td>\n",
       "      <td>-0.509846</td>\n",
       "      <td>-0.387219</td>\n",
       "      <td>-0.135368</td>\n",
       "      <td>-0.666307</td>\n",
       "      <td>-0.387881</td>\n",
       "      <td>-0.106419</td>\n",
       "      <td>-0.110615</td>\n",
       "      <td>-0.155332</td>\n",
       "      <td>-0.094979</td>\n",
       "      <td>-0.222429</td>\n",
       "      <td>-0.125042</td>\n",
       "      <td>-0.232522</td>\n",
       "      <td>-0.166592</td>\n",
       "      <td>-0.122189</td>\n",
       "      <td>-0.024823</td>\n",
       "      <td>-0.126818</td>\n",
       "      <td>-0.537077</td>\n",
       "      <td>-0.125886</td>\n",
       "      <td>-0.085878</td>\n",
       "      <td>-0.363769</td>\n",
       "      <td>-0.148817</td>\n",
       "      <td>-0.096073</td>\n",
       "      <td>-0.123338</td>\n",
       "      <td>-0.205222</td>\n",
       "      <td>-0.177348</td>\n",
       "      <td>-0.157475</td>\n",
       "      <td>-0.137364</td>\n",
       "      <td>-0.080456</td>\n",
       "      <td>-0.10934</td>\n",
       "      <td>-0.193472</td>\n",
       "      <td>-0.130933</td>\n",
       "      <td>-0.071013</td>\n",
       "      <td>-0.071175</td>\n",
       "      <td>5.543147</td>\n",
       "      <td>-0.12103</td>\n",
       "      <td>-0.111771</td>\n",
       "      <td>-0.31312</td>\n",
       "      <td>-0.112084</td>\n",
       "      <td>-0.089315</td>\n",
       "      <td>0.634349</td>\n",
       "      <td>-0.120154</td>\n",
       "      <td>-0.612337</td>\n",
       "      <td>1.535007</td>\n",
       "      <td>-1.535007</td>\n",
       "      <td>0.892730</td>\n",
       "      <td>-0.145991</td>\n",
       "      <td>-0.855580</td>\n",
       "    </tr>\n",
       "    <tr>\n",
       "      <th>2</th>\n",
       "      <td>-0.431999</td>\n",
       "      <td>-0.497938</td>\n",
       "      <td>-1.922853</td>\n",
       "      <td>-0.448068</td>\n",
       "      <td>-0.737109</td>\n",
       "      <td>-0.153163</td>\n",
       "      <td>-1.226659</td>\n",
       "      <td>-0.284445</td>\n",
       "      <td>-0.212536</td>\n",
       "      <td>-0.32894</td>\n",
       "      <td>-0.220673</td>\n",
       "      <td>-0.215740</td>\n",
       "      <td>-0.137364</td>\n",
       "      <td>-0.509846</td>\n",
       "      <td>-0.387219</td>\n",
       "      <td>-0.135368</td>\n",
       "      <td>1.500810</td>\n",
       "      <td>-0.387881</td>\n",
       "      <td>-0.106419</td>\n",
       "      <td>-0.110615</td>\n",
       "      <td>-0.155332</td>\n",
       "      <td>-0.094979</td>\n",
       "      <td>4.495819</td>\n",
       "      <td>-0.125042</td>\n",
       "      <td>-0.232522</td>\n",
       "      <td>-0.166592</td>\n",
       "      <td>-0.122189</td>\n",
       "      <td>-0.024823</td>\n",
       "      <td>-0.126818</td>\n",
       "      <td>-0.537077</td>\n",
       "      <td>-0.125886</td>\n",
       "      <td>-0.085878</td>\n",
       "      <td>-0.363769</td>\n",
       "      <td>-0.148817</td>\n",
       "      <td>-0.096073</td>\n",
       "      <td>-0.123338</td>\n",
       "      <td>-0.205222</td>\n",
       "      <td>-0.177348</td>\n",
       "      <td>-0.157475</td>\n",
       "      <td>-0.137364</td>\n",
       "      <td>-0.080456</td>\n",
       "      <td>-0.10934</td>\n",
       "      <td>-0.193472</td>\n",
       "      <td>-0.130933</td>\n",
       "      <td>-0.071013</td>\n",
       "      <td>-0.071175</td>\n",
       "      <td>-0.180403</td>\n",
       "      <td>-0.12103</td>\n",
       "      <td>-0.111771</td>\n",
       "      <td>-0.31312</td>\n",
       "      <td>-0.112084</td>\n",
       "      <td>-0.089315</td>\n",
       "      <td>0.634349</td>\n",
       "      <td>-0.120154</td>\n",
       "      <td>-0.612337</td>\n",
       "      <td>-0.651463</td>\n",
       "      <td>0.651463</td>\n",
       "      <td>0.892730</td>\n",
       "      <td>-0.145991</td>\n",
       "      <td>-0.855580</td>\n",
       "    </tr>\n",
       "    <tr>\n",
       "      <th>3</th>\n",
       "      <td>3.082507</td>\n",
       "      <td>-0.497938</td>\n",
       "      <td>-1.098300</td>\n",
       "      <td>0.779837</td>\n",
       "      <td>-0.737109</td>\n",
       "      <td>-0.153163</td>\n",
       "      <td>0.120992</td>\n",
       "      <td>-0.284445</td>\n",
       "      <td>-0.212536</td>\n",
       "      <td>-0.32894</td>\n",
       "      <td>-0.220673</td>\n",
       "      <td>-0.215740</td>\n",
       "      <td>-0.137364</td>\n",
       "      <td>-0.509846</td>\n",
       "      <td>2.582520</td>\n",
       "      <td>-0.135368</td>\n",
       "      <td>-0.666307</td>\n",
       "      <td>-0.387881</td>\n",
       "      <td>-0.106419</td>\n",
       "      <td>-0.110615</td>\n",
       "      <td>-0.155332</td>\n",
       "      <td>-0.094979</td>\n",
       "      <td>-0.222429</td>\n",
       "      <td>-0.125042</td>\n",
       "      <td>-0.232522</td>\n",
       "      <td>-0.166592</td>\n",
       "      <td>-0.122189</td>\n",
       "      <td>-0.024823</td>\n",
       "      <td>-0.126818</td>\n",
       "      <td>1.861932</td>\n",
       "      <td>-0.125886</td>\n",
       "      <td>-0.085878</td>\n",
       "      <td>-0.363769</td>\n",
       "      <td>-0.148817</td>\n",
       "      <td>-0.096073</td>\n",
       "      <td>-0.123338</td>\n",
       "      <td>-0.205222</td>\n",
       "      <td>-0.177348</td>\n",
       "      <td>-0.157475</td>\n",
       "      <td>-0.137364</td>\n",
       "      <td>-0.080456</td>\n",
       "      <td>-0.10934</td>\n",
       "      <td>-0.193472</td>\n",
       "      <td>-0.130933</td>\n",
       "      <td>-0.071013</td>\n",
       "      <td>-0.071175</td>\n",
       "      <td>-0.180403</td>\n",
       "      <td>-0.12103</td>\n",
       "      <td>-0.111771</td>\n",
       "      <td>-0.31312</td>\n",
       "      <td>-0.112084</td>\n",
       "      <td>-0.089315</td>\n",
       "      <td>0.634349</td>\n",
       "      <td>-0.120154</td>\n",
       "      <td>-0.612337</td>\n",
       "      <td>1.535007</td>\n",
       "      <td>-1.535007</td>\n",
       "      <td>0.892730</td>\n",
       "      <td>-0.145991</td>\n",
       "      <td>-0.855580</td>\n",
       "    </tr>\n",
       "    <tr>\n",
       "      <th>4</th>\n",
       "      <td>-0.431999</td>\n",
       "      <td>-0.628258</td>\n",
       "      <td>0.550807</td>\n",
       "      <td>0.288675</td>\n",
       "      <td>-0.737109</td>\n",
       "      <td>-0.153163</td>\n",
       "      <td>-0.178486</td>\n",
       "      <td>-0.284445</td>\n",
       "      <td>-0.212536</td>\n",
       "      <td>-0.32894</td>\n",
       "      <td>4.531596</td>\n",
       "      <td>-0.215740</td>\n",
       "      <td>-0.137364</td>\n",
       "      <td>-0.509846</td>\n",
       "      <td>-0.387219</td>\n",
       "      <td>-0.135368</td>\n",
       "      <td>-0.666307</td>\n",
       "      <td>-0.387881</td>\n",
       "      <td>-0.106419</td>\n",
       "      <td>-0.110615</td>\n",
       "      <td>-0.155332</td>\n",
       "      <td>-0.094979</td>\n",
       "      <td>-0.222429</td>\n",
       "      <td>-0.125042</td>\n",
       "      <td>-0.232522</td>\n",
       "      <td>-0.166592</td>\n",
       "      <td>-0.122189</td>\n",
       "      <td>-0.024823</td>\n",
       "      <td>-0.126818</td>\n",
       "      <td>-0.537077</td>\n",
       "      <td>-0.125886</td>\n",
       "      <td>-0.085878</td>\n",
       "      <td>-0.363769</td>\n",
       "      <td>-0.148817</td>\n",
       "      <td>-0.096073</td>\n",
       "      <td>-0.123338</td>\n",
       "      <td>-0.205222</td>\n",
       "      <td>-0.177348</td>\n",
       "      <td>-0.157475</td>\n",
       "      <td>7.279941</td>\n",
       "      <td>-0.080456</td>\n",
       "      <td>-0.10934</td>\n",
       "      <td>-0.193472</td>\n",
       "      <td>-0.130933</td>\n",
       "      <td>-0.071013</td>\n",
       "      <td>-0.071175</td>\n",
       "      <td>-0.180403</td>\n",
       "      <td>-0.12103</td>\n",
       "      <td>-0.111771</td>\n",
       "      <td>-0.31312</td>\n",
       "      <td>-0.112084</td>\n",
       "      <td>-0.089315</td>\n",
       "      <td>0.634349</td>\n",
       "      <td>-0.120154</td>\n",
       "      <td>-0.612337</td>\n",
       "      <td>-0.651463</td>\n",
       "      <td>0.651463</td>\n",
       "      <td>-1.120159</td>\n",
       "      <td>-0.145991</td>\n",
       "      <td>1.168798</td>\n",
       "    </tr>\n",
       "  </tbody>\n",
       "</table>\n",
       "</div>"
      ],
      "text/plain": [
       "   no_of_trainings       age  previous_year_rating  length_of_service  \\\n",
       "0        -0.431999 -1.410180              0.000000          -1.184811   \n",
       "1        -0.431999 -0.497938             -0.273747          -0.202487   \n",
       "2        -0.431999 -0.497938             -1.922853          -0.448068   \n",
       "3         3.082507 -0.497938             -1.098300           0.779837   \n",
       "4        -0.431999 -0.628258              0.550807           0.288675   \n",
       "\n",
       "   KPIs_met >80%  awards_won?  avg_training_score  na_previous_year_rating  \\\n",
       "0       1.356651    -0.153163            1.019427                 3.515613   \n",
       "1      -0.737109    -0.153163           -0.927181                -0.284445   \n",
       "2      -0.737109    -0.153163           -1.226659                -0.284445   \n",
       "3      -0.737109    -0.153163            0.120992                -0.284445   \n",
       "4      -0.737109    -0.153163           -0.178486                -0.284445   \n",
       "\n",
       "   na_education  department_Analytics  department_Finance  department_HR  \\\n",
       "0     -0.212536              -0.32894           -0.220673      -0.215740   \n",
       "1     -0.212536              -0.32894           -0.220673       4.635205   \n",
       "2     -0.212536              -0.32894           -0.220673      -0.215740   \n",
       "3     -0.212536              -0.32894           -0.220673      -0.215740   \n",
       "4     -0.212536              -0.32894            4.531596      -0.215740   \n",
       "\n",
       "   department_Legal  department_Operations  department_Procurement  \\\n",
       "0         -0.137364              -0.509846               -0.387219   \n",
       "1         -0.137364              -0.509846               -0.387219   \n",
       "2         -0.137364              -0.509846               -0.387219   \n",
       "3         -0.137364              -0.509846                2.582520   \n",
       "4         -0.137364              -0.509846               -0.387219   \n",
       "\n",
       "   department_R&D  department_Sales & Marketing  department_Technology  \\\n",
       "0       -0.135368                     -0.666307               2.578113   \n",
       "1       -0.135368                     -0.666307              -0.387881   \n",
       "2       -0.135368                      1.500810              -0.387881   \n",
       "3       -0.135368                     -0.666307              -0.387881   \n",
       "4       -0.135368                     -0.666307              -0.387881   \n",
       "\n",
       "   region_region_1  region_region_10  region_region_11  region_region_12  \\\n",
       "0        -0.106419         -0.110615         -0.155332         -0.094979   \n",
       "1        -0.106419         -0.110615         -0.155332         -0.094979   \n",
       "2        -0.106419         -0.110615         -0.155332         -0.094979   \n",
       "3        -0.106419         -0.110615         -0.155332         -0.094979   \n",
       "4        -0.106419         -0.110615         -0.155332         -0.094979   \n",
       "\n",
       "   region_region_13  region_region_14  region_region_15  region_region_16  \\\n",
       "0         -0.222429         -0.125042         -0.232522         -0.166592   \n",
       "1         -0.222429         -0.125042         -0.232522         -0.166592   \n",
       "2          4.495819         -0.125042         -0.232522         -0.166592   \n",
       "3         -0.222429         -0.125042         -0.232522         -0.166592   \n",
       "4         -0.222429         -0.125042         -0.232522         -0.166592   \n",
       "\n",
       "   region_region_17  region_region_18  region_region_19  region_region_2  \\\n",
       "0         -0.122189         -0.024823         -0.126818        -0.537077   \n",
       "1         -0.122189         -0.024823         -0.126818        -0.537077   \n",
       "2         -0.122189         -0.024823         -0.126818        -0.537077   \n",
       "3         -0.122189         -0.024823         -0.126818         1.861932   \n",
       "4         -0.122189         -0.024823         -0.126818        -0.537077   \n",
       "\n",
       "   region_region_20  region_region_21  region_region_22  region_region_23  \\\n",
       "0         -0.125886         -0.085878         -0.363769         -0.148817   \n",
       "1         -0.125886         -0.085878         -0.363769         -0.148817   \n",
       "2         -0.125886         -0.085878         -0.363769         -0.148817   \n",
       "3         -0.125886         -0.085878         -0.363769         -0.148817   \n",
       "4         -0.125886         -0.085878         -0.363769         -0.148817   \n",
       "\n",
       "   region_region_24  region_region_25  region_region_26  region_region_27  \\\n",
       "0         -0.096073         -0.123338          4.872760         -0.177348   \n",
       "1         -0.096073         -0.123338         -0.205222         -0.177348   \n",
       "2         -0.096073         -0.123338         -0.205222         -0.177348   \n",
       "3         -0.096073         -0.123338         -0.205222         -0.177348   \n",
       "4         -0.096073         -0.123338         -0.205222         -0.177348   \n",
       "\n",
       "   region_region_28  region_region_29  region_region_3  region_region_30  \\\n",
       "0         -0.157475         -0.137364        -0.080456          -0.10934   \n",
       "1         -0.157475         -0.137364        -0.080456          -0.10934   \n",
       "2         -0.157475         -0.137364        -0.080456          -0.10934   \n",
       "3         -0.157475         -0.137364        -0.080456          -0.10934   \n",
       "4         -0.157475          7.279941        -0.080456          -0.10934   \n",
       "\n",
       "   region_region_31  region_region_32  region_region_33  region_region_34  \\\n",
       "0         -0.193472         -0.130933         -0.071013         -0.071175   \n",
       "1         -0.193472         -0.130933         -0.071013         -0.071175   \n",
       "2         -0.193472         -0.130933         -0.071013         -0.071175   \n",
       "3         -0.193472         -0.130933         -0.071013         -0.071175   \n",
       "4         -0.193472         -0.130933         -0.071013         -0.071175   \n",
       "\n",
       "   region_region_4  region_region_5  region_region_6  region_region_7  \\\n",
       "0        -0.180403         -0.12103        -0.111771         -0.31312   \n",
       "1         5.543147         -0.12103        -0.111771         -0.31312   \n",
       "2        -0.180403         -0.12103        -0.111771         -0.31312   \n",
       "3        -0.180403         -0.12103        -0.111771         -0.31312   \n",
       "4        -0.180403         -0.12103        -0.111771         -0.31312   \n",
       "\n",
       "   region_region_8  region_region_9  education_Bachelor's  \\\n",
       "0        -0.112084        -0.089315              0.634349   \n",
       "1        -0.112084        -0.089315              0.634349   \n",
       "2        -0.112084        -0.089315              0.634349   \n",
       "3        -0.112084        -0.089315              0.634349   \n",
       "4        -0.112084        -0.089315              0.634349   \n",
       "\n",
       "   education_Below Secondary  education_Master's & above  gender_f  gender_m  \\\n",
       "0                  -0.120154                   -0.612337 -0.651463  0.651463   \n",
       "1                  -0.120154                   -0.612337  1.535007 -1.535007   \n",
       "2                  -0.120154                   -0.612337 -0.651463  0.651463   \n",
       "3                  -0.120154                   -0.612337  1.535007 -1.535007   \n",
       "4                  -0.120154                   -0.612337 -0.651463  0.651463   \n",
       "\n",
       "   recruitment_channel_other  recruitment_channel_referred  \\\n",
       "0                  -1.120159                     -0.145991   \n",
       "1                   0.892730                     -0.145991   \n",
       "2                   0.892730                     -0.145991   \n",
       "3                   0.892730                     -0.145991   \n",
       "4                  -1.120159                     -0.145991   \n",
       "\n",
       "   recruitment_channel_sourcing  \n",
       "0                      1.168798  \n",
       "1                     -0.855580  \n",
       "2                     -0.855580  \n",
       "3                     -0.855580  \n",
       "4                      1.168798  "
      ]
     },
     "execution_count": 25,
     "metadata": {},
     "output_type": "execute_result"
    }
   ],
   "source": [
    "df_test_scaled.head()"
   ]
  },
  {
   "cell_type": "markdown",
   "metadata": {},
   "source": [
    "## Save preprocessed datasets"
   ]
  },
  {
   "cell_type": "code",
   "execution_count": 26,
   "metadata": {},
   "outputs": [],
   "source": [
    "df_test_scaled.to_csv(f'{PROCESSED}/{preproc_label}_test.csv', index = False, compression = 'zip')"
   ]
  }
 ],
 "metadata": {
  "kernelspec": {
   "display_name": "iapucp",
   "language": "python",
   "name": "iapucp"
  },
  "language_info": {
   "codemirror_mode": {
    "name": "ipython",
    "version": 3
   },
   "file_extension": ".py",
   "mimetype": "text/x-python",
   "name": "python",
   "nbconvert_exporter": "python",
   "pygments_lexer": "ipython3",
   "version": "3.6.12"
  }
 },
 "nbformat": 4,
 "nbformat_minor": 4
}
