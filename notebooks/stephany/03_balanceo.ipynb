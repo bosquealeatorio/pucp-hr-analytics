{
  "nbformat": 4,
  "nbformat_minor": 0,
  "metadata": {
    "kernelspec": {
      "display_name": "iapucp",
      "language": "python",
      "name": "iapucp"
    },
    "language_info": {
      "codemirror_mode": {
        "name": "ipython",
        "version": 3
      },
      "file_extension": ".py",
      "mimetype": "text/x-python",
      "name": "python",
      "nbconvert_exporter": "python",
      "pygments_lexer": "ipython3",
      "version": "3.6.12"
    },
    "colab": {
      "name": "03-balanceo.ipynb",
      "provenance": [],
      "collapsed_sections": []
    }
  },
  "cells": [
    {
      "cell_type": "markdown",
      "metadata": {
        "id": "Sa3HQqedbbln"
      },
      "source": [
        "# HR Analytics\n",
        "\n",
        "<img src = 'https://datahack-prod.s3.ap-south-1.amazonaws.com/__sized__/contest_cover/hr_1920x480_s5WuoZs-thumbnail-1200x1200-90.jpg'>\n",
        "\n",
        "Practice Problem: https://datahack.analyticsvidhya.com/contest/wns-analytics-hackathon-2018-1/"
      ]
    },
    {
      "cell_type": "markdown",
      "metadata": {
        "id": "womug8ysbblo"
      },
      "source": [
        "## HR Analytics\n",
        "\n",
        "HR analytics is revolutionising the way human resources departments operate, leading to higher efficiency and better results overall. Human resources has been using analytics for years. However, the collection, processing and analysis of data has been largely manual, and given the nature of human resources dynamics and HR KPIs, the approach has been constraining HR. Therefore, it is surprising that HR departments woke up to the utility of machine learning so late in the game. Here is an opportunity to try predictive analytics in identifying the employees most likely to get promoted."
      ]
    },
    {
      "cell_type": "markdown",
      "metadata": {
        "id": "37Nx3gN2bblo"
      },
      "source": [
        "## Problem Statement\n",
        "\n",
        "Your client is a large MNC and they have 9 broad verticals across the organisation. One of the problem your client is facing is around identifying the right people for promotion *(only for manager position and below)* and prepare them in time. Currently the process, they are following is:\n",
        "\n",
        "* They first identify a set of employees based on recommendations/ past performance\n",
        "* Selected employees go through the separate training and evaluation program for each vertical. These programs are based on the required skill of each vertical\n",
        "* At the end of the program, based on various factors such as training performance, KPI completion (only employees with KPIs completed greater than 60% are considered) etc., employee gets promotion\n",
        "\n",
        "For above mentioned process, the final promotions are only announced after the evaluation and this leads to delay in transition to their new roles. Hence, company needs your help in identifying the eligible candidates at a particular checkpoint so that they can expedite the entire promotion cycle. "
      ]
    },
    {
      "cell_type": "markdown",
      "metadata": {
        "id": "cXAtR61-bblp"
      },
      "source": [
        "<img src = 'https://s3-ap-south-1.amazonaws.com/av-blog-media/wp-content/uploads/2018/09/wns_hack_im_1.jpg'>"
      ]
    },
    {
      "cell_type": "markdown",
      "metadata": {
        "id": "D84jNfQTbblp"
      },
      "source": [
        "They have provided multiple attributes around Employee's past and current performance along with demographics. Now, The task is to predict whether a potential promotee at checkpoint in the test set will be promoted or not after the evaluation process."
      ]
    },
    {
      "cell_type": "markdown",
      "metadata": {
        "id": "FxtU2Cgsbblq"
      },
      "source": [
        "## Evaluation Metric\n",
        "\n",
        "The evaluation metric for this competition is F1 Score.\n",
        "\n",
        "## Public and Private Split\n",
        "\n",
        "Test data is further randomly divided into Public (40%) and Private (60%) data.\n",
        "\n",
        "Your initial responses will be checked and scored on the Public data.\n",
        "The final rankings would be based on your private score which will be published once the competition is over."
      ]
    },
    {
      "cell_type": "markdown",
      "metadata": {
        "id": "k6QuG23mbblr"
      },
      "source": [
        "## Entorno"
      ]
    },
    {
      "cell_type": "code",
      "metadata": {
        "id": "Cf1or0QCbblr",
        "outputId": "e41f991b-a8ed-479b-fdf8-4adfc37b4b9f"
      },
      "source": [
        "import sys\n",
        "sys.version"
      ],
      "execution_count": null,
      "outputs": [
        {
          "output_type": "execute_result",
          "data": {
            "text/plain": [
              "'3.6.12 |Anaconda, Inc.| (default, Sep  8 2020, 17:50:39) \\n[GCC Clang 10.0.0 ]'"
            ]
          },
          "metadata": {
            "tags": []
          },
          "execution_count": 1
        }
      ]
    },
    {
      "cell_type": "code",
      "metadata": {
        "id": "zZb2ubwhbblv",
        "outputId": "44ee151a-ecd1-4504-c115-264702adf896"
      },
      "source": [
        "!conda info --envs"
      ],
      "execution_count": null,
      "outputs": [
        {
          "output_type": "stream",
          "text": [
            "# conda environments:\r\n",
            "#\r\n",
            "micromaster              /Users/manuel/.conda/envs/micromaster\r\n",
            "                         /Users/manuel/.julia/conda/3\r\n",
            "base                  *  /Users/manuel/opt/anaconda3\r\n",
            "belcorp                  /Users/manuel/opt/anaconda3/envs/belcorp\r\n",
            "courseragcp              /Users/manuel/opt/anaconda3/envs/courseragcp\r\n",
            "iapucp                   /Users/manuel/opt/anaconda3/envs/iapucp\r\n",
            "mitxpro                  /Users/manuel/opt/anaconda3/envs/mitxpro\r\n",
            "style-transfer           /Users/manuel/opt/anaconda3/envs/style-transfer\r\n",
            "taller-dmc               /Users/manuel/opt/anaconda3/envs/taller-dmc\r\n",
            "udacity                  /Users/manuel/opt/anaconda3/envs/udacity\r\n",
            "\r\n"
          ],
          "name": "stdout"
        }
      ]
    },
    {
      "cell_type": "markdown",
      "metadata": {
        "id": "QMp69yMFbblx"
      },
      "source": [
        "## Paquetes"
      ]
    },
    {
      "cell_type": "code",
      "metadata": {
        "id": "JARjw0Inbbly"
      },
      "source": [
        "%load_ext autoreload\n",
        "%autoreload 2\n",
        "%matplotlib inline\n",
        "%config InlineBackend.figure_format = 'retina'\n",
        "\n",
        "import os\n",
        "import numpy as np\n",
        "import pandas as pd\n",
        "import sklearn\n",
        "import matplotlib.pyplot as plt\n",
        "import seaborn as sns\n",
        "from tqdm import tqdm, tqdm_notebook\n",
        "from pathlib import Path\n",
        "import random\n",
        "import warnings\n",
        "import pickle\n",
        "import xgboost\n",
        "\n",
        "warnings.filterwarnings('ignore')\n",
        "\n",
        "\n",
        "seed = 2020\n",
        "random.seed(seed)\n",
        "\n",
        "pd.set_option('display.max_columns', 1000)\n",
        "pd.set_option('display.max_rows', 400)\n",
        "sns.set()\n",
        "\n",
        "DATA = Path('../../data') \n",
        "RAW  = DATA/'raw'\n",
        "PROCESSED = DATA/'processed'\n",
        "SUBMISSIONS = DATA/'submissions'    \n",
        "\n",
        "MODEL = Path('../../model') "
      ],
      "execution_count": 1,
      "outputs": []
    },
    {
      "cell_type": "code",
      "metadata": {
        "id": "pQGCrveIbbl0",
        "outputId": "0f6792aa-e8f4-4baf-ba49-5b70e727ced7"
      },
      "source": [
        "pd.__version__"
      ],
      "execution_count": null,
      "outputs": [
        {
          "output_type": "execute_result",
          "data": {
            "text/plain": [
              "'1.1.3'"
            ]
          },
          "metadata": {
            "tags": []
          },
          "execution_count": 4
        }
      ]
    },
    {
      "cell_type": "code",
      "metadata": {
        "id": "NYcpBLu3bbl2",
        "outputId": "972dd7ee-5aec-4186-b02b-115768ac64fc"
      },
      "source": [
        "np.__version__"
      ],
      "execution_count": null,
      "outputs": [
        {
          "output_type": "execute_result",
          "data": {
            "text/plain": [
              "'1.19.1'"
            ]
          },
          "metadata": {
            "tags": []
          },
          "execution_count": 5
        }
      ]
    },
    {
      "cell_type": "code",
      "metadata": {
        "id": "cdkGlj9wbbl4",
        "outputId": "07f75f26-69d8-465f-e7a8-7d9c1dcc8091"
      },
      "source": [
        "sklearn.__version__"
      ],
      "execution_count": null,
      "outputs": [
        {
          "output_type": "execute_result",
          "data": {
            "text/plain": [
              "'0.23.2'"
            ]
          },
          "metadata": {
            "tags": []
          },
          "execution_count": 6
        }
      ]
    },
    {
      "cell_type": "markdown",
      "metadata": {
        "id": "25zXlipSbbl7"
      },
      "source": [
        "## Lectura de datos"
      ]
    },
    {
      "cell_type": "code",
      "metadata": {
        "id": "RsdCo8Fvbbl7",
        "outputId": "3b276b8a-500d-4f48-b70e-2b7995f10066"
      },
      "source": [
        "#os.listdir(f'{PROCESSED}')"
      ],
      "execution_count": null,
      "outputs": [
        {
          "output_type": "execute_result",
          "data": {
            "text/plain": [
              "['preprocess_v1_train.csv', '.ipynb_checkpoints', 'preprocess_v1_val.csv']"
            ]
          },
          "metadata": {
            "tags": []
          },
          "execution_count": 7
        }
      ]
    },
    {
      "cell_type": "code",
      "metadata": {
        "id": "S8biYAslbbl9"
      },
      "source": [
        "#df_train = pd.read_csv(f'{PROCESSED}/preprocess_v1_train.csv')\n",
        "#df_val = pd.read_csv((f'{PROCESSED}/preprocess_v1_val.csv'))"
      ],
      "execution_count": null,
      "outputs": []
    },
    {
      "cell_type": "code",
      "metadata": {
        "id": "R9nnsWpJc5a5",
        "outputId": "05beabe4-0a6f-43e5-e3b3-2f9e2faca241",
        "colab": {
          "base_uri": "https://localhost:8080/"
        }
      },
      "source": [
        "# Solo para ejecutar en colab\n",
        "from google.colab import drive\n",
        "drive.mount('/content/drive')"
      ],
      "execution_count": 2,
      "outputs": [
        {
          "output_type": "stream",
          "text": [
            "Drive already mounted at /content/drive; to attempt to forcibly remount, call drive.mount(\"/content/drive\", force_remount=True).\n"
          ],
          "name": "stdout"
        }
      ]
    },
    {
      "cell_type": "code",
      "metadata": {
        "id": "ROAxOlwAdTEG"
      },
      "source": [
        "# Solo para ejecutar en colab\n",
        "train_v1 = pd.read_csv('/content/drive/My Drive/Colab Notebooks/DiplomadoIA/M1_AprendizajeDeMaquina/Proyecto/preprocess_v1_train.csv', compression='zip')\n",
        "train_v2 = pd.read_csv('/content/drive/My Drive/Colab Notebooks/DiplomadoIA/M1_AprendizajeDeMaquina/Proyecto/preprocess_v2_train.csv', compression='zip')"
      ],
      "execution_count": 3,
      "outputs": []
    },
    {
      "cell_type": "code",
      "metadata": {
        "id": "4ND3oDyndeAR",
        "outputId": "4267707e-a64b-4277-dbbc-8475074f6b20",
        "colab": {
          "base_uri": "https://localhost:8080/"
        }
      },
      "source": [
        "train_v1.shape, train_v2.shape"
      ],
      "execution_count": 4,
      "outputs": [
        {
          "output_type": "execute_result",
          "data": {
            "text/plain": [
              "((43846, 61), (43846, 61))"
            ]
          },
          "metadata": {
            "tags": []
          },
          "execution_count": 4
        }
      ]
    },
    {
      "cell_type": "code",
      "metadata": {
        "id": "H1NMXexbbbmB"
      },
      "source": [
        "id_columns = 'employee_id'\n",
        "target = 'is_promoted'"
      ],
      "execution_count": 5,
      "outputs": []
    },
    {
      "cell_type": "markdown",
      "metadata": {
        "id": "_uNK5TFwbbmM"
      },
      "source": [
        "## Balanceo de clases"
      ]
    },
    {
      "cell_type": "code",
      "metadata": {
        "id": "KrfEsUpZft2S",
        "outputId": "898c16e9-88bf-43de-9a1f-ba07493ee580",
        "colab": {
          "base_uri": "https://localhost:8080/"
        }
      },
      "source": [
        "SEED = 2020\n",
        "train_v1['is_promoted'].value_counts() \n",
        "train_v2['is_promoted'].value_counts() "
      ],
      "execution_count": 6,
      "outputs": [
        {
          "output_type": "execute_result",
          "data": {
            "text/plain": [
              "0    40112\n",
              "1     3734\n",
              "Name: is_promoted, dtype: int64"
            ]
          },
          "metadata": {
            "tags": []
          },
          "execution_count": 6
        }
      ]
    },
    {
      "cell_type": "markdown",
      "metadata": {
        "id": "4IZPKd6Od4pn"
      },
      "source": [
        "### Oversampling"
      ]
    },
    {
      "cell_type": "code",
      "metadata": {
        "id": "Kt2oOS-_bbmN",
        "outputId": "06903fd8-8b6d-4f06-b1fd-1a05bff530ec",
        "colab": {
          "base_uri": "https://localhost:8080/"
        }
      },
      "source": [
        "muestra_si_v1_over50 = train_v1[train_v1['is_promoted'] == 1].sample(n=(train_v1['is_promoted'].value_counts()[0] - train_v1['is_promoted'].value_counts()[1]), \n",
        "                                                                   random_state=SEED, replace=True)\n",
        "\n",
        "train_v1_over50 = train_v1.append(muestra_si_v1_over50)\n",
        "\n",
        "# Verificamos la distribución de la clase\n",
        "train_v1_over50['is_promoted'].value_counts()"
      ],
      "execution_count": 9,
      "outputs": [
        {
          "output_type": "execute_result",
          "data": {
            "text/plain": [
              "1    40112\n",
              "0    40112\n",
              "Name: is_promoted, dtype: int64"
            ]
          },
          "metadata": {
            "tags": []
          },
          "execution_count": 9
        }
      ]
    },
    {
      "cell_type": "code",
      "metadata": {
        "id": "dbmLNExpFXFJ"
      },
      "source": [
        "train_v1_over50.to_csv('/content/drive/My Drive/Colab Notebooks/DiplomadoIA/M1_AprendizajeDeMaquina/Proyecto/balanceo/preprocess_v1_over50_train.csv', index=False, compression='zip')"
      ],
      "execution_count": 10,
      "outputs": []
    },
    {
      "cell_type": "code",
      "metadata": {
        "id": "aJ3FpouSDAu0",
        "outputId": "473f1382-9a45-44c5-c33b-732271f343a5",
        "colab": {
          "base_uri": "https://localhost:8080/"
        }
      },
      "source": [
        "muestra_si_v2_over50 = train_v2[train_v2['is_promoted'] == 1].sample(n=(train_v2['is_promoted'].value_counts()[0] - train_v2['is_promoted'].value_counts()[1]), \n",
        "                                                                   random_state=SEED, replace=True)\n",
        "\n",
        "train_v2_over50 = train_v2.append(muestra_si_v1_over50)\n",
        "\n",
        "# Verificamos la distribución de la clase\n",
        "train_v2_over50['is_promoted'].value_counts()"
      ],
      "execution_count": 11,
      "outputs": [
        {
          "output_type": "execute_result",
          "data": {
            "text/plain": [
              "1    40112\n",
              "0    40112\n",
              "Name: is_promoted, dtype: int64"
            ]
          },
          "metadata": {
            "tags": []
          },
          "execution_count": 11
        }
      ]
    },
    {
      "cell_type": "code",
      "metadata": {
        "id": "MkmiJP7_Gdik"
      },
      "source": [
        "train_v2_over50.to_csv('/content/drive/My Drive/Colab Notebooks/DiplomadoIA/M1_AprendizajeDeMaquina/Proyecto/balanceo/preprocess_v2_over50_train.csv', index=False, compression='zip')"
      ],
      "execution_count": 12,
      "outputs": []
    },
    {
      "cell_type": "markdown",
      "metadata": {
        "id": "nO_TtgBSd9V3"
      },
      "source": [
        "### Undersampling"
      ]
    },
    {
      "cell_type": "code",
      "metadata": {
        "id": "457KxwbH2hpB",
        "outputId": "31d6bdde-8146-42cd-8553-9c5bb8bccb10",
        "colab": {
          "base_uri": "https://localhost:8080/"
        }
      },
      "source": [
        "muestra_no_v1_under50 = train_v1[train_v1['is_promoted'] == 0].sample(n=train_v1['is_promoted'].value_counts()[1], \n",
        "                                                                    random_state=SEED, replace=False)\n",
        "\n",
        "train_v1_under50 = train_v1[train_v1['is_promoted'] == 1].append(muestra_no_v1_under50)\n",
        "\n",
        "# Verificamos la distribución de la clase\n",
        "train_v1_under50['is_promoted'].value_counts()"
      ],
      "execution_count": 13,
      "outputs": [
        {
          "output_type": "execute_result",
          "data": {
            "text/plain": [
              "1    3734\n",
              "0    3734\n",
              "Name: is_promoted, dtype: int64"
            ]
          },
          "metadata": {
            "tags": []
          },
          "execution_count": 13
        }
      ]
    },
    {
      "cell_type": "code",
      "metadata": {
        "id": "7DFboH3nG_vc"
      },
      "source": [
        "train_v1_under50.to_csv('/content/drive/My Drive/Colab Notebooks/DiplomadoIA/M1_AprendizajeDeMaquina/Proyecto/balanceo/preprocess_v1_under50_train.csv', index=False, compression='zip')"
      ],
      "execution_count": 14,
      "outputs": []
    },
    {
      "cell_type": "code",
      "metadata": {
        "id": "NY2GdjClE_p6",
        "outputId": "12866d49-7317-426e-e38f-3f8c6ad21d5e",
        "colab": {
          "base_uri": "https://localhost:8080/"
        }
      },
      "source": [
        "muestra_no_v2_under50 = train_v2[train_v2['is_promoted'] == 0].sample(n=train_v2['is_promoted'].value_counts()[1], \n",
        "                                                                    random_state=SEED, replace=False)\n",
        "\n",
        "train_v2_under50 = train_v2[train_v2['is_promoted'] == 1].append(muestra_no_v2_under50)\n",
        "\n",
        "# Verificamos la distribución de la clase\n",
        "train_v2_under50['is_promoted'].value_counts()"
      ],
      "execution_count": 15,
      "outputs": [
        {
          "output_type": "execute_result",
          "data": {
            "text/plain": [
              "1    3734\n",
              "0    3734\n",
              "Name: is_promoted, dtype: int64"
            ]
          },
          "metadata": {
            "tags": []
          },
          "execution_count": 15
        }
      ]
    },
    {
      "cell_type": "code",
      "metadata": {
        "id": "5ki0MP3hHIvu"
      },
      "source": [
        "train_v2_under50.to_csv('/content/drive/My Drive/Colab Notebooks/DiplomadoIA/M1_AprendizajeDeMaquina/Proyecto/balanceo/preprocess_v2_under50_train.csv', index=False, compression='zip')"
      ],
      "execution_count": 16,
      "outputs": []
    },
    {
      "cell_type": "markdown",
      "metadata": {
        "id": "tt6D6z_fpvbU"
      },
      "source": [
        "### SMOTE -> \"not majority\""
      ]
    },
    {
      "cell_type": "code",
      "metadata": {
        "id": "i6cG7XIFOVyj"
      },
      "source": [
        "import xgboost\n",
        "from imblearn.over_sampling import SMOTE"
      ],
      "execution_count": 17,
      "outputs": []
    },
    {
      "cell_type": "code",
      "metadata": {
        "id": "IMtL67qwgdpo",
        "outputId": "616b423b-a008-4ca7-d1c8-bada0b6222e2",
        "colab": {
          "base_uri": "https://localhost:8080/"
        }
      },
      "source": [
        "smote50_v1 = SMOTE(sampling_strategy='not majority', k_neighbors=2, random_state=SEED)    #, kind='svm', out_step=0.2\n",
        "X_train_v1_smote50, y_train_v1_smote50 = smote50_v1.fit_resample(train_v1.drop(target, axis = 1), train_v1[target])\n",
        "pd.DataFrame(y_train_v1_smote50).value_counts()\n",
        "\n",
        "train_v1_smote50 = np.concatenate((X_train_v1_smote50, y_train_v1_smote50.reshape(y_train_v1_smote50.shape[0],1)), axis=1)\n",
        "train_v1_smote50 = pd.DataFrame(train_v1_smote50)\n",
        "train_v1_smote50.shape\n",
        "train_v1_smote50.columns = train_v1.columns\n",
        "\n",
        "# Verificamos la distribución de la clase\n",
        "train_v1_smote50['is_promoted'].value_counts()"
      ],
      "execution_count": 18,
      "outputs": [
        {
          "output_type": "execute_result",
          "data": {
            "text/plain": [
              "1.0    40112\n",
              "0.0    40112\n",
              "Name: is_promoted, dtype: int64"
            ]
          },
          "metadata": {
            "tags": []
          },
          "execution_count": 18
        }
      ]
    },
    {
      "cell_type": "code",
      "metadata": {
        "id": "ZWOBoHrlXllG"
      },
      "source": [
        "train_v1_smote50.to_csv('/content/drive/My Drive/Colab Notebooks/DiplomadoIA/M1_AprendizajeDeMaquina/Proyecto/balanceo/preprocess_v1_smote50_train.csv', index=False, compression='zip')"
      ],
      "execution_count": 19,
      "outputs": []
    },
    {
      "cell_type": "code",
      "metadata": {
        "id": "2SWru09IaGcl",
        "outputId": "9c10b525-3a46-4164-8523-a0f152c6a795",
        "colab": {
          "base_uri": "https://localhost:8080/"
        }
      },
      "source": [
        "smote50_v2 = SMOTE(sampling_strategy='not majority', k_neighbors=2, random_state=SEED)    #, kind='svm', out_step=0.2\n",
        "X_train_v2_smote50, y_train_v2_smote50 = smote50_v2.fit_resample(train_v2.drop(target, axis = 1), train_v2[target])\n",
        "pd.DataFrame(y_train_v2_smote50).value_counts()\n",
        "\n",
        "train_v2_smote50 = np.concatenate((X_train_v2_smote50, y_train_v2_smote50.reshape(y_train_v2_smote50.shape[0],1)), axis=1)\n",
        "train_v2_smote50 = pd.DataFrame(train_v2_smote50)\n",
        "train_v2_smote50.shape\n",
        "train_v2_smote50.columns = train_v2.columns\n",
        "\n",
        "# Verificamos la distribución de la clase\n",
        "train_v2_smote50['is_promoted'].value_counts()"
      ],
      "execution_count": 21,
      "outputs": [
        {
          "output_type": "execute_result",
          "data": {
            "text/plain": [
              "1.0    40112\n",
              "0.0    40112\n",
              "Name: is_promoted, dtype: int64"
            ]
          },
          "metadata": {
            "tags": []
          },
          "execution_count": 21
        }
      ]
    },
    {
      "cell_type": "code",
      "metadata": {
        "id": "BBOTCjWNaGco"
      },
      "source": [
        "train_v2_smote50.to_csv('/content/drive/My Drive/Colab Notebooks/DiplomadoIA/M1_AprendizajeDeMaquina/Proyecto/balanceo/preprocess_v2_smote50_train.csv', index=False, compression='zip')"
      ],
      "execution_count": 22,
      "outputs": []
    },
    {
      "cell_type": "code",
      "metadata": {
        "id": "pxGt-iIcp-oF"
      },
      "source": [
        ""
      ],
      "execution_count": null,
      "outputs": []
    },
    {
      "cell_type": "code",
      "metadata": {
        "id": "zZE1HgiQp_N7",
        "outputId": "88f04df2-ff4a-4caf-93e4-b4138528c6cf",
        "colab": {
          "base_uri": "https://localhost:8080/"
        }
      },
      "source": [
        "smote20_v1 = SMOTE(sampling_strategy=0.2, k_neighbors=2, random_state=SEED)    \n",
        "X_train_v1_smote20, y_train_v1_smote20 = smote20_v1.fit_resample(train_v1.drop(target, axis = 1), train_v1[target])\n",
        "pd.DataFrame(y_train_v1_smote20).value_counts()\n",
        "\n",
        "train_v1_smote20 = np.concatenate((X_train_v1_smote20, y_train_v1_smote20.reshape(y_train_v1_smote20.shape[0],1)), axis=1)\n",
        "train_v1_smote20 = pd.DataFrame(train_v1_smote20)\n",
        "train_v1_smote20.shape\n",
        "train_v1_smote20.columns = train_v1.columns\n",
        "\n",
        "# Verificamos la distribución de la clase\n",
        "train_v1_smote20['is_promoted'].value_counts()"
      ],
      "execution_count": 38,
      "outputs": [
        {
          "output_type": "execute_result",
          "data": {
            "text/plain": [
              "0.0    40112\n",
              "1.0     8022\n",
              "Name: is_promoted, dtype: int64"
            ]
          },
          "metadata": {
            "tags": []
          },
          "execution_count": 38
        }
      ]
    },
    {
      "cell_type": "code",
      "metadata": {
        "id": "PMdnbYeMp_N_"
      },
      "source": [
        "train_v1_smote20.to_csv('/content/drive/My Drive/Colab Notebooks/DiplomadoIA/M1_AprendizajeDeMaquina/Proyecto/balanceo/preprocess_v1_smote20_train.csv', index=False, compression='zip')"
      ],
      "execution_count": 39,
      "outputs": []
    },
    {
      "cell_type": "code",
      "metadata": {
        "id": "DrCVrJPlu2OC",
        "outputId": "7418dda9-9b98-4a68-dc2d-e449acf33daf",
        "colab": {
          "base_uri": "https://localhost:8080/"
        }
      },
      "source": [
        "smote20_v2 = SMOTE(sampling_strategy=0.2, k_neighbors=2, random_state=SEED)    \n",
        "X_train_v2_smote20, y_train_v2_smote20 = smote20_v2.fit_resample(train_v2.drop(target, axis = 1), train_v2[target])\n",
        "pd.DataFrame(y_train_v2_smote20).value_counts()\n",
        "\n",
        "train_v2_smote20 = np.concatenate((X_train_v2_smote20, y_train_v2_smote20.reshape(y_train_v2_smote20.shape[0],1)), axis=1)\n",
        "train_v2_smote20 = pd.DataFrame(train_v2_smote20)\n",
        "train_v2_smote20.shape\n",
        "train_v2_smote20.columns = train_v2.columns\n",
        "\n",
        "# Verificamos la distribución de la clase\n",
        "train_v2_smote20['is_promoted'].value_counts()"
      ],
      "execution_count": 40,
      "outputs": [
        {
          "output_type": "execute_result",
          "data": {
            "text/plain": [
              "0.0    40112\n",
              "1.0     8022\n",
              "Name: is_promoted, dtype: int64"
            ]
          },
          "metadata": {
            "tags": []
          },
          "execution_count": 40
        }
      ]
    },
    {
      "cell_type": "code",
      "metadata": {
        "id": "Hgpiey_FvSkl"
      },
      "source": [
        "train_v2_smote20.to_csv('/content/drive/My Drive/Colab Notebooks/DiplomadoIA/M1_AprendizajeDeMaquina/Proyecto/balanceo/preprocess_v2_smote20_train.csv', index=False, compression='zip')"
      ],
      "execution_count": 41,
      "outputs": []
    },
    {
      "cell_type": "markdown",
      "metadata": {
        "id": "ddyraNN46dTj"
      },
      "source": [
        "### SMOTE + TOMEK "
      ]
    },
    {
      "cell_type": "code",
      "metadata": {
        "id": "0CE5FrP6Z15-"
      },
      "source": [
        "from collections import Counter\n",
        "from sklearn.datasets import make_classification\n",
        "from imblearn.combine import SMOTETomek # doctest: +NORMALIZE_WHITESPACE"
      ],
      "execution_count": 23,
      "outputs": []
    },
    {
      "cell_type": "code",
      "metadata": {
        "id": "lcKcvp7j1LhY",
        "outputId": "0ed5e6ca-c315-4437-ed8b-d49620a61148",
        "colab": {
          "base_uri": "https://localhost:8080/"
        }
      },
      "source": [
        "smoteTomek50_v1 = SMOTETomek(random_state=SEED)\n",
        "X_train_v1_smoteTomek50, y_train_v1_smoteTomek50 = smoteTomek50_v1.fit_resample(train_v1.drop(target, axis = 1), train_v1[target])\n",
        "pd.DataFrame(y_train_v1_smoteTomek50).value_counts()\n",
        "\n",
        "train_v1_smoteTomek50 = np.concatenate((X_train_v1_smoteTomek50, y_train_v1_smoteTomek50.reshape(y_train_v1_smoteTomek50.shape[0],1)), axis=1)\n",
        "train_v1_smoteTomek50 = pd.DataFrame(train_v1_smoteTomek50)\n",
        "train_v1_smoteTomek50.shape\n",
        "train_v1_smoteTomek50.columns = train_v1.columns\n",
        "\n",
        "# Verificamos la distribución de la clase\n",
        "train_v1_smoteTomek50['is_promoted'].value_counts()"
      ],
      "execution_count": 25,
      "outputs": [
        {
          "output_type": "execute_result",
          "data": {
            "text/plain": [
              "1    39819\n",
              "0    39819\n",
              "dtype: int64"
            ]
          },
          "metadata": {
            "tags": []
          },
          "execution_count": 25
        }
      ]
    },
    {
      "cell_type": "code",
      "metadata": {
        "id": "rqPc6EaBjIsB"
      },
      "source": [
        "train_v1_smoteTomek50.to_csv('/content/drive/My Drive/Colab Notebooks/DiplomadoIA/M1_AprendizajeDeMaquina/Proyecto/balanceo/preprocess_v1_smoteTomek50_train.csv', index=False, compression='zip')"
      ],
      "execution_count": 27,
      "outputs": []
    },
    {
      "cell_type": "code",
      "metadata": {
        "id": "mY4-NkC0lVhd",
        "outputId": "b678055e-0c66-4602-8934-1c243700a11e",
        "colab": {
          "base_uri": "https://localhost:8080/"
        }
      },
      "source": [
        "smoteTomek50_v2 = SMOTETomek(random_state=SEED)\n",
        "X_train_v2_smoteTomek50, y_train_v2_smoteTomek50 = smoteTomek50_v2.fit_resample(train_v2.drop(target, axis = 1), train_v2[target])\n",
        "pd.DataFrame(y_train_v2_smoteTomek50).value_counts()\n",
        "\n",
        "train_v2_smoteTomek50 = np.concatenate((X_train_v2_smoteTomek50, y_train_v2_smoteTomek50.reshape(y_train_v2_smoteTomek50.shape[0],1)), axis=1)\n",
        "train_v2_smoteTomek50 = pd.DataFrame(train_v2_smoteTomek50)\n",
        "train_v2_smoteTomek50.shape\n",
        "train_v2_smoteTomek50.columns = train_v2.columns\n",
        "\n",
        "# Verificamos la distribución de la clase\n",
        "train_v2_smoteTomek50['is_promoted'].value_counts()"
      ],
      "execution_count": 28,
      "outputs": [
        {
          "output_type": "execute_result",
          "data": {
            "text/plain": [
              "1    39819\n",
              "0    39819\n",
              "dtype: int64"
            ]
          },
          "metadata": {
            "tags": []
          },
          "execution_count": 28
        }
      ]
    },
    {
      "cell_type": "code",
      "metadata": {
        "id": "BgUmg3KHlubh"
      },
      "source": [
        "train_v2_smoteTomek50.to_csv('/content/drive/My Drive/Colab Notebooks/DiplomadoIA/M1_AprendizajeDeMaquina/Proyecto/balanceo/preprocess_v2_smoteTomek50_train.csv', index=False, compression='zip')"
      ],
      "execution_count": 30,
      "outputs": []
    },
    {
      "cell_type": "code",
      "metadata": {
        "id": "wYmxdXWUvh2n"
      },
      "source": [
        ""
      ],
      "execution_count": null,
      "outputs": []
    },
    {
      "cell_type": "code",
      "metadata": {
        "id": "hHN-sCLRvkT6",
        "outputId": "7c7baf03-d857-4952-ecc2-fb2d0d201d9d",
        "colab": {
          "base_uri": "https://localhost:8080/"
        }
      },
      "source": [
        "smoteTomek20_v1 = SMOTETomek(sampling_strategy=0.2, random_state=SEED)\n",
        "X_train_v1_smoteTomek20, y_train_v1_smoteTomek20 = smoteTomek20_v1.fit_resample(train_v1.drop(target, axis = 1), train_v1[target])\n",
        "pd.DataFrame(y_train_v1_smoteTomek20).value_counts()\n",
        "\n",
        "train_v1_smoteTomek20 = np.concatenate((X_train_v1_smoteTomek20, y_train_v1_smoteTomek20.reshape(y_train_v1_smoteTomek20.shape[0],1)), axis=1)\n",
        "train_v1_smoteTomek20 = pd.DataFrame(train_v1_smoteTomek20)\n",
        "train_v1_smoteTomek20.shape\n",
        "train_v1_smoteTomek20.columns = train_v1.columns\n",
        "\n",
        "# Verificamos la distribución de la clase\n",
        "train_v1_smoteTomek20['is_promoted'].value_counts()"
      ],
      "execution_count": 43,
      "outputs": [
        {
          "output_type": "execute_result",
          "data": {
            "text/plain": [
              "0.0    39251\n",
              "1.0     7161\n",
              "Name: is_promoted, dtype: int64"
            ]
          },
          "metadata": {
            "tags": []
          },
          "execution_count": 43
        }
      ]
    },
    {
      "cell_type": "code",
      "metadata": {
        "id": "EH6JTBNBvkT9"
      },
      "source": [
        "train_v1_smoteTomek20.to_csv('/content/drive/My Drive/Colab Notebooks/DiplomadoIA/M1_AprendizajeDeMaquina/Proyecto/balanceo/preprocess_v1_smoteTomek20_train.csv', index=False, compression='zip')"
      ],
      "execution_count": 44,
      "outputs": []
    },
    {
      "cell_type": "code",
      "metadata": {
        "id": "OoUWAgTrwVT3",
        "outputId": "292d741f-e62d-4107-a7a3-d819840906b3",
        "colab": {
          "base_uri": "https://localhost:8080/"
        }
      },
      "source": [
        "smoteTomek20_v2 = SMOTETomek(sampling_strategy=0.2, random_state=SEED)\n",
        "X_train_v2_smoteTomek20, y_train_v2_smoteTomek20 = smoteTomek20_v2.fit_resample(train_v2.drop(target, axis = 1), train_v2[target])\n",
        "pd.DataFrame(y_train_v2_smoteTomek20).value_counts()\n",
        "\n",
        "train_v2_smoteTomek20 = np.concatenate((X_train_v2_smoteTomek20, y_train_v2_smoteTomek20.reshape(y_train_v2_smoteTomek20.shape[0],1)), axis=1)\n",
        "train_v2_smoteTomek20 = pd.DataFrame(train_v2_smoteTomek20)\n",
        "train_v2_smoteTomek20.shape\n",
        "train_v2_smoteTomek20.columns = train_v2.columns\n",
        "\n",
        "# Verificamos la distribución de la clase\n",
        "train_v2_smoteTomek20['is_promoted'].value_counts()"
      ],
      "execution_count": 45,
      "outputs": [
        {
          "output_type": "execute_result",
          "data": {
            "text/plain": [
              "0.0    39240\n",
              "1.0     7150\n",
              "Name: is_promoted, dtype: int64"
            ]
          },
          "metadata": {
            "tags": []
          },
          "execution_count": 45
        }
      ]
    },
    {
      "cell_type": "code",
      "metadata": {
        "id": "bZf0kPGxwtoW"
      },
      "source": [
        "train_v2_smoteTomek20.to_csv('/content/drive/My Drive/Colab Notebooks/DiplomadoIA/M1_AprendizajeDeMaquina/Proyecto/balanceo/preprocess_v2_smoteTomek20_train.csv', index=False, compression='zip')"
      ],
      "execution_count": 46,
      "outputs": []
    },
    {
      "cell_type": "markdown",
      "metadata": {
        "id": "cB9JrULBtj0M"
      },
      "source": [
        "### SMOTE -> \"all\""
      ]
    },
    {
      "cell_type": "code",
      "metadata": {
        "id": "021nIcpwsBWL"
      },
      "source": [
        "#not minority (?) misma distribución \n",
        "#from imblearn.over_sampling import SMOTE\n",
        "#\n",
        "#sm = SMOTE(sampling_strategy='all', k_neighbors=2, random_state=SEED)\n",
        "#x_SMOTE_m4, y_SMOTE_m4 = sm.fit_resample(df_train.drop(target, axis = 1), df_train[target])\n",
        "#pd.DataFrame(y_SMOTE_m4).value_counts()"
      ],
      "execution_count": null,
      "outputs": []
    },
    {
      "cell_type": "markdown",
      "metadata": {
        "id": "tIh6I3Kxu7FJ"
      },
      "source": [
        "### Tomek -> \"not majority\""
      ]
    },
    {
      "cell_type": "code",
      "metadata": {
        "id": "pEPOT6QXzzvg",
        "outputId": "9fb422fd-fe58-4775-a4ca-99d7397bf91d",
        "colab": {
          "base_uri": "https://localhost:8080/"
        }
      },
      "source": [
        "#from sklearn.datasets import make_classification\n",
        "#from imblearn.under_sampling import TomekLinks # doctest: +NORMALIZE_WHITESPACE\n",
        "#\n",
        "#smt = TomekLinks(sampling_strategy='not majority',)\n",
        "#x_SMOTE_m5, y_SMOTE_m5 = smt.fit_resample(df_train.drop(target, axis = 1), df_train[target])\n",
        "#pd.DataFrame(y_SMOTE_m5).value_counts()"
      ],
      "execution_count": null,
      "outputs": [
        {
          "output_type": "execute_result",
          "data": {
            "text/plain": [
              "0    40112\n",
              "1     2410\n",
              "dtype: int64"
            ]
          },
          "metadata": {
            "tags": []
          },
          "execution_count": 8
        }
      ]
    },
    {
      "cell_type": "markdown",
      "metadata": {
        "id": "RztvQs00Taib"
      },
      "source": [
        "### Tomek -> \"all\""
      ]
    },
    {
      "cell_type": "code",
      "metadata": {
        "id": "rG8xdCPqz36d",
        "outputId": "c9dfeef5-1854-4839-af3a-9f01c12f6b2f",
        "colab": {
          "base_uri": "https://localhost:8080/"
        }
      },
      "source": [
        "#from sklearn.datasets import make_classification\n",
        "#from imblearn.under_sampling import TomekLinks # doctest: +NORMALIZE_WHITESPACE\n",
        "#\n",
        "#smt = TomekLinks(sampling_strategy='all')\n",
        "#x_SMOTE_m6, y_SMOTE_m6 = smt.fit_resample(df_train.drop(target, axis = 1), df_train[target])\n",
        "#pd.DataFrame(y_SMOTE_m6).value_counts()"
      ],
      "execution_count": null,
      "outputs": [
        {
          "output_type": "execute_result",
          "data": {
            "text/plain": [
              "0    38788\n",
              "1     2410\n",
              "dtype: int64"
            ]
          },
          "metadata": {
            "tags": []
          },
          "execution_count": 9
        }
      ]
    },
    {
      "cell_type": "markdown",
      "metadata": {
        "id": "Czmhy4z9T2_z"
      },
      "source": [
        "### Tomek -> \"not minority\""
      ]
    },
    {
      "cell_type": "code",
      "metadata": {
        "id": "mQS2OOpJwetn",
        "outputId": "7d476683-bf48-4e78-cfd1-1f7a33858212",
        "colab": {
          "base_uri": "https://localhost:8080/"
        }
      },
      "source": [
        "#from sklearn.datasets import make_classification\n",
        "#from imblearn.under_sampling import TomekLinks # doctest: +NORMALIZE_WHITESPACE\n",
        "#\n",
        "#smt = TomekLinks(sampling_strategy='not minority')\n",
        "#x_SMOTE_m7, y_SMOTE_m7 = smt.fit_resample(df_train.drop(target, axis = 1), df_train[target])\n",
        "#pd.DataFrame(y_SMOTE_m7).value_counts()"
      ],
      "execution_count": null,
      "outputs": [
        {
          "output_type": "execute_result",
          "data": {
            "text/plain": [
              "0    38788\n",
              "1     3734\n",
              "dtype: int64"
            ]
          },
          "metadata": {
            "tags": []
          },
          "execution_count": 10
        }
      ]
    },
    {
      "cell_type": "code",
      "metadata": {
        "id": "wqhz0DpSzIDU"
      },
      "source": [
        ""
      ],
      "execution_count": null,
      "outputs": []
    },
    {
      "cell_type": "code",
      "metadata": {
        "id": "i9ZbwvHKzIa9"
      },
      "source": [
        ""
      ],
      "execution_count": null,
      "outputs": []
    },
    {
      "cell_type": "code",
      "metadata": {
        "id": "JNM1mWwyzH8J"
      },
      "source": [
        ""
      ],
      "execution_count": null,
      "outputs": []
    },
    {
      "cell_type": "markdown",
      "metadata": {
        "id": "ne_EGnuWbbm1"
      },
      "source": [
        "## Importancia de variables en xgboost"
      ]
    },
    {
      "cell_type": "code",
      "metadata": {
        "id": "y6qfiy0mIJr7"
      },
      "source": [
        "#pd.DataFrame(dataunica).columns"
      ],
      "execution_count": null,
      "outputs": []
    },
    {
      "cell_type": "code",
      "metadata": {
        "id": "bSJcT4gaDJEf"
      },
      "source": [
        "#clf.get_booster().feature_names = list(['', '', '']) \n",
        "#xx = clf.get_booster().get_score(importance_type= 'gain')  \n",
        "#xx = {k: round(v,2) for k, v in sorted(xx.items(), key=lambda item: item[1])}\n",
        "#x = {k: xx[k] for k in list(xx)[-10:]}\n",
        "#plt.figure(figsize=(5,10))\n",
        "#plt.barh(range(len(x)), list(x.values()), align='center')\n",
        "#plt.yticks(range(len(x)), list(x.keys()))\n",
        "#plt.xlabel('score', fontsize=18)\n",
        "#plt.ylabel('variables', fontsize=18)\n",
        "#plt.title('Importancia de variables', fontsize=20)\n",
        "#for i, v in enumerate(x.values()):\n",
        "#    plt.text(v -1, i-0.1, str(v), color='white', fontweight='bold',fontsize=18)\n",
        "#plt.show()"
      ],
      "execution_count": null,
      "outputs": []
    },
    {
      "cell_type": "code",
      "metadata": {
        "id": "lRiLTVUjbbm3"
      },
      "source": [
        ""
      ],
      "execution_count": null,
      "outputs": []
    },
    {
      "cell_type": "code",
      "metadata": {
        "id": "K9y_tpOo0GWN"
      },
      "source": [
        ""
      ],
      "execution_count": null,
      "outputs": []
    },
    {
      "cell_type": "markdown",
      "metadata": {
        "id": "dl7n1AtN0Hbu"
      },
      "source": [
        "## Imputación por regresión"
      ]
    },
    {
      "cell_type": "code",
      "metadata": {
        "id": "f_1W2VTPO-Tz"
      },
      "source": [
        "## explicitly require this experimental feature\n",
        "#from sklearn.experimental import enable_iterative_imputer  # noqa\n",
        "## now you can import normally from sklearn.impute\n",
        "#from sklearn.impute import IterativeImputer\n",
        "#\n",
        "#import numpy as np\n",
        "#from sklearn.experimental import enable_iterative_imputer\n",
        "#from sklearn.impute import IterativeImputer\n",
        "#imp_mean = IterativeImputer(random_state=0)"
      ],
      "execution_count": null,
      "outputs": []
    },
    {
      "cell_type": "code",
      "metadata": {
        "id": "FFTDMyIjIRPG"
      },
      "source": [
        "#imp_mean.fit(data_sinNA)\n",
        "#dataImp = pd.DataFrame(imp_mean.transform(data))\n",
        "#dataImp.columns = data.columns"
      ],
      "execution_count": null,
      "outputs": []
    },
    {
      "cell_type": "code",
      "metadata": {
        "id": "tbT3Hh6x0St8"
      },
      "source": [
        ""
      ],
      "execution_count": null,
      "outputs": []
    },
    {
      "cell_type": "code",
      "metadata": {
        "id": "NORzlWYM0Sdj"
      },
      "source": [
        ""
      ],
      "execution_count": null,
      "outputs": []
    }
  ]
}