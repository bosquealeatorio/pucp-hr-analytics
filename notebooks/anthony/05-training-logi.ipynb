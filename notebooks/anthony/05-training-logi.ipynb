{
 "cells": [
  {
   "cell_type": "markdown",
   "metadata": {},
   "source": [
    "# HR Analytics\n",
    "\n",
    "<img src = 'https://datahack-prod.s3.ap-south-1.amazonaws.com/__sized__/contest_cover/hr_1920x480_s5WuoZs-thumbnail-1200x1200-90.jpg'>\n",
    "\n",
    "Practice Problem: https://datahack.analyticsvidhya.com/contest/wns-analytics-hackathon-2018-1/"
   ]
  },
  {
   "cell_type": "markdown",
   "metadata": {},
   "source": [
    "## HR Analytics\n",
    "\n",
    "HR analytics is revolutionising the way human resources departments operate, leading to higher efficiency and better results overall. Human resources has been using analytics for years. However, the collection, processing and analysis of data has been largely manual, and given the nature of human resources dynamics and HR KPIs, the approach has been constraining HR. Therefore, it is surprising that HR departments woke up to the utility of machine learning so late in the game. Here is an opportunity to try predictive analytics in identifying the employees most likely to get promoted."
   ]
  },
  {
   "cell_type": "markdown",
   "metadata": {},
   "source": [
    "## Problem Statement\n",
    "\n",
    "Your client is a large MNC and they have 9 broad verticals across the organisation. One of the problem your client is facing is around identifying the right people for promotion *(only for manager position and below)* and prepare them in time. Currently the process, they are following is:\n",
    "\n",
    "* They first identify a set of employees based on recommendations/ past performance\n",
    "* Selected employees go through the separate training and evaluation program for each vertical. These programs are based on the required skill of each vertical\n",
    "* At the end of the program, based on various factors such as training performance, KPI completion (only employees with KPIs completed greater than 60% are considered) etc., employee gets promotion\n",
    "\n",
    "For above mentioned process, the final promotions are only announced after the evaluation and this leads to delay in transition to their new roles. Hence, company needs your help in identifying the eligible candidates at a particular checkpoint so that they can expedite the entire promotion cycle. "
   ]
  },
  {
   "cell_type": "markdown",
   "metadata": {},
   "source": [
    "<img src = 'https://s3-ap-south-1.amazonaws.com/av-blog-media/wp-content/uploads/2018/09/wns_hack_im_1.jpg'>"
   ]
  },
  {
   "cell_type": "markdown",
   "metadata": {},
   "source": [
    "They have provided multiple attributes around Employee's past and current performance along with demographics. Now, The task is to predict whether a potential promotee at checkpoint in the test set will be promoted or not after the evaluation process."
   ]
  },
  {
   "cell_type": "markdown",
   "metadata": {},
   "source": [
    "## Evaluation Metric\n",
    "\n",
    "The evaluation metric for this competition is F1 Score.\n",
    "\n",
    "## Public and Private Split\n",
    "\n",
    "Test data is further randomly divided into Public (40%) and Private (60%) data.\n",
    "\n",
    "Your initial responses will be checked and scored on the Public data.\n",
    "The final rankings would be based on your private score which will be published once the competition is over."
   ]
  },
  {
   "cell_type": "markdown",
   "metadata": {},
   "source": [
    "## Entorno"
   ]
  },
  {
   "cell_type": "code",
   "execution_count": 1,
   "metadata": {},
   "outputs": [
    {
     "data": {
      "text/plain": [
       "'3.7.9 (default, Aug 31 2020, 17:10:11) [MSC v.1916 64 bit (AMD64)]'"
      ]
     },
     "execution_count": 1,
     "metadata": {},
     "output_type": "execute_result"
    }
   ],
   "source": [
    "import sys\n",
    "sys.version"
   ]
  },
  {
   "cell_type": "code",
   "execution_count": 2,
   "metadata": {},
   "outputs": [
    {
     "name": "stdout",
     "output_type": "stream",
     "text": [
      "# conda environments:\n",
      "#\n",
      "base                  *  C:\\Users\\antho\\Anaconda3\n",
      "\n"
     ]
    }
   ],
   "source": [
    "!conda info --envs"
   ]
  },
  {
   "cell_type": "markdown",
   "metadata": {},
   "source": [
    "## Paquetes"
   ]
  },
  {
   "cell_type": "code",
   "execution_count": 3,
   "metadata": {},
   "outputs": [],
   "source": [
    "%load_ext autoreload\n",
    "%autoreload 2\n",
    "%matplotlib inline\n",
    "%config InlineBackend.figure_format = 'retina'\n",
    "\n",
    "import os\n",
    "import numpy as np\n",
    "import pandas as pd\n",
    "import sklearn\n",
    "import matplotlib.pyplot as plt\n",
    "import seaborn as sns\n",
    "from tqdm import tqdm, tqdm_notebook\n",
    "from pathlib import Path\n",
    "import random\n",
    "import warnings\n",
    "import pickle\n",
    "\n",
    "warnings.filterwarnings('ignore')\n",
    "\n",
    "\n",
    "seed = 2020\n",
    "random.seed(seed)\n",
    "\n",
    "pd.set_option('display.max_columns', 1000)\n",
    "pd.set_option('display.max_rows', 400)\n",
    "sns.set()\n",
    "\n",
    "DATA = Path('../../data') \n",
    "RAW  = DATA/'raw'\n",
    "PROCESSED = DATA/'processed'\n",
    "SUBMISSIONS = DATA/'submissions'    \n",
    "\n",
    "MODEL = Path('../../model') "
   ]
  },
  {
   "cell_type": "code",
   "execution_count": 4,
   "metadata": {},
   "outputs": [
    {
     "data": {
      "text/plain": [
       "'1.1.3'"
      ]
     },
     "execution_count": 4,
     "metadata": {},
     "output_type": "execute_result"
    }
   ],
   "source": [
    "pd.__version__"
   ]
  },
  {
   "cell_type": "code",
   "execution_count": 5,
   "metadata": {},
   "outputs": [
    {
     "data": {
      "text/plain": [
       "'1.19.2'"
      ]
     },
     "execution_count": 5,
     "metadata": {},
     "output_type": "execute_result"
    }
   ],
   "source": [
    "np.__version__"
   ]
  },
  {
   "cell_type": "code",
   "execution_count": 6,
   "metadata": {},
   "outputs": [
    {
     "data": {
      "text/plain": [
       "'0.23.2'"
      ]
     },
     "execution_count": 6,
     "metadata": {},
     "output_type": "execute_result"
    }
   ],
   "source": [
    "sklearn.__version__"
   ]
  },
  {
   "cell_type": "markdown",
   "metadata": {},
   "source": [
    "## Lectura de datos"
   ]
  },
  {
   "cell_type": "code",
   "execution_count": 7,
   "metadata": {},
   "outputs": [
    {
     "data": {
      "text/plain": [
       "['.DS_Store',\n",
       " 'preprocess_v1_capping_values.pkl',\n",
       " 'preprocess_v1_impute_values.pkl',\n",
       " 'preprocess_v1_ohe.pkl',\n",
       " 'preprocess_v1_ohe_columns.pkl',\n",
       " 'preprocess_v1_over50_train.csv',\n",
       " 'preprocess_v1_scaler.pkl',\n",
       " 'preprocess_v1_smote50_train.csv',\n",
       " 'preprocess_v1_smoteTomek50_train.csv',\n",
       " 'preprocess_v1_train.csv',\n",
       " 'preprocess_v1_under50_train.csv',\n",
       " 'preprocess_v1_val.csv',\n",
       " 'preprocess_v2_capping_values.pkl',\n",
       " 'preprocess_v2_knnimputation.pkl',\n",
       " 'preprocess_v2_ohe.pkl',\n",
       " 'preprocess_v2_ohe_columns.pkl',\n",
       " 'preprocess_v2_over50_train.csv',\n",
       " 'preprocess_v2_scaler.pkl',\n",
       " 'preprocess_v2_scalerimputation.pkl',\n",
       " 'preprocess_v2_smote50_train.csv',\n",
       " 'preprocess_v2_smoteTomek50_train.csv',\n",
       " 'preprocess_v2_train.csv',\n",
       " 'preprocess_v2_under50_train.csv',\n",
       " 'preprocess_v2_val.csv']"
      ]
     },
     "execution_count": 7,
     "metadata": {},
     "output_type": "execute_result"
    }
   ],
   "source": [
    "os.listdir(f'{PROCESSED}')"
   ]
  },
  {
   "cell_type": "code",
   "execution_count": 8,
   "metadata": {},
   "outputs": [],
   "source": [
    "preproc_label = 'preprocess_v1'\n",
    "model_label = 'logi_roc_auc'"
   ]
  },
  {
   "cell_type": "code",
   "execution_count": 9,
   "metadata": {},
   "outputs": [],
   "source": [
    "df_train = pd.read_csv(f'{PROCESSED}/{preproc_label}_train.csv', compression= 'zip')\n",
    "df_val = pd.read_csv(f'{PROCESSED}/{preproc_label}_val.csv', compression= 'zip')"
   ]
  },
  {
   "cell_type": "code",
   "execution_count": 10,
   "metadata": {},
   "outputs": [
    {
     "data": {
      "text/plain": [
       "((43846, 61), (10962, 61))"
      ]
     },
     "execution_count": 10,
     "metadata": {},
     "output_type": "execute_result"
    }
   ],
   "source": [
    "df_train.shape, df_val.shape"
   ]
  },
  {
   "cell_type": "code",
   "execution_count": 11,
   "metadata": {},
   "outputs": [],
   "source": [
    "id_columns = 'employee_id'\n",
    "target = 'is_promoted'"
   ]
  },
  {
   "cell_type": "markdown",
   "metadata": {},
   "source": [
    "## Features y target"
   ]
  },
  {
   "cell_type": "code",
   "execution_count": 12,
   "metadata": {},
   "outputs": [
    {
     "data": {
      "text/html": [
       "<div>\n",
       "<style scoped>\n",
       "    .dataframe tbody tr th:only-of-type {\n",
       "        vertical-align: middle;\n",
       "    }\n",
       "\n",
       "    .dataframe tbody tr th {\n",
       "        vertical-align: top;\n",
       "    }\n",
       "\n",
       "    .dataframe thead th {\n",
       "        text-align: right;\n",
       "    }\n",
       "</style>\n",
       "<table border=\"1\" class=\"dataframe\">\n",
       "  <thead>\n",
       "    <tr style=\"text-align: right;\">\n",
       "      <th></th>\n",
       "      <th>no_of_trainings</th>\n",
       "      <th>age</th>\n",
       "      <th>previous_year_rating</th>\n",
       "      <th>length_of_service</th>\n",
       "      <th>KPIs_met &gt;80%</th>\n",
       "      <th>awards_won?</th>\n",
       "      <th>avg_training_score</th>\n",
       "      <th>na_previous_year_rating</th>\n",
       "      <th>na_education</th>\n",
       "      <th>department_Analytics</th>\n",
       "      <th>department_Finance</th>\n",
       "      <th>department_HR</th>\n",
       "      <th>department_Legal</th>\n",
       "      <th>department_Operations</th>\n",
       "      <th>department_Procurement</th>\n",
       "      <th>department_R&amp;D</th>\n",
       "      <th>department_Sales &amp; Marketing</th>\n",
       "      <th>department_Technology</th>\n",
       "      <th>region_region_1</th>\n",
       "      <th>region_region_10</th>\n",
       "      <th>region_region_11</th>\n",
       "      <th>region_region_12</th>\n",
       "      <th>region_region_13</th>\n",
       "      <th>region_region_14</th>\n",
       "      <th>region_region_15</th>\n",
       "      <th>region_region_16</th>\n",
       "      <th>region_region_17</th>\n",
       "      <th>region_region_18</th>\n",
       "      <th>region_region_19</th>\n",
       "      <th>region_region_2</th>\n",
       "      <th>region_region_20</th>\n",
       "      <th>region_region_21</th>\n",
       "      <th>region_region_22</th>\n",
       "      <th>region_region_23</th>\n",
       "      <th>region_region_24</th>\n",
       "      <th>region_region_25</th>\n",
       "      <th>region_region_26</th>\n",
       "      <th>region_region_27</th>\n",
       "      <th>region_region_28</th>\n",
       "      <th>region_region_29</th>\n",
       "      <th>region_region_3</th>\n",
       "      <th>region_region_30</th>\n",
       "      <th>region_region_31</th>\n",
       "      <th>region_region_32</th>\n",
       "      <th>region_region_33</th>\n",
       "      <th>region_region_34</th>\n",
       "      <th>region_region_4</th>\n",
       "      <th>region_region_5</th>\n",
       "      <th>region_region_6</th>\n",
       "      <th>region_region_7</th>\n",
       "      <th>region_region_8</th>\n",
       "      <th>region_region_9</th>\n",
       "      <th>education_Bachelor's</th>\n",
       "      <th>education_Below Secondary</th>\n",
       "      <th>education_Master's &amp; above</th>\n",
       "      <th>gender_f</th>\n",
       "      <th>gender_m</th>\n",
       "      <th>recruitment_channel_other</th>\n",
       "      <th>recruitment_channel_referred</th>\n",
       "      <th>recruitment_channel_sourcing</th>\n",
       "      <th>is_promoted</th>\n",
       "    </tr>\n",
       "  </thead>\n",
       "  <tbody>\n",
       "    <tr>\n",
       "      <th>0</th>\n",
       "      <td>-0.431999</td>\n",
       "      <td>0.544625</td>\n",
       "      <td>1.375360</td>\n",
       "      <td>-0.448068</td>\n",
       "      <td>1.356651</td>\n",
       "      <td>-0.153163</td>\n",
       "      <td>-0.328225</td>\n",
       "      <td>-0.284445</td>\n",
       "      <td>-0.212536</td>\n",
       "      <td>-0.32894</td>\n",
       "      <td>-0.220673</td>\n",
       "      <td>-0.21574</td>\n",
       "      <td>-0.137364</td>\n",
       "      <td>1.961378</td>\n",
       "      <td>-0.387219</td>\n",
       "      <td>-0.135368</td>\n",
       "      <td>-0.666307</td>\n",
       "      <td>-0.387881</td>\n",
       "      <td>-0.106419</td>\n",
       "      <td>-0.110615</td>\n",
       "      <td>-0.155332</td>\n",
       "      <td>-0.094979</td>\n",
       "      <td>-0.222429</td>\n",
       "      <td>-0.125042</td>\n",
       "      <td>4.300672</td>\n",
       "      <td>-0.166592</td>\n",
       "      <td>-0.122189</td>\n",
       "      <td>-0.024823</td>\n",
       "      <td>-0.126818</td>\n",
       "      <td>-0.537077</td>\n",
       "      <td>-0.125886</td>\n",
       "      <td>-0.085878</td>\n",
       "      <td>-0.363769</td>\n",
       "      <td>-0.148817</td>\n",
       "      <td>-0.096073</td>\n",
       "      <td>-0.123338</td>\n",
       "      <td>-0.205222</td>\n",
       "      <td>-0.177348</td>\n",
       "      <td>-0.157475</td>\n",
       "      <td>-0.137364</td>\n",
       "      <td>-0.080456</td>\n",
       "      <td>-0.10934</td>\n",
       "      <td>-0.193472</td>\n",
       "      <td>-0.130933</td>\n",
       "      <td>-0.071013</td>\n",
       "      <td>-0.071175</td>\n",
       "      <td>-0.180403</td>\n",
       "      <td>-0.12103</td>\n",
       "      <td>-0.111771</td>\n",
       "      <td>-0.31312</td>\n",
       "      <td>-0.112084</td>\n",
       "      <td>-0.089315</td>\n",
       "      <td>0.634349</td>\n",
       "      <td>-0.120154</td>\n",
       "      <td>-0.612337</td>\n",
       "      <td>-0.651463</td>\n",
       "      <td>0.651463</td>\n",
       "      <td>-1.120159</td>\n",
       "      <td>-0.145991</td>\n",
       "      <td>1.168798</td>\n",
       "      <td>0</td>\n",
       "    </tr>\n",
       "    <tr>\n",
       "      <th>1</th>\n",
       "      <td>-0.431999</td>\n",
       "      <td>1.587188</td>\n",
       "      <td>-0.273747</td>\n",
       "      <td>-0.693649</td>\n",
       "      <td>-0.737109</td>\n",
       "      <td>-0.153163</td>\n",
       "      <td>0.270731</td>\n",
       "      <td>-0.284445</td>\n",
       "      <td>-0.212536</td>\n",
       "      <td>-0.32894</td>\n",
       "      <td>-0.220673</td>\n",
       "      <td>-0.21574</td>\n",
       "      <td>-0.137364</td>\n",
       "      <td>-0.509846</td>\n",
       "      <td>2.582520</td>\n",
       "      <td>-0.135368</td>\n",
       "      <td>-0.666307</td>\n",
       "      <td>-0.387881</td>\n",
       "      <td>-0.106419</td>\n",
       "      <td>-0.110615</td>\n",
       "      <td>-0.155332</td>\n",
       "      <td>-0.094979</td>\n",
       "      <td>-0.222429</td>\n",
       "      <td>-0.125042</td>\n",
       "      <td>-0.232522</td>\n",
       "      <td>-0.166592</td>\n",
       "      <td>8.184027</td>\n",
       "      <td>-0.024823</td>\n",
       "      <td>-0.126818</td>\n",
       "      <td>-0.537077</td>\n",
       "      <td>-0.125886</td>\n",
       "      <td>-0.085878</td>\n",
       "      <td>-0.363769</td>\n",
       "      <td>-0.148817</td>\n",
       "      <td>-0.096073</td>\n",
       "      <td>-0.123338</td>\n",
       "      <td>-0.205222</td>\n",
       "      <td>-0.177348</td>\n",
       "      <td>-0.157475</td>\n",
       "      <td>-0.137364</td>\n",
       "      <td>-0.080456</td>\n",
       "      <td>-0.10934</td>\n",
       "      <td>-0.193472</td>\n",
       "      <td>-0.130933</td>\n",
       "      <td>-0.071013</td>\n",
       "      <td>-0.071175</td>\n",
       "      <td>-0.180403</td>\n",
       "      <td>-0.12103</td>\n",
       "      <td>-0.111771</td>\n",
       "      <td>-0.31312</td>\n",
       "      <td>-0.112084</td>\n",
       "      <td>-0.089315</td>\n",
       "      <td>-1.576419</td>\n",
       "      <td>-0.120154</td>\n",
       "      <td>1.633087</td>\n",
       "      <td>1.535007</td>\n",
       "      <td>-1.535007</td>\n",
       "      <td>-1.120159</td>\n",
       "      <td>-0.145991</td>\n",
       "      <td>1.168798</td>\n",
       "      <td>0</td>\n",
       "    </tr>\n",
       "    <tr>\n",
       "      <th>2</th>\n",
       "      <td>-0.431999</td>\n",
       "      <td>3.020713</td>\n",
       "      <td>-0.273747</td>\n",
       "      <td>3.481229</td>\n",
       "      <td>-0.737109</td>\n",
       "      <td>-0.153163</td>\n",
       "      <td>0.570210</td>\n",
       "      <td>-0.284445</td>\n",
       "      <td>-0.212536</td>\n",
       "      <td>-0.32894</td>\n",
       "      <td>-0.220673</td>\n",
       "      <td>-0.21574</td>\n",
       "      <td>-0.137364</td>\n",
       "      <td>-0.509846</td>\n",
       "      <td>2.582520</td>\n",
       "      <td>-0.135368</td>\n",
       "      <td>-0.666307</td>\n",
       "      <td>-0.387881</td>\n",
       "      <td>-0.106419</td>\n",
       "      <td>-0.110615</td>\n",
       "      <td>-0.155332</td>\n",
       "      <td>-0.094979</td>\n",
       "      <td>-0.222429</td>\n",
       "      <td>-0.125042</td>\n",
       "      <td>-0.232522</td>\n",
       "      <td>-0.166592</td>\n",
       "      <td>-0.122189</td>\n",
       "      <td>-0.024823</td>\n",
       "      <td>-0.126818</td>\n",
       "      <td>1.861932</td>\n",
       "      <td>-0.125886</td>\n",
       "      <td>-0.085878</td>\n",
       "      <td>-0.363769</td>\n",
       "      <td>-0.148817</td>\n",
       "      <td>-0.096073</td>\n",
       "      <td>-0.123338</td>\n",
       "      <td>-0.205222</td>\n",
       "      <td>-0.177348</td>\n",
       "      <td>-0.157475</td>\n",
       "      <td>-0.137364</td>\n",
       "      <td>-0.080456</td>\n",
       "      <td>-0.10934</td>\n",
       "      <td>-0.193472</td>\n",
       "      <td>-0.130933</td>\n",
       "      <td>-0.071013</td>\n",
       "      <td>-0.071175</td>\n",
       "      <td>-0.180403</td>\n",
       "      <td>-0.12103</td>\n",
       "      <td>-0.111771</td>\n",
       "      <td>-0.31312</td>\n",
       "      <td>-0.112084</td>\n",
       "      <td>-0.089315</td>\n",
       "      <td>0.634349</td>\n",
       "      <td>-0.120154</td>\n",
       "      <td>-0.612337</td>\n",
       "      <td>1.535007</td>\n",
       "      <td>-1.535007</td>\n",
       "      <td>0.892730</td>\n",
       "      <td>-0.145991</td>\n",
       "      <td>-0.855580</td>\n",
       "      <td>0</td>\n",
       "    </tr>\n",
       "    <tr>\n",
       "      <th>3</th>\n",
       "      <td>-0.431999</td>\n",
       "      <td>-0.888899</td>\n",
       "      <td>0.550807</td>\n",
       "      <td>-0.448068</td>\n",
       "      <td>-0.737109</td>\n",
       "      <td>-0.153163</td>\n",
       "      <td>-1.076920</td>\n",
       "      <td>-0.284445</td>\n",
       "      <td>-0.212536</td>\n",
       "      <td>-0.32894</td>\n",
       "      <td>-0.220673</td>\n",
       "      <td>-0.21574</td>\n",
       "      <td>-0.137364</td>\n",
       "      <td>-0.509846</td>\n",
       "      <td>-0.387219</td>\n",
       "      <td>-0.135368</td>\n",
       "      <td>1.500810</td>\n",
       "      <td>-0.387881</td>\n",
       "      <td>-0.106419</td>\n",
       "      <td>-0.110615</td>\n",
       "      <td>-0.155332</td>\n",
       "      <td>-0.094979</td>\n",
       "      <td>4.495819</td>\n",
       "      <td>-0.125042</td>\n",
       "      <td>-0.232522</td>\n",
       "      <td>-0.166592</td>\n",
       "      <td>-0.122189</td>\n",
       "      <td>-0.024823</td>\n",
       "      <td>-0.126818</td>\n",
       "      <td>-0.537077</td>\n",
       "      <td>-0.125886</td>\n",
       "      <td>-0.085878</td>\n",
       "      <td>-0.363769</td>\n",
       "      <td>-0.148817</td>\n",
       "      <td>-0.096073</td>\n",
       "      <td>-0.123338</td>\n",
       "      <td>-0.205222</td>\n",
       "      <td>-0.177348</td>\n",
       "      <td>-0.157475</td>\n",
       "      <td>-0.137364</td>\n",
       "      <td>-0.080456</td>\n",
       "      <td>-0.10934</td>\n",
       "      <td>-0.193472</td>\n",
       "      <td>-0.130933</td>\n",
       "      <td>-0.071013</td>\n",
       "      <td>-0.071175</td>\n",
       "      <td>-0.180403</td>\n",
       "      <td>-0.12103</td>\n",
       "      <td>-0.111771</td>\n",
       "      <td>-0.31312</td>\n",
       "      <td>-0.112084</td>\n",
       "      <td>-0.089315</td>\n",
       "      <td>0.634349</td>\n",
       "      <td>-0.120154</td>\n",
       "      <td>-0.612337</td>\n",
       "      <td>-0.651463</td>\n",
       "      <td>0.651463</td>\n",
       "      <td>0.892730</td>\n",
       "      <td>-0.145991</td>\n",
       "      <td>-0.855580</td>\n",
       "      <td>0</td>\n",
       "    </tr>\n",
       "    <tr>\n",
       "      <th>4</th>\n",
       "      <td>-0.431999</td>\n",
       "      <td>0.544625</td>\n",
       "      <td>-0.273747</td>\n",
       "      <td>0.779837</td>\n",
       "      <td>-0.737109</td>\n",
       "      <td>-0.153163</td>\n",
       "      <td>1.318905</td>\n",
       "      <td>-0.284445</td>\n",
       "      <td>-0.212536</td>\n",
       "      <td>-0.32894</td>\n",
       "      <td>-0.220673</td>\n",
       "      <td>-0.21574</td>\n",
       "      <td>-0.137364</td>\n",
       "      <td>-0.509846</td>\n",
       "      <td>-0.387219</td>\n",
       "      <td>-0.135368</td>\n",
       "      <td>-0.666307</td>\n",
       "      <td>2.578113</td>\n",
       "      <td>-0.106419</td>\n",
       "      <td>-0.110615</td>\n",
       "      <td>-0.155332</td>\n",
       "      <td>-0.094979</td>\n",
       "      <td>-0.222429</td>\n",
       "      <td>-0.125042</td>\n",
       "      <td>-0.232522</td>\n",
       "      <td>-0.166592</td>\n",
       "      <td>-0.122189</td>\n",
       "      <td>-0.024823</td>\n",
       "      <td>-0.126818</td>\n",
       "      <td>-0.537077</td>\n",
       "      <td>7.943698</td>\n",
       "      <td>-0.085878</td>\n",
       "      <td>-0.363769</td>\n",
       "      <td>-0.148817</td>\n",
       "      <td>-0.096073</td>\n",
       "      <td>-0.123338</td>\n",
       "      <td>-0.205222</td>\n",
       "      <td>-0.177348</td>\n",
       "      <td>-0.157475</td>\n",
       "      <td>-0.137364</td>\n",
       "      <td>-0.080456</td>\n",
       "      <td>-0.10934</td>\n",
       "      <td>-0.193472</td>\n",
       "      <td>-0.130933</td>\n",
       "      <td>-0.071013</td>\n",
       "      <td>-0.071175</td>\n",
       "      <td>-0.180403</td>\n",
       "      <td>-0.12103</td>\n",
       "      <td>-0.111771</td>\n",
       "      <td>-0.31312</td>\n",
       "      <td>-0.112084</td>\n",
       "      <td>-0.089315</td>\n",
       "      <td>-1.576419</td>\n",
       "      <td>-0.120154</td>\n",
       "      <td>1.633087</td>\n",
       "      <td>-0.651463</td>\n",
       "      <td>0.651463</td>\n",
       "      <td>-1.120159</td>\n",
       "      <td>-0.145991</td>\n",
       "      <td>1.168798</td>\n",
       "      <td>0</td>\n",
       "    </tr>\n",
       "  </tbody>\n",
       "</table>\n",
       "</div>"
      ],
      "text/plain": [
       "   no_of_trainings       age  previous_year_rating  length_of_service  \\\n",
       "0        -0.431999  0.544625              1.375360          -0.448068   \n",
       "1        -0.431999  1.587188             -0.273747          -0.693649   \n",
       "2        -0.431999  3.020713             -0.273747           3.481229   \n",
       "3        -0.431999 -0.888899              0.550807          -0.448068   \n",
       "4        -0.431999  0.544625             -0.273747           0.779837   \n",
       "\n",
       "   KPIs_met >80%  awards_won?  avg_training_score  na_previous_year_rating  \\\n",
       "0       1.356651    -0.153163           -0.328225                -0.284445   \n",
       "1      -0.737109    -0.153163            0.270731                -0.284445   \n",
       "2      -0.737109    -0.153163            0.570210                -0.284445   \n",
       "3      -0.737109    -0.153163           -1.076920                -0.284445   \n",
       "4      -0.737109    -0.153163            1.318905                -0.284445   \n",
       "\n",
       "   na_education  department_Analytics  department_Finance  department_HR  \\\n",
       "0     -0.212536              -0.32894           -0.220673       -0.21574   \n",
       "1     -0.212536              -0.32894           -0.220673       -0.21574   \n",
       "2     -0.212536              -0.32894           -0.220673       -0.21574   \n",
       "3     -0.212536              -0.32894           -0.220673       -0.21574   \n",
       "4     -0.212536              -0.32894           -0.220673       -0.21574   \n",
       "\n",
       "   department_Legal  department_Operations  department_Procurement  \\\n",
       "0         -0.137364               1.961378               -0.387219   \n",
       "1         -0.137364              -0.509846                2.582520   \n",
       "2         -0.137364              -0.509846                2.582520   \n",
       "3         -0.137364              -0.509846               -0.387219   \n",
       "4         -0.137364              -0.509846               -0.387219   \n",
       "\n",
       "   department_R&D  department_Sales & Marketing  department_Technology  \\\n",
       "0       -0.135368                     -0.666307              -0.387881   \n",
       "1       -0.135368                     -0.666307              -0.387881   \n",
       "2       -0.135368                     -0.666307              -0.387881   \n",
       "3       -0.135368                      1.500810              -0.387881   \n",
       "4       -0.135368                     -0.666307               2.578113   \n",
       "\n",
       "   region_region_1  region_region_10  region_region_11  region_region_12  \\\n",
       "0        -0.106419         -0.110615         -0.155332         -0.094979   \n",
       "1        -0.106419         -0.110615         -0.155332         -0.094979   \n",
       "2        -0.106419         -0.110615         -0.155332         -0.094979   \n",
       "3        -0.106419         -0.110615         -0.155332         -0.094979   \n",
       "4        -0.106419         -0.110615         -0.155332         -0.094979   \n",
       "\n",
       "   region_region_13  region_region_14  region_region_15  region_region_16  \\\n",
       "0         -0.222429         -0.125042          4.300672         -0.166592   \n",
       "1         -0.222429         -0.125042         -0.232522         -0.166592   \n",
       "2         -0.222429         -0.125042         -0.232522         -0.166592   \n",
       "3          4.495819         -0.125042         -0.232522         -0.166592   \n",
       "4         -0.222429         -0.125042         -0.232522         -0.166592   \n",
       "\n",
       "   region_region_17  region_region_18  region_region_19  region_region_2  \\\n",
       "0         -0.122189         -0.024823         -0.126818        -0.537077   \n",
       "1          8.184027         -0.024823         -0.126818        -0.537077   \n",
       "2         -0.122189         -0.024823         -0.126818         1.861932   \n",
       "3         -0.122189         -0.024823         -0.126818        -0.537077   \n",
       "4         -0.122189         -0.024823         -0.126818        -0.537077   \n",
       "\n",
       "   region_region_20  region_region_21  region_region_22  region_region_23  \\\n",
       "0         -0.125886         -0.085878         -0.363769         -0.148817   \n",
       "1         -0.125886         -0.085878         -0.363769         -0.148817   \n",
       "2         -0.125886         -0.085878         -0.363769         -0.148817   \n",
       "3         -0.125886         -0.085878         -0.363769         -0.148817   \n",
       "4          7.943698         -0.085878         -0.363769         -0.148817   \n",
       "\n",
       "   region_region_24  region_region_25  region_region_26  region_region_27  \\\n",
       "0         -0.096073         -0.123338         -0.205222         -0.177348   \n",
       "1         -0.096073         -0.123338         -0.205222         -0.177348   \n",
       "2         -0.096073         -0.123338         -0.205222         -0.177348   \n",
       "3         -0.096073         -0.123338         -0.205222         -0.177348   \n",
       "4         -0.096073         -0.123338         -0.205222         -0.177348   \n",
       "\n",
       "   region_region_28  region_region_29  region_region_3  region_region_30  \\\n",
       "0         -0.157475         -0.137364        -0.080456          -0.10934   \n",
       "1         -0.157475         -0.137364        -0.080456          -0.10934   \n",
       "2         -0.157475         -0.137364        -0.080456          -0.10934   \n",
       "3         -0.157475         -0.137364        -0.080456          -0.10934   \n",
       "4         -0.157475         -0.137364        -0.080456          -0.10934   \n",
       "\n",
       "   region_region_31  region_region_32  region_region_33  region_region_34  \\\n",
       "0         -0.193472         -0.130933         -0.071013         -0.071175   \n",
       "1         -0.193472         -0.130933         -0.071013         -0.071175   \n",
       "2         -0.193472         -0.130933         -0.071013         -0.071175   \n",
       "3         -0.193472         -0.130933         -0.071013         -0.071175   \n",
       "4         -0.193472         -0.130933         -0.071013         -0.071175   \n",
       "\n",
       "   region_region_4  region_region_5  region_region_6  region_region_7  \\\n",
       "0        -0.180403         -0.12103        -0.111771         -0.31312   \n",
       "1        -0.180403         -0.12103        -0.111771         -0.31312   \n",
       "2        -0.180403         -0.12103        -0.111771         -0.31312   \n",
       "3        -0.180403         -0.12103        -0.111771         -0.31312   \n",
       "4        -0.180403         -0.12103        -0.111771         -0.31312   \n",
       "\n",
       "   region_region_8  region_region_9  education_Bachelor's  \\\n",
       "0        -0.112084        -0.089315              0.634349   \n",
       "1        -0.112084        -0.089315             -1.576419   \n",
       "2        -0.112084        -0.089315              0.634349   \n",
       "3        -0.112084        -0.089315              0.634349   \n",
       "4        -0.112084        -0.089315             -1.576419   \n",
       "\n",
       "   education_Below Secondary  education_Master's & above  gender_f  gender_m  \\\n",
       "0                  -0.120154                   -0.612337 -0.651463  0.651463   \n",
       "1                  -0.120154                    1.633087  1.535007 -1.535007   \n",
       "2                  -0.120154                   -0.612337  1.535007 -1.535007   \n",
       "3                  -0.120154                   -0.612337 -0.651463  0.651463   \n",
       "4                  -0.120154                    1.633087 -0.651463  0.651463   \n",
       "\n",
       "   recruitment_channel_other  recruitment_channel_referred  \\\n",
       "0                  -1.120159                     -0.145991   \n",
       "1                  -1.120159                     -0.145991   \n",
       "2                   0.892730                     -0.145991   \n",
       "3                   0.892730                     -0.145991   \n",
       "4                  -1.120159                     -0.145991   \n",
       "\n",
       "   recruitment_channel_sourcing  is_promoted  \n",
       "0                      1.168798            0  \n",
       "1                      1.168798            0  \n",
       "2                     -0.855580            0  \n",
       "3                     -0.855580            0  \n",
       "4                      1.168798            0  "
      ]
     },
     "execution_count": 12,
     "metadata": {},
     "output_type": "execute_result"
    }
   ],
   "source": [
    "df_train.head()"
   ]
  },
  {
   "cell_type": "code",
   "execution_count": 13,
   "metadata": {},
   "outputs": [],
   "source": [
    "X_train = df_train.drop(target, axis = 1)\n",
    "y_train = df_train[target]\n",
    "\n",
    "X_val = df_val.drop(target, axis = 1)\n",
    "y_val = df_val[target]"
   ]
  },
  {
   "cell_type": "code",
   "execution_count": 14,
   "metadata": {},
   "outputs": [
    {
     "data": {
      "text/plain": [
       "((43846, 60), (43846,), (10962, 60), (10962,))"
      ]
     },
     "execution_count": 14,
     "metadata": {},
     "output_type": "execute_result"
    }
   ],
   "source": [
    "X_train.shape, y_train.shape, X_val.shape, y_val.shape"
   ]
  },
  {
   "cell_type": "markdown",
   "metadata": {},
   "source": [
    "## Proporción de target"
   ]
  },
  {
   "cell_type": "code",
   "execution_count": 15,
   "metadata": {},
   "outputs": [
    {
     "data": {
      "text/plain": [
       "0.08516170232176254"
      ]
     },
     "execution_count": 15,
     "metadata": {},
     "output_type": "execute_result"
    }
   ],
   "source": [
    "y_train.mean()"
   ]
  },
  {
   "cell_type": "code",
   "execution_count": 16,
   "metadata": {},
   "outputs": [
    {
     "data": {
      "text/plain": [
       "0.08520343003101624"
      ]
     },
     "execution_count": 16,
     "metadata": {},
     "output_type": "execute_result"
    }
   ],
   "source": [
    "y_val.mean()"
   ]
  },
  {
   "cell_type": "markdown",
   "metadata": {},
   "source": [
    "## Entrenamiento"
   ]
  },
  {
   "cell_type": "markdown",
   "metadata": {},
   "source": [
    "Métricas para Grid Search https://scikit-learn.org/stable/modules/model_evaluation.html#scoring-parameter"
   ]
  },
  {
   "cell_type": "markdown",
   "metadata": {},
   "source": [
    "grid search con roc_auc"
   ]
  },
  {
   "cell_type": "code",
   "execution_count": 18,
   "metadata": {},
   "outputs": [],
   "source": [
    "from sklearn.model_selection import GridSearchCV\n",
    "from sklearn.linear_model import LogisticRegression\n",
    "logi = LogisticRegression()"
   ]
  },
  {
   "cell_type": "code",
   "execution_count": 19,
   "metadata": {},
   "outputs": [
    {
     "data": {
      "text/plain": [
       "GridSearchCV(cv=5, estimator=LogisticRegression(), n_jobs=-1,\n",
       "             param_grid={'C': [0.001, 0.01, 0.1, 1, 10, 100, 1000],\n",
       "                         'penalty': ['l1', 'l2'], 'random_state': [2020]},\n",
       "             scoring='f1')"
      ]
     },
     "execution_count": 19,
     "metadata": {},
     "output_type": "execute_result"
    }
   ],
   "source": [
    "cv_params = {'penalty': ['l1','l2'],\n",
    "              'C': [0.001,0.01,0.1,1,10,100,1000],\n",
    "            'random_state': [seed]}\n",
    "\n",
    "gs = GridSearchCV(logi, cv_params, scoring = 'f1', cv = 5, n_jobs= -1)\n",
    "\n",
    "gs.fit(X_train, y_train)"
   ]
  },
  {
   "cell_type": "code",
   "execution_count": 20,
   "metadata": {},
   "outputs": [
    {
     "data": {
      "text/html": [
       "<div>\n",
       "<style scoped>\n",
       "    .dataframe tbody tr th:only-of-type {\n",
       "        vertical-align: middle;\n",
       "    }\n",
       "\n",
       "    .dataframe tbody tr th {\n",
       "        vertical-align: top;\n",
       "    }\n",
       "\n",
       "    .dataframe thead th {\n",
       "        text-align: right;\n",
       "    }\n",
       "</style>\n",
       "<table border=\"1\" class=\"dataframe\">\n",
       "  <thead>\n",
       "    <tr style=\"text-align: right;\">\n",
       "      <th></th>\n",
       "      <th>mean_fit_time</th>\n",
       "      <th>std_fit_time</th>\n",
       "      <th>mean_score_time</th>\n",
       "      <th>std_score_time</th>\n",
       "      <th>param_C</th>\n",
       "      <th>param_penalty</th>\n",
       "      <th>param_random_state</th>\n",
       "      <th>params</th>\n",
       "      <th>split0_test_score</th>\n",
       "      <th>split1_test_score</th>\n",
       "      <th>split2_test_score</th>\n",
       "      <th>split3_test_score</th>\n",
       "      <th>split4_test_score</th>\n",
       "      <th>mean_test_score</th>\n",
       "      <th>std_test_score</th>\n",
       "      <th>rank_test_score</th>\n",
       "    </tr>\n",
       "  </thead>\n",
       "  <tbody>\n",
       "    <tr>\n",
       "      <th>11</th>\n",
       "      <td>1.534604</td>\n",
       "      <td>0.113042</td>\n",
       "      <td>0.042087</td>\n",
       "      <td>0.040680</td>\n",
       "      <td>100</td>\n",
       "      <td>l2</td>\n",
       "      <td>2020</td>\n",
       "      <td>{'C': 100, 'penalty': 'l2', 'random_state': 2020}</td>\n",
       "      <td>0.410256</td>\n",
       "      <td>0.411067</td>\n",
       "      <td>0.382413</td>\n",
       "      <td>0.361746</td>\n",
       "      <td>0.400000</td>\n",
       "      <td>0.393097</td>\n",
       "      <td>0.018772</td>\n",
       "      <td>1</td>\n",
       "    </tr>\n",
       "    <tr>\n",
       "      <th>13</th>\n",
       "      <td>1.253752</td>\n",
       "      <td>0.157002</td>\n",
       "      <td>0.013763</td>\n",
       "      <td>0.003753</td>\n",
       "      <td>1000</td>\n",
       "      <td>l2</td>\n",
       "      <td>2020</td>\n",
       "      <td>{'C': 1000, 'penalty': 'l2', 'random_state': 2...</td>\n",
       "      <td>0.410256</td>\n",
       "      <td>0.411067</td>\n",
       "      <td>0.382413</td>\n",
       "      <td>0.361746</td>\n",
       "      <td>0.400000</td>\n",
       "      <td>0.393097</td>\n",
       "      <td>0.018772</td>\n",
       "      <td>1</td>\n",
       "    </tr>\n",
       "    <tr>\n",
       "      <th>9</th>\n",
       "      <td>1.302628</td>\n",
       "      <td>0.154165</td>\n",
       "      <td>0.043683</td>\n",
       "      <td>0.041118</td>\n",
       "      <td>10</td>\n",
       "      <td>l2</td>\n",
       "      <td>2020</td>\n",
       "      <td>{'C': 10, 'penalty': 'l2', 'random_state': 2020}</td>\n",
       "      <td>0.408687</td>\n",
       "      <td>0.411474</td>\n",
       "      <td>0.382413</td>\n",
       "      <td>0.362123</td>\n",
       "      <td>0.400000</td>\n",
       "      <td>0.392939</td>\n",
       "      <td>0.018449</td>\n",
       "      <td>3</td>\n",
       "    </tr>\n",
       "    <tr>\n",
       "      <th>7</th>\n",
       "      <td>1.167478</td>\n",
       "      <td>0.021190</td>\n",
       "      <td>0.022340</td>\n",
       "      <td>0.025267</td>\n",
       "      <td>1</td>\n",
       "      <td>l2</td>\n",
       "      <td>2020</td>\n",
       "      <td>{'C': 1, 'penalty': 'l2', 'random_state': 2020}</td>\n",
       "      <td>0.405539</td>\n",
       "      <td>0.405567</td>\n",
       "      <td>0.382805</td>\n",
       "      <td>0.360792</td>\n",
       "      <td>0.398798</td>\n",
       "      <td>0.390700</td>\n",
       "      <td>0.017109</td>\n",
       "      <td>4</td>\n",
       "    </tr>\n",
       "    <tr>\n",
       "      <th>5</th>\n",
       "      <td>1.267317</td>\n",
       "      <td>0.214133</td>\n",
       "      <td>0.050168</td>\n",
       "      <td>0.042805</td>\n",
       "      <td>0.1</td>\n",
       "      <td>l2</td>\n",
       "      <td>2020</td>\n",
       "      <td>{'C': 0.1, 'penalty': 'l2', 'random_state': 2020}</td>\n",
       "      <td>0.386108</td>\n",
       "      <td>0.380855</td>\n",
       "      <td>0.366316</td>\n",
       "      <td>0.337272</td>\n",
       "      <td>0.379877</td>\n",
       "      <td>0.370086</td>\n",
       "      <td>0.017661</td>\n",
       "      <td>5</td>\n",
       "    </tr>\n",
       "    <tr>\n",
       "      <th>3</th>\n",
       "      <td>0.797271</td>\n",
       "      <td>0.226838</td>\n",
       "      <td>0.020146</td>\n",
       "      <td>0.019374</td>\n",
       "      <td>0.01</td>\n",
       "      <td>l2</td>\n",
       "      <td>2020</td>\n",
       "      <td>{'C': 0.01, 'penalty': 'l2', 'random_state': 2...</td>\n",
       "      <td>0.279279</td>\n",
       "      <td>0.300668</td>\n",
       "      <td>0.260870</td>\n",
       "      <td>0.234467</td>\n",
       "      <td>0.258211</td>\n",
       "      <td>0.266699</td>\n",
       "      <td>0.022168</td>\n",
       "      <td>6</td>\n",
       "    </tr>\n",
       "    <tr>\n",
       "      <th>1</th>\n",
       "      <td>1.071742</td>\n",
       "      <td>0.230381</td>\n",
       "      <td>0.026728</td>\n",
       "      <td>0.034510</td>\n",
       "      <td>0.001</td>\n",
       "      <td>l2</td>\n",
       "      <td>2020</td>\n",
       "      <td>{'C': 0.001, 'penalty': 'l2', 'random_state': ...</td>\n",
       "      <td>0.114002</td>\n",
       "      <td>0.139364</td>\n",
       "      <td>0.110000</td>\n",
       "      <td>0.084076</td>\n",
       "      <td>0.115906</td>\n",
       "      <td>0.112670</td>\n",
       "      <td>0.017604</td>\n",
       "      <td>7</td>\n",
       "    </tr>\n",
       "    <tr>\n",
       "      <th>0</th>\n",
       "      <td>0.107415</td>\n",
       "      <td>0.027259</td>\n",
       "      <td>0.000000</td>\n",
       "      <td>0.000000</td>\n",
       "      <td>0.001</td>\n",
       "      <td>l1</td>\n",
       "      <td>2020</td>\n",
       "      <td>{'C': 0.001, 'penalty': 'l1', 'random_state': ...</td>\n",
       "      <td>NaN</td>\n",
       "      <td>NaN</td>\n",
       "      <td>NaN</td>\n",
       "      <td>NaN</td>\n",
       "      <td>NaN</td>\n",
       "      <td>NaN</td>\n",
       "      <td>NaN</td>\n",
       "      <td>8</td>\n",
       "    </tr>\n",
       "    <tr>\n",
       "      <th>2</th>\n",
       "      <td>0.092751</td>\n",
       "      <td>0.026311</td>\n",
       "      <td>0.000000</td>\n",
       "      <td>0.000000</td>\n",
       "      <td>0.01</td>\n",
       "      <td>l1</td>\n",
       "      <td>2020</td>\n",
       "      <td>{'C': 0.01, 'penalty': 'l1', 'random_state': 2...</td>\n",
       "      <td>NaN</td>\n",
       "      <td>NaN</td>\n",
       "      <td>NaN</td>\n",
       "      <td>NaN</td>\n",
       "      <td>NaN</td>\n",
       "      <td>NaN</td>\n",
       "      <td>NaN</td>\n",
       "      <td>9</td>\n",
       "    </tr>\n",
       "    <tr>\n",
       "      <th>4</th>\n",
       "      <td>0.108611</td>\n",
       "      <td>0.010413</td>\n",
       "      <td>0.000000</td>\n",
       "      <td>0.000000</td>\n",
       "      <td>0.1</td>\n",
       "      <td>l1</td>\n",
       "      <td>2020</td>\n",
       "      <td>{'C': 0.1, 'penalty': 'l1', 'random_state': 2020}</td>\n",
       "      <td>NaN</td>\n",
       "      <td>NaN</td>\n",
       "      <td>NaN</td>\n",
       "      <td>NaN</td>\n",
       "      <td>NaN</td>\n",
       "      <td>NaN</td>\n",
       "      <td>NaN</td>\n",
       "      <td>10</td>\n",
       "    </tr>\n",
       "    <tr>\n",
       "      <th>6</th>\n",
       "      <td>0.099932</td>\n",
       "      <td>0.011569</td>\n",
       "      <td>0.000000</td>\n",
       "      <td>0.000000</td>\n",
       "      <td>1</td>\n",
       "      <td>l1</td>\n",
       "      <td>2020</td>\n",
       "      <td>{'C': 1, 'penalty': 'l1', 'random_state': 2020}</td>\n",
       "      <td>NaN</td>\n",
       "      <td>NaN</td>\n",
       "      <td>NaN</td>\n",
       "      <td>NaN</td>\n",
       "      <td>NaN</td>\n",
       "      <td>NaN</td>\n",
       "      <td>NaN</td>\n",
       "      <td>11</td>\n",
       "    </tr>\n",
       "    <tr>\n",
       "      <th>8</th>\n",
       "      <td>0.104919</td>\n",
       "      <td>0.011378</td>\n",
       "      <td>0.000000</td>\n",
       "      <td>0.000000</td>\n",
       "      <td>10</td>\n",
       "      <td>l1</td>\n",
       "      <td>2020</td>\n",
       "      <td>{'C': 10, 'penalty': 'l1', 'random_state': 2020}</td>\n",
       "      <td>NaN</td>\n",
       "      <td>NaN</td>\n",
       "      <td>NaN</td>\n",
       "      <td>NaN</td>\n",
       "      <td>NaN</td>\n",
       "      <td>NaN</td>\n",
       "      <td>NaN</td>\n",
       "      <td>12</td>\n",
       "    </tr>\n",
       "    <tr>\n",
       "      <th>10</th>\n",
       "      <td>0.127961</td>\n",
       "      <td>0.034383</td>\n",
       "      <td>0.000000</td>\n",
       "      <td>0.000000</td>\n",
       "      <td>100</td>\n",
       "      <td>l1</td>\n",
       "      <td>2020</td>\n",
       "      <td>{'C': 100, 'penalty': 'l1', 'random_state': 2020}</td>\n",
       "      <td>NaN</td>\n",
       "      <td>NaN</td>\n",
       "      <td>NaN</td>\n",
       "      <td>NaN</td>\n",
       "      <td>NaN</td>\n",
       "      <td>NaN</td>\n",
       "      <td>NaN</td>\n",
       "      <td>13</td>\n",
       "    </tr>\n",
       "    <tr>\n",
       "      <th>12</th>\n",
       "      <td>0.108708</td>\n",
       "      <td>0.037977</td>\n",
       "      <td>0.000000</td>\n",
       "      <td>0.000000</td>\n",
       "      <td>1000</td>\n",
       "      <td>l1</td>\n",
       "      <td>2020</td>\n",
       "      <td>{'C': 1000, 'penalty': 'l1', 'random_state': 2...</td>\n",
       "      <td>NaN</td>\n",
       "      <td>NaN</td>\n",
       "      <td>NaN</td>\n",
       "      <td>NaN</td>\n",
       "      <td>NaN</td>\n",
       "      <td>NaN</td>\n",
       "      <td>NaN</td>\n",
       "      <td>14</td>\n",
       "    </tr>\n",
       "  </tbody>\n",
       "</table>\n",
       "</div>"
      ],
      "text/plain": [
       "    mean_fit_time  std_fit_time  mean_score_time  std_score_time param_C  \\\n",
       "11       1.534604      0.113042         0.042087        0.040680     100   \n",
       "13       1.253752      0.157002         0.013763        0.003753    1000   \n",
       "9        1.302628      0.154165         0.043683        0.041118      10   \n",
       "7        1.167478      0.021190         0.022340        0.025267       1   \n",
       "5        1.267317      0.214133         0.050168        0.042805     0.1   \n",
       "3        0.797271      0.226838         0.020146        0.019374    0.01   \n",
       "1        1.071742      0.230381         0.026728        0.034510   0.001   \n",
       "0        0.107415      0.027259         0.000000        0.000000   0.001   \n",
       "2        0.092751      0.026311         0.000000        0.000000    0.01   \n",
       "4        0.108611      0.010413         0.000000        0.000000     0.1   \n",
       "6        0.099932      0.011569         0.000000        0.000000       1   \n",
       "8        0.104919      0.011378         0.000000        0.000000      10   \n",
       "10       0.127961      0.034383         0.000000        0.000000     100   \n",
       "12       0.108708      0.037977         0.000000        0.000000    1000   \n",
       "\n",
       "   param_penalty param_random_state  \\\n",
       "11            l2               2020   \n",
       "13            l2               2020   \n",
       "9             l2               2020   \n",
       "7             l2               2020   \n",
       "5             l2               2020   \n",
       "3             l2               2020   \n",
       "1             l2               2020   \n",
       "0             l1               2020   \n",
       "2             l1               2020   \n",
       "4             l1               2020   \n",
       "6             l1               2020   \n",
       "8             l1               2020   \n",
       "10            l1               2020   \n",
       "12            l1               2020   \n",
       "\n",
       "                                               params  split0_test_score  \\\n",
       "11  {'C': 100, 'penalty': 'l2', 'random_state': 2020}           0.410256   \n",
       "13  {'C': 1000, 'penalty': 'l2', 'random_state': 2...           0.410256   \n",
       "9    {'C': 10, 'penalty': 'l2', 'random_state': 2020}           0.408687   \n",
       "7     {'C': 1, 'penalty': 'l2', 'random_state': 2020}           0.405539   \n",
       "5   {'C': 0.1, 'penalty': 'l2', 'random_state': 2020}           0.386108   \n",
       "3   {'C': 0.01, 'penalty': 'l2', 'random_state': 2...           0.279279   \n",
       "1   {'C': 0.001, 'penalty': 'l2', 'random_state': ...           0.114002   \n",
       "0   {'C': 0.001, 'penalty': 'l1', 'random_state': ...                NaN   \n",
       "2   {'C': 0.01, 'penalty': 'l1', 'random_state': 2...                NaN   \n",
       "4   {'C': 0.1, 'penalty': 'l1', 'random_state': 2020}                NaN   \n",
       "6     {'C': 1, 'penalty': 'l1', 'random_state': 2020}                NaN   \n",
       "8    {'C': 10, 'penalty': 'l1', 'random_state': 2020}                NaN   \n",
       "10  {'C': 100, 'penalty': 'l1', 'random_state': 2020}                NaN   \n",
       "12  {'C': 1000, 'penalty': 'l1', 'random_state': 2...                NaN   \n",
       "\n",
       "    split1_test_score  split2_test_score  split3_test_score  \\\n",
       "11           0.411067           0.382413           0.361746   \n",
       "13           0.411067           0.382413           0.361746   \n",
       "9            0.411474           0.382413           0.362123   \n",
       "7            0.405567           0.382805           0.360792   \n",
       "5            0.380855           0.366316           0.337272   \n",
       "3            0.300668           0.260870           0.234467   \n",
       "1            0.139364           0.110000           0.084076   \n",
       "0                 NaN                NaN                NaN   \n",
       "2                 NaN                NaN                NaN   \n",
       "4                 NaN                NaN                NaN   \n",
       "6                 NaN                NaN                NaN   \n",
       "8                 NaN                NaN                NaN   \n",
       "10                NaN                NaN                NaN   \n",
       "12                NaN                NaN                NaN   \n",
       "\n",
       "    split4_test_score  mean_test_score  std_test_score  rank_test_score  \n",
       "11           0.400000         0.393097        0.018772                1  \n",
       "13           0.400000         0.393097        0.018772                1  \n",
       "9            0.400000         0.392939        0.018449                3  \n",
       "7            0.398798         0.390700        0.017109                4  \n",
       "5            0.379877         0.370086        0.017661                5  \n",
       "3            0.258211         0.266699        0.022168                6  \n",
       "1            0.115906         0.112670        0.017604                7  \n",
       "0                 NaN              NaN             NaN                8  \n",
       "2                 NaN              NaN             NaN                9  \n",
       "4                 NaN              NaN             NaN               10  \n",
       "6                 NaN              NaN             NaN               11  \n",
       "8                 NaN              NaN             NaN               12  \n",
       "10                NaN              NaN             NaN               13  \n",
       "12                NaN              NaN             NaN               14  "
      ]
     },
     "execution_count": 20,
     "metadata": {},
     "output_type": "execute_result"
    }
   ],
   "source": [
    "pd.DataFrame(gs.cv_results_).sort_values(by = 'rank_test_score')"
   ]
  },
  {
   "cell_type": "code",
   "execution_count": 21,
   "metadata": {
    "scrolled": true
   },
   "outputs": [
    {
     "data": {
      "text/plain": [
       "{'C': 100, 'penalty': 'l2', 'random_state': 2020}"
      ]
     },
     "execution_count": 21,
     "metadata": {},
     "output_type": "execute_result"
    }
   ],
   "source": [
    "gs.best_params_"
   ]
  },
  {
   "cell_type": "code",
   "execution_count": 22,
   "metadata": {},
   "outputs": [
    {
     "data": {
      "text/plain": [
       "0.39309661072264435"
      ]
     },
     "execution_count": 22,
     "metadata": {},
     "output_type": "execute_result"
    }
   ],
   "source": [
    "gs.best_score_"
   ]
  },
  {
   "cell_type": "code",
   "execution_count": 23,
   "metadata": {},
   "outputs": [],
   "source": [
    "best_logi = gs.best_estimator_"
   ]
  },
  {
   "cell_type": "code",
   "execution_count": 24,
   "metadata": {},
   "outputs": [
    {
     "data": {
      "text/plain": [
       "LogisticRegression(C=100, random_state=2020)"
      ]
     },
     "execution_count": 24,
     "metadata": {},
     "output_type": "execute_result"
    }
   ],
   "source": [
    "best_logi"
   ]
  },
  {
   "cell_type": "markdown",
   "metadata": {},
   "source": [
    "Guardar el modelo"
   ]
  },
  {
   "cell_type": "code",
   "execution_count": 25,
   "metadata": {},
   "outputs": [],
   "source": [
    "\n",
    "model_label=model_label + preproc_label\n",
    "with open(f'{MODEL}/{model_label}_model.pkl', 'wb') as file:\n",
    "    pickle.dump(best_logi, file)"
   ]
  },
  {
   "cell_type": "markdown",
   "metadata": {},
   "source": [
    "## Reentrenamiento con train completo y prueba en validación"
   ]
  },
  {
   "cell_type": "code",
   "execution_count": 26,
   "metadata": {},
   "outputs": [],
   "source": [
    "with open(f'{MODEL}/{model_label}_model.pkl', 'rb') as file:\n",
    "    best_dt = pickle.load(file)"
   ]
  },
  {
   "cell_type": "code",
   "execution_count": 27,
   "metadata": {},
   "outputs": [
    {
     "data": {
      "text/plain": [
       "{'C': 100,\n",
       " 'class_weight': None,\n",
       " 'dual': False,\n",
       " 'fit_intercept': True,\n",
       " 'intercept_scaling': 1,\n",
       " 'l1_ratio': None,\n",
       " 'max_iter': 100,\n",
       " 'multi_class': 'auto',\n",
       " 'n_jobs': None,\n",
       " 'penalty': 'l2',\n",
       " 'random_state': 2020,\n",
       " 'solver': 'lbfgs',\n",
       " 'tol': 0.0001,\n",
       " 'verbose': 0,\n",
       " 'warm_start': False}"
      ]
     },
     "execution_count": 27,
     "metadata": {},
     "output_type": "execute_result"
    }
   ],
   "source": [
    "best_dt.get_params()"
   ]
  },
  {
   "cell_type": "code",
   "execution_count": 28,
   "metadata": {},
   "outputs": [
    {
     "data": {
      "text/plain": [
       "((43846, 60), (43846,), (10962, 60), (10962,))"
      ]
     },
     "execution_count": 28,
     "metadata": {},
     "output_type": "execute_result"
    }
   ],
   "source": [
    "X_train.shape, y_train.shape, X_val.shape, y_val.shape"
   ]
  },
  {
   "cell_type": "code",
   "execution_count": 29,
   "metadata": {},
   "outputs": [
    {
     "data": {
      "text/plain": [
       "LogisticRegression(C=100, random_state=2020)"
      ]
     },
     "execution_count": 29,
     "metadata": {},
     "output_type": "execute_result"
    }
   ],
   "source": [
    "best_logi.fit(X_train, y_train)"
   ]
  },
  {
   "cell_type": "code",
   "execution_count": 30,
   "metadata": {},
   "outputs": [],
   "source": [
    "with open(f'{MODEL}/{model_label}_model_full.pkl', 'wb') as file:\n",
    "    pickle.dump(best_dt, file)"
   ]
  },
  {
   "cell_type": "markdown",
   "metadata": {},
   "source": [
    "## Evaluación"
   ]
  },
  {
   "cell_type": "code",
   "execution_count": 31,
   "metadata": {},
   "outputs": [],
   "source": [
    "from sklearn.metrics import roc_curve, roc_auc_score, classification_report, confusion_matrix, precision_recall_curve\n",
    "from matplotlib import pyplot"
   ]
  },
  {
   "cell_type": "code",
   "execution_count": 32,
   "metadata": {},
   "outputs": [],
   "source": [
    "y_train_pred = best_dt.predict(X_train)\n",
    "y_val_pred = best_dt.predict(X_val)"
   ]
  },
  {
   "cell_type": "code",
   "execution_count": 33,
   "metadata": {},
   "outputs": [
    {
     "data": {
      "text/plain": [
       "array([0, 0, 0, ..., 0, 0, 0], dtype=int64)"
      ]
     },
     "execution_count": 33,
     "metadata": {},
     "output_type": "execute_result"
    }
   ],
   "source": [
    "y_train_pred"
   ]
  },
  {
   "cell_type": "code",
   "execution_count": 34,
   "metadata": {},
   "outputs": [],
   "source": [
    "y_train_pred_proba = best_dt.predict_proba(X_train)[:,1]\n",
    "y_val_pred_proba = best_dt.predict_proba(X_val)[:,1]"
   ]
  },
  {
   "cell_type": "code",
   "execution_count": 35,
   "metadata": {},
   "outputs": [
    {
     "data": {
      "text/plain": [
       "array([0.0850896 , 0.00816393, 0.01895275, ..., 0.02912669, 0.00230896,\n",
       "       0.04790904])"
      ]
     },
     "execution_count": 35,
     "metadata": {},
     "output_type": "execute_result"
    }
   ],
   "source": [
    "y_train_pred_proba"
   ]
  },
  {
   "cell_type": "code",
   "execution_count": 36,
   "metadata": {},
   "outputs": [
    {
     "data": {
      "text/plain": [
       "0.8731306526247129"
      ]
     },
     "execution_count": 36,
     "metadata": {},
     "output_type": "execute_result"
    }
   ],
   "source": [
    "roc_auc_score(y_train, y_train_pred_proba)"
   ]
  },
  {
   "cell_type": "code",
   "execution_count": 37,
   "metadata": {},
   "outputs": [
    {
     "data": {
      "text/plain": [
       "0.8819810953313592"
      ]
     },
     "execution_count": 37,
     "metadata": {},
     "output_type": "execute_result"
    }
   ],
   "source": [
    "roc_auc_score(y_val, y_val_pred_proba)"
   ]
  },
  {
   "cell_type": "code",
   "execution_count": 38,
   "metadata": {},
   "outputs": [
    {
     "data": {
      "image/png": "[encoded data removed]",
      "text/plain": [
       "<Figure size 432x288 with 1 Axes>"
      ]
     },
     "metadata": {
      "image/png": {
       "height": 281,
       "width": 389
      }
     },
     "output_type": "display_data"
    }
   ],
   "source": [
    "probs = best_dt.predict_proba(X_val)[:, 1]\n",
    "\n",
    "auc = roc_auc_score(y_val, y_val_pred_proba)\n",
    "fpr, tpr, umbrales = roc_curve(y_val, y_val_pred_proba)\n",
    "\n",
    "plt.rcParams.update({'font.size': 9})\n",
    "plt.plot(fpr, tpr, label= (\"Curva ROC\") )\n",
    "plt.xlabel(\"FPR\")\n",
    "plt.ylabel(\"TPR (exhaustividad)\")\n",
    "plt.title((\"Curva ROC Decision Tree (AUC = %.4f)\" % auc))\n",
    "\n",
    "# plot no skill\n",
    "pyplot.plot([0, 1], [0, 1], linestyle='--')\n",
    "# plot the roc curve for the model\n",
    "pyplot.plot(fpr, tpr, marker='.')\n",
    "umbral_05 = np.argmin(np.abs(umbrales - 0.5))\n",
    "plt.plot(fpr[umbral_05], tpr[umbral_05], 'o', markersize=10,\n",
    "         label=\"Umbral 0.5\", fillstyle=\"none\", c='r', mew=2)\n",
    "plt.legend(loc='best', numpoints = 1)\n",
    "# show the plot\n",
    "pyplot.show()"
   ]
  },
  {
   "cell_type": "code",
   "execution_count": 39,
   "metadata": {},
   "outputs": [
    {
     "data": {
      "text/html": [
       "<div>\n",
       "<style scoped>\n",
       "    .dataframe tbody tr th:only-of-type {\n",
       "        vertical-align: middle;\n",
       "    }\n",
       "\n",
       "    .dataframe tbody tr th {\n",
       "        vertical-align: top;\n",
       "    }\n",
       "\n",
       "    .dataframe thead th {\n",
       "        text-align: right;\n",
       "    }\n",
       "</style>\n",
       "<table border=\"1\" class=\"dataframe\">\n",
       "  <thead>\n",
       "    <tr style=\"text-align: right;\">\n",
       "      <th></th>\n",
       "      <th>prec</th>\n",
       "      <th>recall</th>\n",
       "      <th>threshold</th>\n",
       "    </tr>\n",
       "  </thead>\n",
       "  <tbody>\n",
       "    <tr>\n",
       "      <th>0</th>\n",
       "      <td>0.090548</td>\n",
       "      <td>1.000000</td>\n",
       "      <td>0.003950</td>\n",
       "    </tr>\n",
       "    <tr>\n",
       "      <th>1</th>\n",
       "      <td>0.090460</td>\n",
       "      <td>0.998929</td>\n",
       "      <td>0.003950</td>\n",
       "    </tr>\n",
       "    <tr>\n",
       "      <th>2</th>\n",
       "      <td>0.090468</td>\n",
       "      <td>0.998929</td>\n",
       "      <td>0.003952</td>\n",
       "    </tr>\n",
       "    <tr>\n",
       "      <th>3</th>\n",
       "      <td>0.090477</td>\n",
       "      <td>0.998929</td>\n",
       "      <td>0.003956</td>\n",
       "    </tr>\n",
       "    <tr>\n",
       "      <th>4</th>\n",
       "      <td>0.090486</td>\n",
       "      <td>0.998929</td>\n",
       "      <td>0.003956</td>\n",
       "    </tr>\n",
       "  </tbody>\n",
       "</table>\n",
       "</div>"
      ],
      "text/plain": [
       "       prec    recall  threshold\n",
       "0  0.090548  1.000000   0.003950\n",
       "1  0.090460  0.998929   0.003950\n",
       "2  0.090468  0.998929   0.003952\n",
       "3  0.090477  0.998929   0.003956\n",
       "4  0.090486  0.998929   0.003956"
      ]
     },
     "execution_count": 39,
     "metadata": {},
     "output_type": "execute_result"
    }
   ],
   "source": [
    "prec, recall, threshold = precision_recall_curve(y_val, probs)\n",
    "\n",
    "prec_recall = pd.DataFrame({'prec': prec[:-1], 'recall': recall[:-1], 'threshold': threshold})\n",
    "prec_recall.head()"
   ]
  },
  {
   "cell_type": "code",
   "execution_count": 40,
   "metadata": {},
   "outputs": [],
   "source": [
    "prec_recall['f1'] = 2*prec_recall['prec']*prec_recall['recall'] / (prec_recall['prec'] + prec_recall['recall'])"
   ]
  },
  {
   "cell_type": "code",
   "execution_count": 41,
   "metadata": {
    "scrolled": true
   },
   "outputs": [
    {
     "data": {
      "text/html": [
       "<div>\n",
       "<style scoped>\n",
       "    .dataframe tbody tr th:only-of-type {\n",
       "        vertical-align: middle;\n",
       "    }\n",
       "\n",
       "    .dataframe tbody tr th {\n",
       "        vertical-align: top;\n",
       "    }\n",
       "\n",
       "    .dataframe thead th {\n",
       "        text-align: right;\n",
       "    }\n",
       "</style>\n",
       "<table border=\"1\" class=\"dataframe\">\n",
       "  <thead>\n",
       "    <tr style=\"text-align: right;\">\n",
       "      <th></th>\n",
       "      <th>prec</th>\n",
       "      <th>recall</th>\n",
       "      <th>threshold</th>\n",
       "      <th>f1</th>\n",
       "    </tr>\n",
       "  </thead>\n",
       "  <tbody>\n",
       "    <tr>\n",
       "      <th>9456</th>\n",
       "      <td>0.505251</td>\n",
       "      <td>0.463597</td>\n",
       "      <td>0.260590</td>\n",
       "      <td>0.483529</td>\n",
       "    </tr>\n",
       "    <tr>\n",
       "      <th>9447</th>\n",
       "      <td>0.502309</td>\n",
       "      <td>0.465739</td>\n",
       "      <td>0.258797</td>\n",
       "      <td>0.483333</td>\n",
       "    </tr>\n",
       "    <tr>\n",
       "      <th>9455</th>\n",
       "      <td>0.504662</td>\n",
       "      <td>0.463597</td>\n",
       "      <td>0.260175</td>\n",
       "      <td>0.483259</td>\n",
       "    </tr>\n",
       "    <tr>\n",
       "      <th>9459</th>\n",
       "      <td>0.505855</td>\n",
       "      <td>0.462527</td>\n",
       "      <td>0.260827</td>\n",
       "      <td>0.483221</td>\n",
       "    </tr>\n",
       "    <tr>\n",
       "      <th>9446</th>\n",
       "      <td>0.501730</td>\n",
       "      <td>0.465739</td>\n",
       "      <td>0.257233</td>\n",
       "      <td>0.483065</td>\n",
       "    </tr>\n",
       "    <tr>\n",
       "      <th>...</th>\n",
       "      <td>...</td>\n",
       "      <td>...</td>\n",
       "      <td>...</td>\n",
       "      <td>...</td>\n",
       "    </tr>\n",
       "    <tr>\n",
       "      <th>10308</th>\n",
       "      <td>1.000000</td>\n",
       "      <td>0.005353</td>\n",
       "      <td>0.999998</td>\n",
       "      <td>0.010650</td>\n",
       "    </tr>\n",
       "    <tr>\n",
       "      <th>10309</th>\n",
       "      <td>1.000000</td>\n",
       "      <td>0.004283</td>\n",
       "      <td>0.999998</td>\n",
       "      <td>0.008529</td>\n",
       "    </tr>\n",
       "    <tr>\n",
       "      <th>10310</th>\n",
       "      <td>1.000000</td>\n",
       "      <td>0.003212</td>\n",
       "      <td>0.999999</td>\n",
       "      <td>0.006403</td>\n",
       "    </tr>\n",
       "    <tr>\n",
       "      <th>10311</th>\n",
       "      <td>1.000000</td>\n",
       "      <td>0.002141</td>\n",
       "      <td>0.999999</td>\n",
       "      <td>0.004274</td>\n",
       "    </tr>\n",
       "    <tr>\n",
       "      <th>10312</th>\n",
       "      <td>1.000000</td>\n",
       "      <td>0.001071</td>\n",
       "      <td>1.000000</td>\n",
       "      <td>0.002139</td>\n",
       "    </tr>\n",
       "  </tbody>\n",
       "</table>\n",
       "<p>10313 rows × 4 columns</p>\n",
       "</div>"
      ],
      "text/plain": [
       "           prec    recall  threshold        f1\n",
       "9456   0.505251  0.463597   0.260590  0.483529\n",
       "9447   0.502309  0.465739   0.258797  0.483333\n",
       "9455   0.504662  0.463597   0.260175  0.483259\n",
       "9459   0.505855  0.462527   0.260827  0.483221\n",
       "9446   0.501730  0.465739   0.257233  0.483065\n",
       "...         ...       ...        ...       ...\n",
       "10308  1.000000  0.005353   0.999998  0.010650\n",
       "10309  1.000000  0.004283   0.999998  0.008529\n",
       "10310  1.000000  0.003212   0.999999  0.006403\n",
       "10311  1.000000  0.002141   0.999999  0.004274\n",
       "10312  1.000000  0.001071   1.000000  0.002139\n",
       "\n",
       "[10313 rows x 4 columns]"
      ]
     },
     "execution_count": 41,
     "metadata": {},
     "output_type": "execute_result"
    }
   ],
   "source": [
    "prec_recall.sort_values(by = 'f1', ascending = False)"
   ]
  },
  {
   "cell_type": "code",
   "execution_count": 42,
   "metadata": {},
   "outputs": [
    {
     "data": {
      "image/png": "[encoded data removed]",
      "text/plain": [
       "<Figure size 432x288 with 1 Axes>"
      ]
     },
     "metadata": {
      "image/png": {
       "height": 281,
       "width": 389
      }
     },
     "output_type": "display_data"
    }
   ],
   "source": [
    "y_val_pred = best_dt.predict_proba(X_val)[:, 1]\n",
    "auc = roc_auc_score(y_val, y_val_pred)\n",
    "\n",
    "precision, recall, umbrales = precision_recall_curve(y_val, probs)\n",
    "\n",
    "plt.rcParams.update({'font.size': 9})\n",
    "plt.plot(fpr, tpr, label= (\"Precision Recall Curve\") )\n",
    "plt.xlabel(\"Precision\")\n",
    "plt.ylabel(\"Recall\")\n",
    "plt.title((\"Precision Recall Curce (AUC = %.4f)\" % auc))\n",
    "\n",
    "pyplot.plot([0, 1], [0, 1], linestyle='--')\n",
    "pyplot.plot(prec, recall, marker='.')\n",
    "\n",
    "f1 = 2*precision*recall / (precision + recall)\n",
    "best_f1_index = f1.argmax()\n",
    "best_umbral = umbrales[best_f1_index]\n",
    "\n",
    "plt.plot(precision[best_f1_index], recall[best_f1_index], 'o', markersize=10,\n",
    "         label=f\"Mejor umbral: {best_umbral:.2f}\", fillstyle=\"none\", c='r', mew=2)\n",
    "plt.legend(loc='best', numpoints = 1)\n",
    "pyplot.show()"
   ]
  },
  {
   "cell_type": "code",
   "execution_count": 43,
   "metadata": {},
   "outputs": [],
   "source": [
    "labels = np.where(y_val_pred > 0.268443, 1, 0)"
   ]
  },
  {
   "cell_type": "code",
   "execution_count": 44,
   "metadata": {},
   "outputs": [],
   "source": [
    "from sklearn.metrics import f1_score"
   ]
  },
  {
   "cell_type": "code",
   "execution_count": 45,
   "metadata": {},
   "outputs": [
    {
     "data": {
      "text/plain": [
       "0.4811858608893957"
      ]
     },
     "execution_count": 45,
     "metadata": {},
     "output_type": "execute_result"
    }
   ],
   "source": [
    "f1_score(y_val, labels)"
   ]
  },
  {
   "cell_type": "code",
   "execution_count": 46,
   "metadata": {},
   "outputs": [],
   "source": [
    "y_train_pred_label = best_dt.predict(X_train)\n",
    "y_val_pred_label = best_dt.predict(X_val)"
   ]
  },
  {
   "cell_type": "code",
   "execution_count": 47,
   "metadata": {},
   "outputs": [
    {
     "name": "stdout",
     "output_type": "stream",
     "text": [
      "              precision    recall  f1-score   support\n",
      "\n",
      "           0       0.94      0.99      0.96     40112\n",
      "           1       0.80      0.26      0.40      3734\n",
      "\n",
      "    accuracy                           0.93     43846\n",
      "   macro avg       0.87      0.63      0.68     43846\n",
      "weighted avg       0.92      0.93      0.92     43846\n",
      "\n"
     ]
    }
   ],
   "source": [
    "print(classification_report(y_train, y_train_pred_label))"
   ]
  },
  {
   "cell_type": "code",
   "execution_count": 48,
   "metadata": {},
   "outputs": [
    {
     "name": "stdout",
     "output_type": "stream",
     "text": [
      "              precision    recall  f1-score   support\n",
      "\n",
      "           0       0.94      1.00      0.97     10028\n",
      "           1       0.84      0.28      0.42       934\n",
      "\n",
      "    accuracy                           0.93     10962\n",
      "   macro avg       0.89      0.64      0.69     10962\n",
      "weighted avg       0.93      0.93      0.92     10962\n",
      "\n"
     ]
    }
   ],
   "source": [
    "print(classification_report(y_val, y_val_pred_label))"
   ]
  },
  {
   "cell_type": "code",
   "execution_count": null,
   "metadata": {},
   "outputs": [],
   "source": []
  },
  {
   "cell_type": "code",
   "execution_count": null,
   "metadata": {},
   "outputs": [],
   "source": []
  },
  {
   "cell_type": "code",
   "execution_count": null,
   "metadata": {},
   "outputs": [],
   "source": []
  },
  {
   "cell_type": "code",
   "execution_count": null,
   "metadata": {},
   "outputs": [],
   "source": []
  }
 ],
 "metadata": {
  "kernelspec": {
   "display_name": "Python 3",
   "language": "python",
   "name": "python3"
  },
  "language_info": {
   "codemirror_mode": {
    "name": "ipython",
    "version": 3
   },
   "file_extension": ".py",
   "mimetype": "text/x-python",
   "name": "python",
   "nbconvert_exporter": "python",
   "pygments_lexer": "ipython3",
   "version": "3.7.9"
  }
 },
 "nbformat": 4,
 "nbformat_minor": 4
}
