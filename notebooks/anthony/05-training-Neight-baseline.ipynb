{
 "cells": [
  {
   "cell_type": "markdown",
   "metadata": {},
   "source": [
    "# HR Analytics\n",
    "\n",
    "<img src = 'https://datahack-prod.s3.ap-south-1.amazonaws.com/__sized__/contest_cover/hr_1920x480_s5WuoZs-thumbnail-1200x1200-90.jpg'>\n",
    "\n",
    "Practice Problem: https://datahack.analyticsvidhya.com/contest/wns-analytics-hackathon-2018-1/"
   ]
  },
  {
   "cell_type": "markdown",
   "metadata": {},
   "source": [
    "## HR Analytics\n",
    "\n",
    "HR analytics is revolutionising the way human resources departments operate, leading to higher efficiency and better results overall. Human resources has been using analytics for years. However, the collection, processing and analysis of data has been largely manual, and given the nature of human resources dynamics and HR KPIs, the approach has been constraining HR. Therefore, it is surprising that HR departments woke up to the utility of machine learning so late in the game. Here is an opportunity to try predictive analytics in identifying the employees most likely to get promoted."
   ]
  },
  {
   "cell_type": "markdown",
   "metadata": {},
   "source": [
    "## Problem Statement\n",
    "\n",
    "Your client is a large MNC and they have 9 broad verticals across the organisation. One of the problem your client is facing is around identifying the right people for promotion *(only for manager position and below)* and prepare them in time. Currently the process, they are following is:\n",
    "\n",
    "* They first identify a set of employees based on recommendations/ past performance\n",
    "* Selected employees go through the separate training and evaluation program for each vertical. These programs are based on the required skill of each vertical\n",
    "* At the end of the program, based on various factors such as training performance, KPI completion (only employees with KPIs completed greater than 60% are considered) etc., employee gets promotion\n",
    "\n",
    "For above mentioned process, the final promotions are only announced after the evaluation and this leads to delay in transition to their new roles. Hence, company needs your help in identifying the eligible candidates at a particular checkpoint so that they can expedite the entire promotion cycle. "
   ]
  },
  {
   "cell_type": "markdown",
   "metadata": {},
   "source": [
    "<img src = 'https://s3-ap-south-1.amazonaws.com/av-blog-media/wp-content/uploads/2018/09/wns_hack_im_1.jpg'>"
   ]
  },
  {
   "cell_type": "markdown",
   "metadata": {},
   "source": [
    "They have provided multiple attributes around Employee's past and current performance along with demographics. Now, The task is to predict whether a potential promotee at checkpoint in the test set will be promoted or not after the evaluation process."
   ]
  },
  {
   "cell_type": "markdown",
   "metadata": {},
   "source": [
    "## Evaluation Metric\n",
    "\n",
    "The evaluation metric for this competition is F1 Score.\n",
    "\n",
    "## Public and Private Split\n",
    "\n",
    "Test data is further randomly divided into Public (40%) and Private (60%) data.\n",
    "\n",
    "Your initial responses will be checked and scored on the Public data.\n",
    "The final rankings would be based on your private score which will be published once the competition is over."
   ]
  },
  {
   "cell_type": "markdown",
   "metadata": {},
   "source": [
    "## Entorno"
   ]
  },
  {
   "cell_type": "code",
   "execution_count": 1,
   "metadata": {},
   "outputs": [
    {
     "data": {
      "text/plain": [
       "'3.7.9 (default, Aug 31 2020, 17:10:11) [MSC v.1916 64 bit (AMD64)]'"
      ]
     },
     "execution_count": 1,
     "metadata": {},
     "output_type": "execute_result"
    }
   ],
   "source": [
    "import sys\n",
    "sys.version"
   ]
  },
  {
   "cell_type": "code",
   "execution_count": 2,
   "metadata": {},
   "outputs": [
    {
     "name": "stdout",
     "output_type": "stream",
     "text": [
      "# conda environments:\n",
      "#\n",
      "base                  *  C:\\Users\\antho\\Anaconda3\n",
      "\n"
     ]
    }
   ],
   "source": [
    "!conda info --envs"
   ]
  },
  {
   "cell_type": "markdown",
   "metadata": {},
   "source": [
    "## Paquetes"
   ]
  },
  {
   "cell_type": "code",
   "execution_count": 3,
   "metadata": {},
   "outputs": [],
   "source": [
    "%load_ext autoreload\n",
    "%autoreload 2\n",
    "%matplotlib inline\n",
    "%config InlineBackend.figure_format = 'retina'\n",
    "\n",
    "import os\n",
    "import numpy as np\n",
    "import pandas as pd\n",
    "import sklearn\n",
    "import matplotlib.pyplot as plt\n",
    "import seaborn as sns\n",
    "from tqdm import tqdm, tqdm_notebook\n",
    "from pathlib import Path\n",
    "import random\n",
    "import warnings\n",
    "import pickle\n",
    "\n",
    "warnings.filterwarnings('ignore')\n",
    "\n",
    "\n",
    "seed = 2020\n",
    "random.seed(seed)\n",
    "\n",
    "pd.set_option('display.max_columns', 1000)\n",
    "pd.set_option('display.max_rows', 400)\n",
    "sns.set()\n",
    "\n",
    "DATA = Path('../../data') \n",
    "RAW  = DATA/'raw'\n",
    "PROCESSED = DATA/'processed'\n",
    "SUBMISSIONS = DATA/'submissions'    \n",
    "\n",
    "MODEL = Path('../../model') "
   ]
  },
  {
   "cell_type": "code",
   "execution_count": 4,
   "metadata": {},
   "outputs": [
    {
     "data": {
      "text/plain": [
       "'1.1.3'"
      ]
     },
     "execution_count": 4,
     "metadata": {},
     "output_type": "execute_result"
    }
   ],
   "source": [
    "pd.__version__"
   ]
  },
  {
   "cell_type": "code",
   "execution_count": 5,
   "metadata": {},
   "outputs": [
    {
     "data": {
      "text/plain": [
       "'1.19.2'"
      ]
     },
     "execution_count": 5,
     "metadata": {},
     "output_type": "execute_result"
    }
   ],
   "source": [
    "np.__version__"
   ]
  },
  {
   "cell_type": "code",
   "execution_count": 6,
   "metadata": {},
   "outputs": [
    {
     "data": {
      "text/plain": [
       "'0.23.2'"
      ]
     },
     "execution_count": 6,
     "metadata": {},
     "output_type": "execute_result"
    }
   ],
   "source": [
    "sklearn.__version__"
   ]
  },
  {
   "cell_type": "code",
   "execution_count": 7,
   "metadata": {},
   "outputs": [],
   "source": [
    "id_columns = 'employee_id'\n",
    "target = 'is_promoted'"
   ]
  },
  {
   "cell_type": "markdown",
   "metadata": {},
   "source": [
    "## Lectura de datos"
   ]
  },
  {
   "cell_type": "code",
   "execution_count": 8,
   "metadata": {},
   "outputs": [
    {
     "data": {
      "text/plain": [
       "['.DS_Store',\n",
       " 'preprocess_v1_capping_values.pkl',\n",
       " 'preprocess_v1_impute_values.pkl',\n",
       " 'preprocess_v1_ohe.pkl',\n",
       " 'preprocess_v1_ohe_columns.pkl',\n",
       " 'preprocess_v1_over50_train.csv',\n",
       " 'preprocess_v1_scaler.pkl',\n",
       " 'preprocess_v1_smote20_train.csv',\n",
       " 'preprocess_v1_smote50_train.csv',\n",
       " 'preprocess_v1_smoteTomek20_train.csv',\n",
       " 'preprocess_v1_smoteTomek50_train.csv',\n",
       " 'preprocess_v1_train.csv',\n",
       " 'preprocess_v1_under50_train.csv',\n",
       " 'preprocess_v1_val.csv',\n",
       " 'preprocess_v2_capping_values.pkl',\n",
       " 'preprocess_v2_knnimputation.pkl',\n",
       " 'preprocess_v2_ohe.pkl',\n",
       " 'preprocess_v2_ohe_columns.pkl',\n",
       " 'preprocess_v2_over50_train.csv',\n",
       " 'preprocess_v2_scaler.pkl',\n",
       " 'preprocess_v2_scalerimputation.pkl',\n",
       " 'preprocess_v2_smote20_train.csv',\n",
       " 'preprocess_v2_smote50_train.csv',\n",
       " 'preprocess_v2_smoteTomek20_train.csv',\n",
       " 'preprocess_v2_smoteTomek50_train.csv',\n",
       " 'preprocess_v2_test.csv',\n",
       " 'preprocess_v2_train.csv',\n",
       " 'preprocess_v2_under50_train.csv',\n",
       " 'preprocess_v2_val.csv']"
      ]
     },
     "execution_count": 8,
     "metadata": {},
     "output_type": "execute_result"
    }
   ],
   "source": [
    "os.listdir(f'{PROCESSED}')"
   ]
  },
  {
   "cell_type": "markdown",
   "metadata": {},
   "source": [
    "## Entrenamiento V1 sin balanceo"
   ]
  },
  {
   "cell_type": "code",
   "execution_count": 9,
   "metadata": {},
   "outputs": [],
   "source": [
    "from sklearn.neighbors import KNeighborsClassifier\n",
    "from sklearn.metrics import precision_recall_curve, roc_auc_score, f1_score"
   ]
  },
  {
   "cell_type": "code",
   "execution_count": 10,
   "metadata": {},
   "outputs": [
    {
     "data": {
      "text/plain": [
       "['preprocess_v1_over50_train.csv',\n",
       " 'preprocess_v1_smote20_train.csv',\n",
       " 'preprocess_v1_smote50_train.csv',\n",
       " 'preprocess_v1_smoteTomek20_train.csv',\n",
       " 'preprocess_v1_smoteTomek50_train.csv',\n",
       " 'preprocess_v1_train.csv',\n",
       " 'preprocess_v1_under50_train.csv',\n",
       " 'preprocess_v2_over50_train.csv',\n",
       " 'preprocess_v2_smote20_train.csv',\n",
       " 'preprocess_v2_smote50_train.csv',\n",
       " 'preprocess_v2_smoteTomek20_train.csv',\n",
       " 'preprocess_v2_smoteTomek50_train.csv',\n",
       " 'preprocess_v2_train.csv',\n",
       " 'preprocess_v2_under50_train.csv']"
      ]
     },
     "execution_count": 10,
     "metadata": {},
     "output_type": "execute_result"
    }
   ],
   "source": [
    "preproc_train = [file for file in os.listdir(f'{PROCESSED}') if file.endswith('train.csv')]\n",
    "preproc_train"
   ]
  },
  {
   "cell_type": "code",
   "execution_count": 11,
   "metadata": {},
   "outputs": [
    {
     "data": {
      "text/plain": [
       "['preprocess_v1_val.csv', 'preprocess_v2_val.csv']"
      ]
     },
     "execution_count": 11,
     "metadata": {},
     "output_type": "execute_result"
    }
   ],
   "source": [
    "preproc_val = [file for file in os.listdir(f'{PROCESSED}') if file.endswith('val.csv')]\n",
    "preproc_val"
   ]
  },
  {
   "cell_type": "code",
   "execution_count": 12,
   "metadata": {
    "scrolled": true
   },
   "outputs": [
    {
     "name": "stdout",
     "output_type": "stream",
     "text": [
      "label: preprocess_v1_over50_train.csv      \tnrows: 80224 \t%target train: 0.5000 \t%target val: 0.0852\n",
      "label: preprocess_v1_smote20_train.csv     \tnrows: 48134 \t%target train: 0.1667 \t%target val: 0.0852\n",
      "label: preprocess_v1_smote50_train.csv     \tnrows: 80224 \t%target train: 0.5000 \t%target val: 0.0852\n",
      "label: preprocess_v1_smoteTomek20_train.csv \tnrows: 46412 \t%target train: 0.1543 \t%target val: 0.0852\n",
      "label: preprocess_v1_smoteTomek50_train.csv \tnrows: 79638 \t%target train: 0.5000 \t%target val: 0.0852\n",
      "label: preprocess_v1_train.csv             \tnrows: 43846 \t%target train: 0.0852 \t%target val: 0.0852\n",
      "label: preprocess_v1_under50_train.csv     \tnrows: 7468 \t%target train: 0.5000 \t%target val: 0.0852\n",
      "label: preprocess_v2_over50_train.csv      \tnrows: 80224 \t%target train: 0.5000 \t%target val: 0.0852\n",
      "label: preprocess_v2_smote20_train.csv     \tnrows: 48134 \t%target train: 0.1667 \t%target val: 0.0852\n",
      "label: preprocess_v2_smote50_train.csv     \tnrows: 80224 \t%target train: 0.5000 \t%target val: 0.0852\n",
      "label: preprocess_v2_smoteTomek20_train.csv \tnrows: 46390 \t%target train: 0.1541 \t%target val: 0.0852\n",
      "label: preprocess_v2_smoteTomek50_train.csv \tnrows: 79638 \t%target train: 0.5000 \t%target val: 0.0852\n",
      "label: preprocess_v2_train.csv             \tnrows: 43846 \t%target train: 0.0852 \t%target val: 0.0852\n",
      "label: preprocess_v2_under50_train.csv     \tnrows: 7468 \t%target train: 0.5000 \t%target val: 0.0852\n"
     ]
    }
   ],
   "source": [
    "for train_file in sorted(preproc_train):\n",
    "    df_train = pd.read_csv(f'{PROCESSED}/{train_file}', compression = 'zip')\n",
    "    df_val = pd.read_csv(f'{PROCESSED}/{preproc_val[0]}', compression = 'zip')\n",
    "    \n",
    "    print(f'label: {train_file:35} \\tnrows: {len(df_train)} \\t%target train: {df_train[target].mean():.4f} \\t%target val: {df_val[target].mean():.4f}')"
   ]
  },
  {
   "cell_type": "code",
   "execution_count": 13,
   "metadata": {},
   "outputs": [],
   "source": [
    "train_file = 'preprocess_v1_train.csv'\n",
    "val_file = 'preprocess_v1_val.csv'\n"
   ]
  },
  {
   "cell_type": "code",
   "execution_count": 14,
   "metadata": {},
   "outputs": [],
   "source": [
    "from sklearn.model_selection import ParameterGrid\n",
    "\n",
    "n_neighbors = list(range(5,10))\n",
    "p=[1,2]\n",
    "#random_state= [seed]\n",
    "cv_grid = dict(n_neighbors=n_neighbors, p=p)"
   ]
  },
  {
   "cell_type": "code",
   "execution_count": 15,
   "metadata": {},
   "outputs": [],
   "source": [
    "\n",
    "\n",
    "params_grid = list(ParameterGrid(cv_grid))"
   ]
  },
  {
   "cell_type": "code",
   "execution_count": 16,
   "metadata": {
    "scrolled": false
   },
   "outputs": [
    {
     "name": "stderr",
     "output_type": "stream",
     "text": [
      "\r",
      "  0%|          | 0/10 [00:00<?, ?it/s]"
     ]
    },
    {
     "name": "stdout",
     "output_type": "stream",
     "text": [
      "----------------------------------------------------------------------\n",
      "{'n_neighbors': 5, 'p': 1}\n",
      "preprocess_v1_over50_train.csv\n",
      "----------------------------------------------------------------------\n",
      "auc_train: 0.948033 \tauc_val: 0.646267 \tf1_train: 0.950598 \tf1_val: 0.292578\n",
      "----------------------------------------------------------------------\n",
      "{'n_neighbors': 5, 'p': 1}\n",
      "preprocess_v1_smote20_train.csv\n",
      "----------------------------------------------------------------------\n",
      "auc_train: 0.849801 \tauc_val: 0.586403 \tf1_train: 0.770056 \tf1_val: 0.250441\n",
      "----------------------------------------------------------------------\n",
      "{'n_neighbors': 5, 'p': 1}\n",
      "preprocess_v1_smote50_train.csv\n",
      "----------------------------------------------------------------------\n",
      "auc_train: 0.951050 \tauc_val: 0.643785 \tf1_train: 0.953186 \tf1_val: 0.295737\n",
      "----------------------------------------------------------------------\n",
      "{'n_neighbors': 5, 'p': 1}\n",
      "preprocess_v1_smoteTomek20_train.csv\n",
      "----------------------------------------------------------------------\n",
      "auc_train: 0.853254 \tauc_val: 0.589248 \tf1_train: 0.783278 \tf1_val: 0.261741\n",
      "----------------------------------------------------------------------\n",
      "{'n_neighbors': 5, 'p': 1}\n",
      "preprocess_v1_smoteTomek50_train.csv\n",
      "----------------------------------------------------------------------\n",
      "auc_train: 0.953464 \tauc_val: 0.643389 \tf1_train: 0.955319 \tf1_val: 0.297090\n",
      "----------------------------------------------------------------------\n",
      "{'n_neighbors': 5, 'p': 1}\n",
      "preprocess_v1_train.csv\n",
      "----------------------------------------------------------------------\n",
      "auc_train: 0.583763 \tauc_val: 0.538339 \tf1_train: 0.281168 \tf1_val: 0.144928\n",
      "----------------------------------------------------------------------\n",
      "{'n_neighbors': 5, 'p': 1}\n",
      "preprocess_v1_under50_train.csv\n",
      "----------------------------------------------------------------------\n",
      "auc_train: 0.801419 \tauc_val: 0.668461 \tf1_train: 0.800645 \tf1_val: 0.259880\n",
      "----------------------------------------------------------------------\n",
      "{'n_neighbors': 5, 'p': 1}\n",
      "preprocess_v2_over50_train.csv\n",
      "----------------------------------------------------------------------\n",
      "auc_train: 0.952869 \tauc_val: 0.654187 \tf1_train: 0.954956 \tf1_val: 0.293253\n",
      "----------------------------------------------------------------------\n",
      "{'n_neighbors': 5, 'p': 1}\n",
      "preprocess_v2_smote20_train.csv\n",
      "----------------------------------------------------------------------\n",
      "auc_train: 0.849527 \tauc_val: 0.585618 \tf1_train: 0.769804 \tf1_val: 0.248680\n",
      "----------------------------------------------------------------------\n",
      "{'n_neighbors': 5, 'p': 1}\n",
      "preprocess_v2_smote50_train.csv\n",
      "----------------------------------------------------------------------\n",
      "auc_train: 0.950975 \tauc_val: 0.644593 \tf1_train: 0.953131 \tf1_val: 0.295880\n",
      "----------------------------------------------------------------------\n",
      "{'n_neighbors': 5, 'p': 1}\n",
      "preprocess_v2_smoteTomek20_train.csv\n",
      "----------------------------------------------------------------------\n",
      "auc_train: 0.853788 \tauc_val: 0.588912 \tf1_train: 0.784270 \tf1_val: 0.261307\n",
      "----------------------------------------------------------------------\n",
      "{'n_neighbors': 5, 'p': 1}\n",
      "preprocess_v2_smoteTomek50_train.csv\n",
      "----------------------------------------------------------------------\n",
      "auc_train: 0.953163 \tauc_val: 0.642541 \tf1_train: 0.955041 \tf1_val: 0.295169\n",
      "----------------------------------------------------------------------\n",
      "{'n_neighbors': 5, 'p': 1}\n",
      "preprocess_v2_train.csv\n",
      "----------------------------------------------------------------------\n",
      "auc_train: 0.584128 \tauc_val: 0.538289 \tf1_train: 0.282107 \tf1_val: 0.144796\n",
      "----------------------------------------------------------------------\n",
      "{'n_neighbors': 5, 'p': 1}\n",
      "preprocess_v2_under50_train.csv\n",
      "----------------------------------------------------------------------\n"
     ]
    },
    {
     "name": "stderr",
     "output_type": "stream",
     "text": [
      "\r",
      " 10%|█         | 1/10 [1:05:12<9:46:49, 3912.13s/it]"
     ]
    },
    {
     "name": "stdout",
     "output_type": "stream",
     "text": [
      "auc_train: 0.802625 \tauc_val: 0.671237 \tf1_train: 0.801882 \tf1_val: 0.261859\n",
      "----------------------------------------------------------------------\n",
      "{'n_neighbors': 5, 'p': 2}\n",
      "preprocess_v1_over50_train.csv\n",
      "----------------------------------------------------------------------\n",
      "auc_train: 0.946325 \tauc_val: 0.651668 \tf1_train: 0.949060 \tf1_val: 0.296661\n",
      "----------------------------------------------------------------------\n",
      "{'n_neighbors': 5, 'p': 2}\n",
      "preprocess_v1_smote20_train.csv\n",
      "----------------------------------------------------------------------\n",
      "auc_train: 0.853142 \tauc_val: 0.611356 \tf1_train: 0.759620 \tf1_val: 0.287375\n",
      "----------------------------------------------------------------------\n",
      "{'n_neighbors': 5, 'p': 2}\n",
      "preprocess_v1_smote50_train.csv\n",
      "----------------------------------------------------------------------\n",
      "auc_train: 0.939644 \tauc_val: 0.664970 \tf1_train: 0.942960 \tf1_val: 0.305788\n",
      "----------------------------------------------------------------------\n",
      "{'n_neighbors': 5, 'p': 2}\n",
      "preprocess_v1_smoteTomek20_train.csv\n",
      "----------------------------------------------------------------------\n",
      "auc_train: 0.864267 \tauc_val: 0.614511 \tf1_train: 0.779359 \tf1_val: 0.298130\n",
      "----------------------------------------------------------------------\n",
      "{'n_neighbors': 5, 'p': 2}\n",
      "preprocess_v1_smoteTomek50_train.csv\n",
      "----------------------------------------------------------------------\n",
      "auc_train: 0.940556 \tauc_val: 0.670795 \tf1_train: 0.943710 \tf1_val: 0.311318\n",
      "----------------------------------------------------------------------\n",
      "{'n_neighbors': 5, 'p': 2}\n",
      "preprocess_v1_train.csv\n",
      "----------------------------------------------------------------------\n",
      "auc_train: 0.598016 \tauc_val: 0.554396 \tf1_train: 0.318450 \tf1_val: 0.193057\n",
      "----------------------------------------------------------------------\n",
      "{'n_neighbors': 5, 'p': 2}\n",
      "preprocess_v1_under50_train.csv\n",
      "----------------------------------------------------------------------\n",
      "auc_train: 0.789100 \tauc_val: 0.656665 \tf1_train: 0.788959 \tf1_val: 0.249789\n",
      "----------------------------------------------------------------------\n",
      "{'n_neighbors': 5, 'p': 2}\n",
      "preprocess_v2_over50_train.csv\n",
      "----------------------------------------------------------------------\n"
     ]
    },
    {
     "name": "stderr",
     "output_type": "stream",
     "text": [
      " 10%|█         | 1/10 [1:46:37<15:59:35, 6397.26s/it]\n"
     ]
    },
    {
     "ename": "KeyboardInterrupt",
     "evalue": "",
     "output_type": "error",
     "traceback": [
      "\u001b[1;31m---------------------------------------------------------------------------\u001b[0m",
      "\u001b[1;31mKeyboardInterrupt\u001b[0m                         Traceback (most recent call last)",
      "\u001b[1;32m<ipython-input-16-f5d7af8386ff>\u001b[0m in \u001b[0;36m<module>\u001b[1;34m\u001b[0m\n\u001b[0;32m     27\u001b[0m         \u001b[1;31m#xgb_params_export.update(logi_fit.attributes())\u001b[0m\u001b[1;33m\u001b[0m\u001b[1;33m\u001b[0m\u001b[1;33m\u001b[0m\u001b[0m\n\u001b[0;32m     28\u001b[0m \u001b[1;33m\u001b[0m\u001b[0m\n\u001b[1;32m---> 29\u001b[1;33m         \u001b[0mprobs_train\u001b[0m \u001b[1;33m=\u001b[0m \u001b[0mknn\u001b[0m\u001b[1;33m.\u001b[0m\u001b[0mpredict\u001b[0m\u001b[1;33m(\u001b[0m\u001b[0mX_train\u001b[0m\u001b[1;33m)\u001b[0m\u001b[1;33m\u001b[0m\u001b[1;33m\u001b[0m\u001b[0m\n\u001b[0m\u001b[0;32m     30\u001b[0m         \u001b[0mprobs_val\u001b[0m \u001b[1;33m=\u001b[0m \u001b[0mknn\u001b[0m\u001b[1;33m.\u001b[0m\u001b[0mpredict\u001b[0m\u001b[1;33m(\u001b[0m\u001b[0mX_val\u001b[0m\u001b[1;33m)\u001b[0m\u001b[1;33m\u001b[0m\u001b[1;33m\u001b[0m\u001b[0m\n\u001b[0;32m     31\u001b[0m \u001b[1;33m\u001b[0m\u001b[0m\n",
      "\u001b[1;32m~\\Anaconda3\\lib\\site-packages\\sklearn\\neighbors\\_classification.py\u001b[0m in \u001b[0;36mpredict\u001b[1;34m(self, X)\u001b[0m\n\u001b[0;32m    173\u001b[0m         \u001b[0mX\u001b[0m \u001b[1;33m=\u001b[0m \u001b[0mcheck_array\u001b[0m\u001b[1;33m(\u001b[0m\u001b[0mX\u001b[0m\u001b[1;33m,\u001b[0m \u001b[0maccept_sparse\u001b[0m\u001b[1;33m=\u001b[0m\u001b[1;34m'csr'\u001b[0m\u001b[1;33m)\u001b[0m\u001b[1;33m\u001b[0m\u001b[1;33m\u001b[0m\u001b[0m\n\u001b[0;32m    174\u001b[0m \u001b[1;33m\u001b[0m\u001b[0m\n\u001b[1;32m--> 175\u001b[1;33m         \u001b[0mneigh_dist\u001b[0m\u001b[1;33m,\u001b[0m \u001b[0mneigh_ind\u001b[0m \u001b[1;33m=\u001b[0m \u001b[0mself\u001b[0m\u001b[1;33m.\u001b[0m\u001b[0mkneighbors\u001b[0m\u001b[1;33m(\u001b[0m\u001b[0mX\u001b[0m\u001b[1;33m)\u001b[0m\u001b[1;33m\u001b[0m\u001b[1;33m\u001b[0m\u001b[0m\n\u001b[0m\u001b[0;32m    176\u001b[0m         \u001b[0mclasses_\u001b[0m \u001b[1;33m=\u001b[0m \u001b[0mself\u001b[0m\u001b[1;33m.\u001b[0m\u001b[0mclasses_\u001b[0m\u001b[1;33m\u001b[0m\u001b[1;33m\u001b[0m\u001b[0m\n\u001b[0;32m    177\u001b[0m         \u001b[0m_y\u001b[0m \u001b[1;33m=\u001b[0m \u001b[0mself\u001b[0m\u001b[1;33m.\u001b[0m\u001b[0m_y\u001b[0m\u001b[1;33m\u001b[0m\u001b[1;33m\u001b[0m\u001b[0m\n",
      "\u001b[1;32m~\\Anaconda3\\lib\\site-packages\\sklearn\\neighbors\\_base.py\u001b[0m in \u001b[0;36mkneighbors\u001b[1;34m(self, X, n_neighbors, return_distance)\u001b[0m\n\u001b[0;32m    663\u001b[0m                 delayed_query(\n\u001b[0;32m    664\u001b[0m                     self._tree, X[s], n_neighbors, return_distance)\n\u001b[1;32m--> 665\u001b[1;33m                 \u001b[1;32mfor\u001b[0m \u001b[0ms\u001b[0m \u001b[1;32min\u001b[0m \u001b[0mgen_even_slices\u001b[0m\u001b[1;33m(\u001b[0m\u001b[0mX\u001b[0m\u001b[1;33m.\u001b[0m\u001b[0mshape\u001b[0m\u001b[1;33m[\u001b[0m\u001b[1;36m0\u001b[0m\u001b[1;33m]\u001b[0m\u001b[1;33m,\u001b[0m \u001b[0mn_jobs\u001b[0m\u001b[1;33m)\u001b[0m\u001b[1;33m\u001b[0m\u001b[1;33m\u001b[0m\u001b[0m\n\u001b[0m\u001b[0;32m    666\u001b[0m             )\n\u001b[0;32m    667\u001b[0m         \u001b[1;32melse\u001b[0m\u001b[1;33m:\u001b[0m\u001b[1;33m\u001b[0m\u001b[1;33m\u001b[0m\u001b[0m\n",
      "\u001b[1;32m~\\Anaconda3\\lib\\site-packages\\joblib\\parallel.py\u001b[0m in \u001b[0;36m__call__\u001b[1;34m(self, iterable)\u001b[0m\n\u001b[0;32m   1046\u001b[0m             \u001b[1;31m# remaining jobs.\u001b[0m\u001b[1;33m\u001b[0m\u001b[1;33m\u001b[0m\u001b[1;33m\u001b[0m\u001b[0m\n\u001b[0;32m   1047\u001b[0m             \u001b[0mself\u001b[0m\u001b[1;33m.\u001b[0m\u001b[0m_iterating\u001b[0m \u001b[1;33m=\u001b[0m \u001b[1;32mFalse\u001b[0m\u001b[1;33m\u001b[0m\u001b[1;33m\u001b[0m\u001b[0m\n\u001b[1;32m-> 1048\u001b[1;33m             \u001b[1;32mif\u001b[0m \u001b[0mself\u001b[0m\u001b[1;33m.\u001b[0m\u001b[0mdispatch_one_batch\u001b[0m\u001b[1;33m(\u001b[0m\u001b[0miterator\u001b[0m\u001b[1;33m)\u001b[0m\u001b[1;33m:\u001b[0m\u001b[1;33m\u001b[0m\u001b[1;33m\u001b[0m\u001b[0m\n\u001b[0m\u001b[0;32m   1049\u001b[0m                 \u001b[0mself\u001b[0m\u001b[1;33m.\u001b[0m\u001b[0m_iterating\u001b[0m \u001b[1;33m=\u001b[0m \u001b[0mself\u001b[0m\u001b[1;33m.\u001b[0m\u001b[0m_original_iterator\u001b[0m \u001b[1;32mis\u001b[0m \u001b[1;32mnot\u001b[0m \u001b[1;32mNone\u001b[0m\u001b[1;33m\u001b[0m\u001b[1;33m\u001b[0m\u001b[0m\n\u001b[0;32m   1050\u001b[0m \u001b[1;33m\u001b[0m\u001b[0m\n",
      "\u001b[1;32m~\\Anaconda3\\lib\\site-packages\\joblib\\parallel.py\u001b[0m in \u001b[0;36mdispatch_one_batch\u001b[1;34m(self, iterator)\u001b[0m\n\u001b[0;32m    864\u001b[0m                 \u001b[1;32mreturn\u001b[0m \u001b[1;32mFalse\u001b[0m\u001b[1;33m\u001b[0m\u001b[1;33m\u001b[0m\u001b[0m\n\u001b[0;32m    865\u001b[0m             \u001b[1;32melse\u001b[0m\u001b[1;33m:\u001b[0m\u001b[1;33m\u001b[0m\u001b[1;33m\u001b[0m\u001b[0m\n\u001b[1;32m--> 866\u001b[1;33m                 \u001b[0mself\u001b[0m\u001b[1;33m.\u001b[0m\u001b[0m_dispatch\u001b[0m\u001b[1;33m(\u001b[0m\u001b[0mtasks\u001b[0m\u001b[1;33m)\u001b[0m\u001b[1;33m\u001b[0m\u001b[1;33m\u001b[0m\u001b[0m\n\u001b[0m\u001b[0;32m    867\u001b[0m                 \u001b[1;32mreturn\u001b[0m \u001b[1;32mTrue\u001b[0m\u001b[1;33m\u001b[0m\u001b[1;33m\u001b[0m\u001b[0m\n\u001b[0;32m    868\u001b[0m \u001b[1;33m\u001b[0m\u001b[0m\n",
      "\u001b[1;32m~\\Anaconda3\\lib\\site-packages\\joblib\\parallel.py\u001b[0m in \u001b[0;36m_dispatch\u001b[1;34m(self, batch)\u001b[0m\n\u001b[0;32m    782\u001b[0m         \u001b[1;32mwith\u001b[0m \u001b[0mself\u001b[0m\u001b[1;33m.\u001b[0m\u001b[0m_lock\u001b[0m\u001b[1;33m:\u001b[0m\u001b[1;33m\u001b[0m\u001b[1;33m\u001b[0m\u001b[0m\n\u001b[0;32m    783\u001b[0m             \u001b[0mjob_idx\u001b[0m \u001b[1;33m=\u001b[0m \u001b[0mlen\u001b[0m\u001b[1;33m(\u001b[0m\u001b[0mself\u001b[0m\u001b[1;33m.\u001b[0m\u001b[0m_jobs\u001b[0m\u001b[1;33m)\u001b[0m\u001b[1;33m\u001b[0m\u001b[1;33m\u001b[0m\u001b[0m\n\u001b[1;32m--> 784\u001b[1;33m             \u001b[0mjob\u001b[0m \u001b[1;33m=\u001b[0m \u001b[0mself\u001b[0m\u001b[1;33m.\u001b[0m\u001b[0m_backend\u001b[0m\u001b[1;33m.\u001b[0m\u001b[0mapply_async\u001b[0m\u001b[1;33m(\u001b[0m\u001b[0mbatch\u001b[0m\u001b[1;33m,\u001b[0m \u001b[0mcallback\u001b[0m\u001b[1;33m=\u001b[0m\u001b[0mcb\u001b[0m\u001b[1;33m)\u001b[0m\u001b[1;33m\u001b[0m\u001b[1;33m\u001b[0m\u001b[0m\n\u001b[0m\u001b[0;32m    785\u001b[0m             \u001b[1;31m# A job can complete so quickly than its callback is\u001b[0m\u001b[1;33m\u001b[0m\u001b[1;33m\u001b[0m\u001b[1;33m\u001b[0m\u001b[0m\n\u001b[0;32m    786\u001b[0m             \u001b[1;31m# called before we get here, causing self._jobs to\u001b[0m\u001b[1;33m\u001b[0m\u001b[1;33m\u001b[0m\u001b[1;33m\u001b[0m\u001b[0m\n",
      "\u001b[1;32m~\\Anaconda3\\lib\\site-packages\\joblib\\_parallel_backends.py\u001b[0m in \u001b[0;36mapply_async\u001b[1;34m(self, func, callback)\u001b[0m\n\u001b[0;32m    206\u001b[0m     \u001b[1;32mdef\u001b[0m \u001b[0mapply_async\u001b[0m\u001b[1;33m(\u001b[0m\u001b[0mself\u001b[0m\u001b[1;33m,\u001b[0m \u001b[0mfunc\u001b[0m\u001b[1;33m,\u001b[0m \u001b[0mcallback\u001b[0m\u001b[1;33m=\u001b[0m\u001b[1;32mNone\u001b[0m\u001b[1;33m)\u001b[0m\u001b[1;33m:\u001b[0m\u001b[1;33m\u001b[0m\u001b[1;33m\u001b[0m\u001b[0m\n\u001b[0;32m    207\u001b[0m         \u001b[1;34m\"\"\"Schedule a func to be run\"\"\"\u001b[0m\u001b[1;33m\u001b[0m\u001b[1;33m\u001b[0m\u001b[0m\n\u001b[1;32m--> 208\u001b[1;33m         \u001b[0mresult\u001b[0m \u001b[1;33m=\u001b[0m \u001b[0mImmediateResult\u001b[0m\u001b[1;33m(\u001b[0m\u001b[0mfunc\u001b[0m\u001b[1;33m)\u001b[0m\u001b[1;33m\u001b[0m\u001b[1;33m\u001b[0m\u001b[0m\n\u001b[0m\u001b[0;32m    209\u001b[0m         \u001b[1;32mif\u001b[0m \u001b[0mcallback\u001b[0m\u001b[1;33m:\u001b[0m\u001b[1;33m\u001b[0m\u001b[1;33m\u001b[0m\u001b[0m\n\u001b[0;32m    210\u001b[0m             \u001b[0mcallback\u001b[0m\u001b[1;33m(\u001b[0m\u001b[0mresult\u001b[0m\u001b[1;33m)\u001b[0m\u001b[1;33m\u001b[0m\u001b[1;33m\u001b[0m\u001b[0m\n",
      "\u001b[1;32m~\\Anaconda3\\lib\\site-packages\\joblib\\_parallel_backends.py\u001b[0m in \u001b[0;36m__init__\u001b[1;34m(self, batch)\u001b[0m\n\u001b[0;32m    570\u001b[0m         \u001b[1;31m# Don't delay the application, to avoid keeping the input\u001b[0m\u001b[1;33m\u001b[0m\u001b[1;33m\u001b[0m\u001b[1;33m\u001b[0m\u001b[0m\n\u001b[0;32m    571\u001b[0m         \u001b[1;31m# arguments in memory\u001b[0m\u001b[1;33m\u001b[0m\u001b[1;33m\u001b[0m\u001b[1;33m\u001b[0m\u001b[0m\n\u001b[1;32m--> 572\u001b[1;33m         \u001b[0mself\u001b[0m\u001b[1;33m.\u001b[0m\u001b[0mresults\u001b[0m \u001b[1;33m=\u001b[0m \u001b[0mbatch\u001b[0m\u001b[1;33m(\u001b[0m\u001b[1;33m)\u001b[0m\u001b[1;33m\u001b[0m\u001b[1;33m\u001b[0m\u001b[0m\n\u001b[0m\u001b[0;32m    573\u001b[0m \u001b[1;33m\u001b[0m\u001b[0m\n\u001b[0;32m    574\u001b[0m     \u001b[1;32mdef\u001b[0m \u001b[0mget\u001b[0m\u001b[1;33m(\u001b[0m\u001b[0mself\u001b[0m\u001b[1;33m)\u001b[0m\u001b[1;33m:\u001b[0m\u001b[1;33m\u001b[0m\u001b[1;33m\u001b[0m\u001b[0m\n",
      "\u001b[1;32m~\\Anaconda3\\lib\\site-packages\\joblib\\parallel.py\u001b[0m in \u001b[0;36m__call__\u001b[1;34m(self)\u001b[0m\n\u001b[0;32m    261\u001b[0m         \u001b[1;32mwith\u001b[0m \u001b[0mparallel_backend\u001b[0m\u001b[1;33m(\u001b[0m\u001b[0mself\u001b[0m\u001b[1;33m.\u001b[0m\u001b[0m_backend\u001b[0m\u001b[1;33m,\u001b[0m \u001b[0mn_jobs\u001b[0m\u001b[1;33m=\u001b[0m\u001b[0mself\u001b[0m\u001b[1;33m.\u001b[0m\u001b[0m_n_jobs\u001b[0m\u001b[1;33m)\u001b[0m\u001b[1;33m:\u001b[0m\u001b[1;33m\u001b[0m\u001b[1;33m\u001b[0m\u001b[0m\n\u001b[0;32m    262\u001b[0m             return [func(*args, **kwargs)\n\u001b[1;32m--> 263\u001b[1;33m                     for func, args, kwargs in self.items]\n\u001b[0m\u001b[0;32m    264\u001b[0m \u001b[1;33m\u001b[0m\u001b[0m\n\u001b[0;32m    265\u001b[0m     \u001b[1;32mdef\u001b[0m \u001b[0m__reduce__\u001b[0m\u001b[1;33m(\u001b[0m\u001b[0mself\u001b[0m\u001b[1;33m)\u001b[0m\u001b[1;33m:\u001b[0m\u001b[1;33m\u001b[0m\u001b[1;33m\u001b[0m\u001b[0m\n",
      "\u001b[1;32m~\\Anaconda3\\lib\\site-packages\\joblib\\parallel.py\u001b[0m in \u001b[0;36m<listcomp>\u001b[1;34m(.0)\u001b[0m\n\u001b[0;32m    261\u001b[0m         \u001b[1;32mwith\u001b[0m \u001b[0mparallel_backend\u001b[0m\u001b[1;33m(\u001b[0m\u001b[0mself\u001b[0m\u001b[1;33m.\u001b[0m\u001b[0m_backend\u001b[0m\u001b[1;33m,\u001b[0m \u001b[0mn_jobs\u001b[0m\u001b[1;33m=\u001b[0m\u001b[0mself\u001b[0m\u001b[1;33m.\u001b[0m\u001b[0m_n_jobs\u001b[0m\u001b[1;33m)\u001b[0m\u001b[1;33m:\u001b[0m\u001b[1;33m\u001b[0m\u001b[1;33m\u001b[0m\u001b[0m\n\u001b[0;32m    262\u001b[0m             return [func(*args, **kwargs)\n\u001b[1;32m--> 263\u001b[1;33m                     for func, args, kwargs in self.items]\n\u001b[0m\u001b[0;32m    264\u001b[0m \u001b[1;33m\u001b[0m\u001b[0m\n\u001b[0;32m    265\u001b[0m     \u001b[1;32mdef\u001b[0m \u001b[0m__reduce__\u001b[0m\u001b[1;33m(\u001b[0m\u001b[0mself\u001b[0m\u001b[1;33m)\u001b[0m\u001b[1;33m:\u001b[0m\u001b[1;33m\u001b[0m\u001b[1;33m\u001b[0m\u001b[0m\n",
      "\u001b[1;32m~\\Anaconda3\\lib\\site-packages\\sklearn\\neighbors\\_base.py\u001b[0m in \u001b[0;36m_tree_query_parallel_helper\u001b[1;34m(tree, *args, **kwargs)\u001b[0m\n\u001b[0;32m    490\u001b[0m     \u001b[0munder\u001b[0m \u001b[0mPyPy\u001b[0m\u001b[1;33m.\u001b[0m\u001b[1;33m\u001b[0m\u001b[1;33m\u001b[0m\u001b[0m\n\u001b[0;32m    491\u001b[0m     \"\"\"\n\u001b[1;32m--> 492\u001b[1;33m     \u001b[1;32mreturn\u001b[0m \u001b[0mtree\u001b[0m\u001b[1;33m.\u001b[0m\u001b[0mquery\u001b[0m\u001b[1;33m(\u001b[0m\u001b[1;33m*\u001b[0m\u001b[0margs\u001b[0m\u001b[1;33m,\u001b[0m \u001b[1;33m**\u001b[0m\u001b[0mkwargs\u001b[0m\u001b[1;33m)\u001b[0m\u001b[1;33m\u001b[0m\u001b[1;33m\u001b[0m\u001b[0m\n\u001b[0m\u001b[0;32m    493\u001b[0m \u001b[1;33m\u001b[0m\u001b[0m\n\u001b[0;32m    494\u001b[0m \u001b[1;33m\u001b[0m\u001b[0m\n",
      "\u001b[1;31mKeyboardInterrupt\u001b[0m: "
     ]
    }
   ],
   "source": [
    "df_results = pd.DataFrame(columns = ['preproc_label', 'model_label', 'método', 'parámetros', 'columnas_out',\n",
    "                                     'auc_train', 'auc_val', 'threshold','f1_train', 'f1_val'])\n",
    "\n",
    "\n",
    "for xgb_params in tqdm(params_grid):\n",
    "    \n",
    "    for train_file in sorted(preproc_train):\n",
    "\n",
    "        preproc_label = train_file.split('_train')[0]\n",
    "\n",
    "        print('----------------------------------------------------------------------')\n",
    "        print(xgb_params)\n",
    "        print(train_file)\n",
    "        print('----------------------------------------------------------------------')\n",
    "\n",
    "        df_train = pd.read_csv(f'{PROCESSED}/{train_file}', compression = 'zip')\n",
    "        df_val = pd.read_csv(f'{PROCESSED}/{preproc_val[0]}', compression = 'zip')\n",
    "\n",
    "        X_train, y_train = df_train.drop(target, axis = 1), df_train[target]\n",
    "        X_val, y_val = df_val.drop(target, axis = 1), df_val[target]\n",
    "\n",
    "        knn = KNeighborsClassifier(n_neighbors = xgb_params[\"n_neighbors\"],p =xgb_params[\"p\"])\n",
    "        knn_fit = knn.fit( X_train,y_train )\n",
    "                        \n",
    "        \n",
    "        #xgb_params_export = xgb_params.copy()\n",
    "        #xgb_params_export.update(logi_fit.attributes())\n",
    "\n",
    "        probs_train = knn.predict(X_train)\n",
    "        probs_val = knn.predict(X_val)\n",
    "\n",
    "        auc_train = roc_auc_score(y_train, probs_train)\n",
    "        auc_val = roc_auc_score(y_val, probs_val)\n",
    "\n",
    "        #best threshold\n",
    "        prec, recall, threshold = precision_recall_curve(y_train, probs_train)\n",
    "        prec_recall = pd.DataFrame({'prec': prec[:-1], 'recall': recall[:-1], 'threshold': threshold})\n",
    "        prec_recall['f1'] = 2*prec_recall['prec']*prec_recall['recall'] / (prec_recall['prec'] + prec_recall['recall'])\n",
    "        prec_recall = prec_recall.sort_values(by = 'f1', ascending = False).head(1)\n",
    "\n",
    "        #f1 scores\n",
    "        best_threshold = prec_recall['threshold'].values[0]\n",
    "        f1_train = prec_recall['f1'].values[0]\n",
    "\n",
    "        labels_val = np.where(probs_val >= best_threshold, 1, 0)\n",
    "        f1_val = f1_score(y_val, labels_val)\n",
    "\n",
    "        print(f'auc_train: {auc_train:.6f} \\tauc_val: {auc_val:.6f} \\tf1_train: {f1_train:.6f} \\tf1_val: {f1_val:.6f}')\n",
    "\n",
    "        results = [preproc_label, 'KNeighborsClassifier', 'fit', xgb_params, '',\n",
    "                  auc_train, auc_val, best_threshold, f1_train, f1_val]\n",
    "\n",
    "\n",
    "        df_results.loc[len(df_results)] = results"
   ]
  },
  {
   "cell_type": "code",
   "execution_count": 17,
   "metadata": {},
   "outputs": [
    {
     "data": {
      "text/html": [
       "<div>\n",
       "<style scoped>\n",
       "    .dataframe tbody tr th:only-of-type {\n",
       "        vertical-align: middle;\n",
       "    }\n",
       "\n",
       "    .dataframe tbody tr th {\n",
       "        vertical-align: top;\n",
       "    }\n",
       "\n",
       "    .dataframe thead th {\n",
       "        text-align: right;\n",
       "    }\n",
       "</style>\n",
       "<table border=\"1\" class=\"dataframe\">\n",
       "  <thead>\n",
       "    <tr style=\"text-align: right;\">\n",
       "      <th></th>\n",
       "      <th>preproc_label</th>\n",
       "      <th>model_label</th>\n",
       "      <th>método</th>\n",
       "      <th>parámetros</th>\n",
       "      <th>columnas_out</th>\n",
       "      <th>auc_train</th>\n",
       "      <th>auc_val</th>\n",
       "      <th>threshold</th>\n",
       "      <th>f1_train</th>\n",
       "      <th>f1_val</th>\n",
       "    </tr>\n",
       "  </thead>\n",
       "  <tbody>\n",
       "    <tr>\n",
       "      <th>0</th>\n",
       "      <td>preprocess_v1_over50</td>\n",
       "      <td>KNeighborsClassifier</td>\n",
       "      <td>fit</td>\n",
       "      <td>{'n_neighbors': 5, 'p': 1}</td>\n",
       "      <td></td>\n",
       "      <td>0.948033</td>\n",
       "      <td>0.646267</td>\n",
       "      <td>1</td>\n",
       "      <td>0.950598</td>\n",
       "      <td>0.292578</td>\n",
       "    </tr>\n",
       "    <tr>\n",
       "      <th>1</th>\n",
       "      <td>preprocess_v1_smote20</td>\n",
       "      <td>KNeighborsClassifier</td>\n",
       "      <td>fit</td>\n",
       "      <td>{'n_neighbors': 5, 'p': 1}</td>\n",
       "      <td></td>\n",
       "      <td>0.849801</td>\n",
       "      <td>0.586403</td>\n",
       "      <td>1</td>\n",
       "      <td>0.770056</td>\n",
       "      <td>0.250441</td>\n",
       "    </tr>\n",
       "    <tr>\n",
       "      <th>2</th>\n",
       "      <td>preprocess_v1_smote50</td>\n",
       "      <td>KNeighborsClassifier</td>\n",
       "      <td>fit</td>\n",
       "      <td>{'n_neighbors': 5, 'p': 1}</td>\n",
       "      <td></td>\n",
       "      <td>0.951050</td>\n",
       "      <td>0.643785</td>\n",
       "      <td>1</td>\n",
       "      <td>0.953186</td>\n",
       "      <td>0.295737</td>\n",
       "    </tr>\n",
       "    <tr>\n",
       "      <th>3</th>\n",
       "      <td>preprocess_v1_smoteTomek20</td>\n",
       "      <td>KNeighborsClassifier</td>\n",
       "      <td>fit</td>\n",
       "      <td>{'n_neighbors': 5, 'p': 1}</td>\n",
       "      <td></td>\n",
       "      <td>0.853254</td>\n",
       "      <td>0.589248</td>\n",
       "      <td>1</td>\n",
       "      <td>0.783278</td>\n",
       "      <td>0.261741</td>\n",
       "    </tr>\n",
       "    <tr>\n",
       "      <th>4</th>\n",
       "      <td>preprocess_v1_smoteTomek50</td>\n",
       "      <td>KNeighborsClassifier</td>\n",
       "      <td>fit</td>\n",
       "      <td>{'n_neighbors': 5, 'p': 1}</td>\n",
       "      <td></td>\n",
       "      <td>0.953464</td>\n",
       "      <td>0.643389</td>\n",
       "      <td>1</td>\n",
       "      <td>0.955319</td>\n",
       "      <td>0.297090</td>\n",
       "    </tr>\n",
       "    <tr>\n",
       "      <th>5</th>\n",
       "      <td>preprocess_v1</td>\n",
       "      <td>KNeighborsClassifier</td>\n",
       "      <td>fit</td>\n",
       "      <td>{'n_neighbors': 5, 'p': 1}</td>\n",
       "      <td></td>\n",
       "      <td>0.583763</td>\n",
       "      <td>0.538339</td>\n",
       "      <td>1</td>\n",
       "      <td>0.281168</td>\n",
       "      <td>0.144928</td>\n",
       "    </tr>\n",
       "    <tr>\n",
       "      <th>6</th>\n",
       "      <td>preprocess_v1_under50</td>\n",
       "      <td>KNeighborsClassifier</td>\n",
       "      <td>fit</td>\n",
       "      <td>{'n_neighbors': 5, 'p': 1}</td>\n",
       "      <td></td>\n",
       "      <td>0.801419</td>\n",
       "      <td>0.668461</td>\n",
       "      <td>1</td>\n",
       "      <td>0.800645</td>\n",
       "      <td>0.259880</td>\n",
       "    </tr>\n",
       "    <tr>\n",
       "      <th>7</th>\n",
       "      <td>preprocess_v2_over50</td>\n",
       "      <td>KNeighborsClassifier</td>\n",
       "      <td>fit</td>\n",
       "      <td>{'n_neighbors': 5, 'p': 1}</td>\n",
       "      <td></td>\n",
       "      <td>0.952869</td>\n",
       "      <td>0.654187</td>\n",
       "      <td>1</td>\n",
       "      <td>0.954956</td>\n",
       "      <td>0.293253</td>\n",
       "    </tr>\n",
       "    <tr>\n",
       "      <th>8</th>\n",
       "      <td>preprocess_v2_smote20</td>\n",
       "      <td>KNeighborsClassifier</td>\n",
       "      <td>fit</td>\n",
       "      <td>{'n_neighbors': 5, 'p': 1}</td>\n",
       "      <td></td>\n",
       "      <td>0.849527</td>\n",
       "      <td>0.585618</td>\n",
       "      <td>1</td>\n",
       "      <td>0.769804</td>\n",
       "      <td>0.248680</td>\n",
       "    </tr>\n",
       "    <tr>\n",
       "      <th>9</th>\n",
       "      <td>preprocess_v2_smote50</td>\n",
       "      <td>KNeighborsClassifier</td>\n",
       "      <td>fit</td>\n",
       "      <td>{'n_neighbors': 5, 'p': 1}</td>\n",
       "      <td></td>\n",
       "      <td>0.950975</td>\n",
       "      <td>0.644593</td>\n",
       "      <td>1</td>\n",
       "      <td>0.953131</td>\n",
       "      <td>0.295880</td>\n",
       "    </tr>\n",
       "    <tr>\n",
       "      <th>10</th>\n",
       "      <td>preprocess_v2_smoteTomek20</td>\n",
       "      <td>KNeighborsClassifier</td>\n",
       "      <td>fit</td>\n",
       "      <td>{'n_neighbors': 5, 'p': 1}</td>\n",
       "      <td></td>\n",
       "      <td>0.853788</td>\n",
       "      <td>0.588912</td>\n",
       "      <td>1</td>\n",
       "      <td>0.784270</td>\n",
       "      <td>0.261307</td>\n",
       "    </tr>\n",
       "    <tr>\n",
       "      <th>11</th>\n",
       "      <td>preprocess_v2_smoteTomek50</td>\n",
       "      <td>KNeighborsClassifier</td>\n",
       "      <td>fit</td>\n",
       "      <td>{'n_neighbors': 5, 'p': 1}</td>\n",
       "      <td></td>\n",
       "      <td>0.953163</td>\n",
       "      <td>0.642541</td>\n",
       "      <td>1</td>\n",
       "      <td>0.955041</td>\n",
       "      <td>0.295169</td>\n",
       "    </tr>\n",
       "    <tr>\n",
       "      <th>12</th>\n",
       "      <td>preprocess_v2</td>\n",
       "      <td>KNeighborsClassifier</td>\n",
       "      <td>fit</td>\n",
       "      <td>{'n_neighbors': 5, 'p': 1}</td>\n",
       "      <td></td>\n",
       "      <td>0.584128</td>\n",
       "      <td>0.538289</td>\n",
       "      <td>1</td>\n",
       "      <td>0.282107</td>\n",
       "      <td>0.144796</td>\n",
       "    </tr>\n",
       "    <tr>\n",
       "      <th>13</th>\n",
       "      <td>preprocess_v2_under50</td>\n",
       "      <td>KNeighborsClassifier</td>\n",
       "      <td>fit</td>\n",
       "      <td>{'n_neighbors': 5, 'p': 1}</td>\n",
       "      <td></td>\n",
       "      <td>0.802625</td>\n",
       "      <td>0.671237</td>\n",
       "      <td>1</td>\n",
       "      <td>0.801882</td>\n",
       "      <td>0.261859</td>\n",
       "    </tr>\n",
       "    <tr>\n",
       "      <th>14</th>\n",
       "      <td>preprocess_v1_over50</td>\n",
       "      <td>KNeighborsClassifier</td>\n",
       "      <td>fit</td>\n",
       "      <td>{'n_neighbors': 5, 'p': 2}</td>\n",
       "      <td></td>\n",
       "      <td>0.946325</td>\n",
       "      <td>0.651668</td>\n",
       "      <td>1</td>\n",
       "      <td>0.949060</td>\n",
       "      <td>0.296661</td>\n",
       "    </tr>\n",
       "    <tr>\n",
       "      <th>15</th>\n",
       "      <td>preprocess_v1_smote20</td>\n",
       "      <td>KNeighborsClassifier</td>\n",
       "      <td>fit</td>\n",
       "      <td>{'n_neighbors': 5, 'p': 2}</td>\n",
       "      <td></td>\n",
       "      <td>0.853142</td>\n",
       "      <td>0.611356</td>\n",
       "      <td>1</td>\n",
       "      <td>0.759620</td>\n",
       "      <td>0.287375</td>\n",
       "    </tr>\n",
       "    <tr>\n",
       "      <th>16</th>\n",
       "      <td>preprocess_v1_smote50</td>\n",
       "      <td>KNeighborsClassifier</td>\n",
       "      <td>fit</td>\n",
       "      <td>{'n_neighbors': 5, 'p': 2}</td>\n",
       "      <td></td>\n",
       "      <td>0.939644</td>\n",
       "      <td>0.664970</td>\n",
       "      <td>1</td>\n",
       "      <td>0.942960</td>\n",
       "      <td>0.305788</td>\n",
       "    </tr>\n",
       "    <tr>\n",
       "      <th>17</th>\n",
       "      <td>preprocess_v1_smoteTomek20</td>\n",
       "      <td>KNeighborsClassifier</td>\n",
       "      <td>fit</td>\n",
       "      <td>{'n_neighbors': 5, 'p': 2}</td>\n",
       "      <td></td>\n",
       "      <td>0.864267</td>\n",
       "      <td>0.614511</td>\n",
       "      <td>1</td>\n",
       "      <td>0.779359</td>\n",
       "      <td>0.298130</td>\n",
       "    </tr>\n",
       "    <tr>\n",
       "      <th>18</th>\n",
       "      <td>preprocess_v1_smoteTomek50</td>\n",
       "      <td>KNeighborsClassifier</td>\n",
       "      <td>fit</td>\n",
       "      <td>{'n_neighbors': 5, 'p': 2}</td>\n",
       "      <td></td>\n",
       "      <td>0.940556</td>\n",
       "      <td>0.670795</td>\n",
       "      <td>1</td>\n",
       "      <td>0.943710</td>\n",
       "      <td>0.311318</td>\n",
       "    </tr>\n",
       "    <tr>\n",
       "      <th>19</th>\n",
       "      <td>preprocess_v1</td>\n",
       "      <td>KNeighborsClassifier</td>\n",
       "      <td>fit</td>\n",
       "      <td>{'n_neighbors': 5, 'p': 2}</td>\n",
       "      <td></td>\n",
       "      <td>0.598016</td>\n",
       "      <td>0.554396</td>\n",
       "      <td>1</td>\n",
       "      <td>0.318450</td>\n",
       "      <td>0.193057</td>\n",
       "    </tr>\n",
       "    <tr>\n",
       "      <th>20</th>\n",
       "      <td>preprocess_v1_under50</td>\n",
       "      <td>KNeighborsClassifier</td>\n",
       "      <td>fit</td>\n",
       "      <td>{'n_neighbors': 5, 'p': 2}</td>\n",
       "      <td></td>\n",
       "      <td>0.789100</td>\n",
       "      <td>0.656665</td>\n",
       "      <td>1</td>\n",
       "      <td>0.788959</td>\n",
       "      <td>0.249789</td>\n",
       "    </tr>\n",
       "  </tbody>\n",
       "</table>\n",
       "</div>"
      ],
      "text/plain": [
       "                 preproc_label           model_label método  \\\n",
       "0         preprocess_v1_over50  KNeighborsClassifier    fit   \n",
       "1        preprocess_v1_smote20  KNeighborsClassifier    fit   \n",
       "2        preprocess_v1_smote50  KNeighborsClassifier    fit   \n",
       "3   preprocess_v1_smoteTomek20  KNeighborsClassifier    fit   \n",
       "4   preprocess_v1_smoteTomek50  KNeighborsClassifier    fit   \n",
       "5                preprocess_v1  KNeighborsClassifier    fit   \n",
       "6        preprocess_v1_under50  KNeighborsClassifier    fit   \n",
       "7         preprocess_v2_over50  KNeighborsClassifier    fit   \n",
       "8        preprocess_v2_smote20  KNeighborsClassifier    fit   \n",
       "9        preprocess_v2_smote50  KNeighborsClassifier    fit   \n",
       "10  preprocess_v2_smoteTomek20  KNeighborsClassifier    fit   \n",
       "11  preprocess_v2_smoteTomek50  KNeighborsClassifier    fit   \n",
       "12               preprocess_v2  KNeighborsClassifier    fit   \n",
       "13       preprocess_v2_under50  KNeighborsClassifier    fit   \n",
       "14        preprocess_v1_over50  KNeighborsClassifier    fit   \n",
       "15       preprocess_v1_smote20  KNeighborsClassifier    fit   \n",
       "16       preprocess_v1_smote50  KNeighborsClassifier    fit   \n",
       "17  preprocess_v1_smoteTomek20  KNeighborsClassifier    fit   \n",
       "18  preprocess_v1_smoteTomek50  KNeighborsClassifier    fit   \n",
       "19               preprocess_v1  KNeighborsClassifier    fit   \n",
       "20       preprocess_v1_under50  KNeighborsClassifier    fit   \n",
       "\n",
       "                    parámetros columnas_out  auc_train   auc_val threshold  \\\n",
       "0   {'n_neighbors': 5, 'p': 1}                0.948033  0.646267         1   \n",
       "1   {'n_neighbors': 5, 'p': 1}                0.849801  0.586403         1   \n",
       "2   {'n_neighbors': 5, 'p': 1}                0.951050  0.643785         1   \n",
       "3   {'n_neighbors': 5, 'p': 1}                0.853254  0.589248         1   \n",
       "4   {'n_neighbors': 5, 'p': 1}                0.953464  0.643389         1   \n",
       "5   {'n_neighbors': 5, 'p': 1}                0.583763  0.538339         1   \n",
       "6   {'n_neighbors': 5, 'p': 1}                0.801419  0.668461         1   \n",
       "7   {'n_neighbors': 5, 'p': 1}                0.952869  0.654187         1   \n",
       "8   {'n_neighbors': 5, 'p': 1}                0.849527  0.585618         1   \n",
       "9   {'n_neighbors': 5, 'p': 1}                0.950975  0.644593         1   \n",
       "10  {'n_neighbors': 5, 'p': 1}                0.853788  0.588912         1   \n",
       "11  {'n_neighbors': 5, 'p': 1}                0.953163  0.642541         1   \n",
       "12  {'n_neighbors': 5, 'p': 1}                0.584128  0.538289         1   \n",
       "13  {'n_neighbors': 5, 'p': 1}                0.802625  0.671237         1   \n",
       "14  {'n_neighbors': 5, 'p': 2}                0.946325  0.651668         1   \n",
       "15  {'n_neighbors': 5, 'p': 2}                0.853142  0.611356         1   \n",
       "16  {'n_neighbors': 5, 'p': 2}                0.939644  0.664970         1   \n",
       "17  {'n_neighbors': 5, 'p': 2}                0.864267  0.614511         1   \n",
       "18  {'n_neighbors': 5, 'p': 2}                0.940556  0.670795         1   \n",
       "19  {'n_neighbors': 5, 'p': 2}                0.598016  0.554396         1   \n",
       "20  {'n_neighbors': 5, 'p': 2}                0.789100  0.656665         1   \n",
       "\n",
       "    f1_train    f1_val  \n",
       "0   0.950598  0.292578  \n",
       "1   0.770056  0.250441  \n",
       "2   0.953186  0.295737  \n",
       "3   0.783278  0.261741  \n",
       "4   0.955319  0.297090  \n",
       "5   0.281168  0.144928  \n",
       "6   0.800645  0.259880  \n",
       "7   0.954956  0.293253  \n",
       "8   0.769804  0.248680  \n",
       "9   0.953131  0.295880  \n",
       "10  0.784270  0.261307  \n",
       "11  0.955041  0.295169  \n",
       "12  0.282107  0.144796  \n",
       "13  0.801882  0.261859  \n",
       "14  0.949060  0.296661  \n",
       "15  0.759620  0.287375  \n",
       "16  0.942960  0.305788  \n",
       "17  0.779359  0.298130  \n",
       "18  0.943710  0.311318  \n",
       "19  0.318450  0.193057  \n",
       "20  0.788959  0.249789  "
      ]
     },
     "execution_count": 17,
     "metadata": {},
     "output_type": "execute_result"
    }
   ],
   "source": [
    "df_results"
   ]
  },
  {
   "cell_type": "code",
   "execution_count": 18,
   "metadata": {},
   "outputs": [],
   "source": [
    "MODELS = DATA/'models'"
   ]
  },
  {
   "cell_type": "code",
   "execution_count": 19,
   "metadata": {},
   "outputs": [],
   "source": [
    "df_results.to_csv(f'{MODELS}/KNeighborsClassifier.csv', index = False)"
   ]
  },
  {
   "cell_type": "code",
   "execution_count": 20,
   "metadata": {},
   "outputs": [],
   "source": [
    "df_results.to_csv('KNeighborsClassifier.csv')"
   ]
  },
  {
   "cell_type": "code",
   "execution_count": 21,
   "metadata": {},
   "outputs": [],
   "source": [
    "df_results.to_excel(f'{MODELS}/KNeighborsClassifier.xlsx', index = False)"
   ]
  }
 ],
 "metadata": {
  "kernelspec": {
   "display_name": "Python 3",
   "language": "python",
   "name": "python3"
  },
  "language_info": {
   "codemirror_mode": {
    "name": "ipython",
    "version": 3
   },
   "file_extension": ".py",
   "mimetype": "text/x-python",
   "name": "python",
   "nbconvert_exporter": "python",
   "pygments_lexer": "ipython3",
   "version": "3.7.9"
  }
 },
 "nbformat": 4,
 "nbformat_minor": 4
}
